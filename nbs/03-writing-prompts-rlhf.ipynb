{
  "cells": [
    {
      "cell_type": "markdown",
      "metadata": {
        "id": "6YzUa8EUOcwW"
      },
      "source": [
        "# Tune a language model to generate responses to writing prompts\n",
        "> Optimise a language model to produce responses to reddit writing prompts using a dataset of writing prompt response comparisons"
      ]
    },
    {
      "cell_type": "markdown",
      "metadata": {
        "id": "SksLXMnFOcwZ"
      },
      "source": [
        "## Setup experiment"
      ]
    },
    {
      "cell_type": "markdown",
      "metadata": {
        "id": "XesXYwlZOcwa"
      },
      "source": [
        "### Import dependencies"
      ]
    },
    {
      "cell_type": "code",
      "execution_count": 1,
      "metadata": {
        "id": "w74tkjxmOcwa"
      },
      "outputs": [],
      "source": [
        "%load_ext autoreload\n",
        "%autoreload 2"
      ]
    },
    {
      "cell_type": "code",
      "execution_count": 2,
      "metadata": {
        "id": "aML_uMGEOcwb"
      },
      "outputs": [],
      "source": [
        "# hide\n",
        "import sys\n",
        "sys.path.append(\"..\")"
      ]
    },
    {
      "cell_type": "code",
      "source": [
        "!nvidia-smi -L"
      ],
      "metadata": {
        "id": "8ohWYe33ofZM",
        "outputId": "b3923a6f-6243-4ef1-93bd-fb025f2a82d1",
        "colab": {
          "base_uri": "https://localhost:8080/"
        }
      },
      "execution_count": 3,
      "outputs": [
        {
          "output_type": "stream",
          "name": "stdout",
          "text": [
            "GPU 0: Tesla V100-SXM2-16GB (UUID: GPU-d395aee5-1b0f-3e88-8489-e00ff90f4b5e)\n"
          ]
        }
      ]
    },
    {
      "cell_type": "code",
      "source": [
        "!pip install wandb\n",
        "!pip install datasets\n",
        "!pip install transformers\n",
        "!pip install accelerate\n",
        "!pip install sentencepiece"
      ],
      "metadata": {
        "colab": {
          "base_uri": "https://localhost:8080/"
        },
        "id": "F5Ms0SU-X1uN",
        "outputId": "381b4452-03ed-421a-d479-1b1970555ad7"
      },
      "execution_count": 4,
      "outputs": [
        {
          "output_type": "stream",
          "name": "stdout",
          "text": [
            "Requirement already satisfied: wandb in /usr/local/lib/python3.7/dist-packages (0.12.15)\n",
            "Requirement already satisfied: pathtools in /usr/local/lib/python3.7/dist-packages (from wandb) (0.1.2)\n",
            "Requirement already satisfied: PyYAML in /usr/local/lib/python3.7/dist-packages (from wandb) (6.0)\n",
            "Requirement already satisfied: promise<3,>=2.0 in /usr/local/lib/python3.7/dist-packages (from wandb) (2.3)\n",
            "Requirement already satisfied: GitPython>=1.0.0 in /usr/local/lib/python3.7/dist-packages (from wandb) (3.1.27)\n",
            "Requirement already satisfied: Click!=8.0.0,>=7.0 in /usr/local/lib/python3.7/dist-packages (from wandb) (7.1.2)\n",
            "Requirement already satisfied: docker-pycreds>=0.4.0 in /usr/local/lib/python3.7/dist-packages (from wandb) (0.4.0)\n",
            "Requirement already satisfied: python-dateutil>=2.6.1 in /usr/local/lib/python3.7/dist-packages (from wandb) (2.8.2)\n",
            "Requirement already satisfied: psutil>=5.0.0 in /usr/local/lib/python3.7/dist-packages (from wandb) (5.4.8)\n",
            "Requirement already satisfied: sentry-sdk>=1.0.0 in /usr/local/lib/python3.7/dist-packages (from wandb) (1.5.10)\n",
            "Requirement already satisfied: setproctitle in /usr/local/lib/python3.7/dist-packages (from wandb) (1.2.3)\n",
            "Requirement already satisfied: requests<3,>=2.0.0 in /usr/local/lib/python3.7/dist-packages (from wandb) (2.23.0)\n",
            "Requirement already satisfied: six>=1.13.0 in /usr/local/lib/python3.7/dist-packages (from wandb) (1.15.0)\n",
            "Requirement already satisfied: protobuf>=3.12.0 in /usr/local/lib/python3.7/dist-packages (from wandb) (3.17.3)\n",
            "Requirement already satisfied: shortuuid>=0.5.0 in /usr/local/lib/python3.7/dist-packages (from wandb) (1.0.8)\n",
            "Requirement already satisfied: gitdb<5,>=4.0.1 in /usr/local/lib/python3.7/dist-packages (from GitPython>=1.0.0->wandb) (4.0.9)\n",
            "Requirement already satisfied: typing-extensions>=3.7.4.3 in /usr/local/lib/python3.7/dist-packages (from GitPython>=1.0.0->wandb) (4.1.1)\n",
            "Requirement already satisfied: smmap<6,>=3.0.1 in /usr/local/lib/python3.7/dist-packages (from gitdb<5,>=4.0.1->GitPython>=1.0.0->wandb) (5.0.0)\n",
            "Requirement already satisfied: certifi>=2017.4.17 in /usr/local/lib/python3.7/dist-packages (from requests<3,>=2.0.0->wandb) (2021.10.8)\n",
            "Requirement already satisfied: urllib3!=1.25.0,!=1.25.1,<1.26,>=1.21.1 in /usr/local/lib/python3.7/dist-packages (from requests<3,>=2.0.0->wandb) (1.25.11)\n",
            "Requirement already satisfied: chardet<4,>=3.0.2 in /usr/local/lib/python3.7/dist-packages (from requests<3,>=2.0.0->wandb) (3.0.4)\n",
            "Requirement already satisfied: idna<3,>=2.5 in /usr/local/lib/python3.7/dist-packages (from requests<3,>=2.0.0->wandb) (2.10)\n",
            "Requirement already satisfied: datasets in /usr/local/lib/python3.7/dist-packages (2.1.0)\n",
            "Requirement already satisfied: dill in /usr/local/lib/python3.7/dist-packages (from datasets) (0.3.4)\n",
            "Requirement already satisfied: packaging in /usr/local/lib/python3.7/dist-packages (from datasets) (21.3)\n",
            "Requirement already satisfied: huggingface-hub<1.0.0,>=0.1.0 in /usr/local/lib/python3.7/dist-packages (from datasets) (0.5.1)\n",
            "Requirement already satisfied: responses<0.19 in /usr/local/lib/python3.7/dist-packages (from datasets) (0.18.0)\n",
            "Requirement already satisfied: multiprocess in /usr/local/lib/python3.7/dist-packages (from datasets) (0.70.12.2)\n",
            "Requirement already satisfied: fsspec[http]>=2021.05.0 in /usr/local/lib/python3.7/dist-packages (from datasets) (2022.3.0)\n",
            "Requirement already satisfied: aiohttp in /usr/local/lib/python3.7/dist-packages (from datasets) (3.8.1)\n",
            "Requirement already satisfied: importlib-metadata in /usr/local/lib/python3.7/dist-packages (from datasets) (4.11.3)\n",
            "Requirement already satisfied: xxhash in /usr/local/lib/python3.7/dist-packages (from datasets) (3.0.0)\n",
            "Requirement already satisfied: tqdm>=4.62.1 in /usr/local/lib/python3.7/dist-packages (from datasets) (4.64.0)\n",
            "Requirement already satisfied: pandas in /usr/local/lib/python3.7/dist-packages (from datasets) (1.3.5)\n",
            "Requirement already satisfied: numpy>=1.17 in /usr/local/lib/python3.7/dist-packages (from datasets) (1.21.6)\n",
            "Requirement already satisfied: pyarrow>=5.0.0 in /usr/local/lib/python3.7/dist-packages (from datasets) (6.0.1)\n",
            "Requirement already satisfied: requests>=2.19.0 in /usr/local/lib/python3.7/dist-packages (from datasets) (2.23.0)\n",
            "Requirement already satisfied: pyyaml in /usr/local/lib/python3.7/dist-packages (from huggingface-hub<1.0.0,>=0.1.0->datasets) (6.0)\n",
            "Requirement already satisfied: typing-extensions>=3.7.4.3 in /usr/local/lib/python3.7/dist-packages (from huggingface-hub<1.0.0,>=0.1.0->datasets) (4.1.1)\n",
            "Requirement already satisfied: filelock in /usr/local/lib/python3.7/dist-packages (from huggingface-hub<1.0.0,>=0.1.0->datasets) (3.6.0)\n",
            "Requirement already satisfied: pyparsing!=3.0.5,>=2.0.2 in /usr/local/lib/python3.7/dist-packages (from packaging->datasets) (3.0.8)\n",
            "Requirement already satisfied: urllib3!=1.25.0,!=1.25.1,<1.26,>=1.21.1 in /usr/local/lib/python3.7/dist-packages (from requests>=2.19.0->datasets) (1.25.11)\n",
            "Requirement already satisfied: certifi>=2017.4.17 in /usr/local/lib/python3.7/dist-packages (from requests>=2.19.0->datasets) (2021.10.8)\n",
            "Requirement already satisfied: chardet<4,>=3.0.2 in /usr/local/lib/python3.7/dist-packages (from requests>=2.19.0->datasets) (3.0.4)\n",
            "Requirement already satisfied: idna<3,>=2.5 in /usr/local/lib/python3.7/dist-packages (from requests>=2.19.0->datasets) (2.10)\n",
            "Requirement already satisfied: frozenlist>=1.1.1 in /usr/local/lib/python3.7/dist-packages (from aiohttp->datasets) (1.3.0)\n",
            "Requirement already satisfied: async-timeout<5.0,>=4.0.0a3 in /usr/local/lib/python3.7/dist-packages (from aiohttp->datasets) (4.0.2)\n",
            "Requirement already satisfied: charset-normalizer<3.0,>=2.0 in /usr/local/lib/python3.7/dist-packages (from aiohttp->datasets) (2.0.12)\n",
            "Requirement already satisfied: asynctest==0.13.0 in /usr/local/lib/python3.7/dist-packages (from aiohttp->datasets) (0.13.0)\n",
            "Requirement already satisfied: yarl<2.0,>=1.0 in /usr/local/lib/python3.7/dist-packages (from aiohttp->datasets) (1.7.2)\n",
            "Requirement already satisfied: aiosignal>=1.1.2 in /usr/local/lib/python3.7/dist-packages (from aiohttp->datasets) (1.2.0)\n",
            "Requirement already satisfied: attrs>=17.3.0 in /usr/local/lib/python3.7/dist-packages (from aiohttp->datasets) (21.4.0)\n",
            "Requirement already satisfied: multidict<7.0,>=4.5 in /usr/local/lib/python3.7/dist-packages (from aiohttp->datasets) (6.0.2)\n",
            "Requirement already satisfied: zipp>=0.5 in /usr/local/lib/python3.7/dist-packages (from importlib-metadata->datasets) (3.8.0)\n",
            "Requirement already satisfied: python-dateutil>=2.7.3 in /usr/local/lib/python3.7/dist-packages (from pandas->datasets) (2.8.2)\n",
            "Requirement already satisfied: pytz>=2017.3 in /usr/local/lib/python3.7/dist-packages (from pandas->datasets) (2022.1)\n",
            "Requirement already satisfied: six>=1.5 in /usr/local/lib/python3.7/dist-packages (from python-dateutil>=2.7.3->pandas->datasets) (1.15.0)\n",
            "Requirement already satisfied: transformers in /usr/local/lib/python3.7/dist-packages (4.18.0)\n",
            "Requirement already satisfied: packaging>=20.0 in /usr/local/lib/python3.7/dist-packages (from transformers) (21.3)\n",
            "Requirement already satisfied: importlib-metadata in /usr/local/lib/python3.7/dist-packages (from transformers) (4.11.3)\n",
            "Requirement already satisfied: sacremoses in /usr/local/lib/python3.7/dist-packages (from transformers) (0.0.49)\n",
            "Requirement already satisfied: filelock in /usr/local/lib/python3.7/dist-packages (from transformers) (3.6.0)\n",
            "Requirement already satisfied: tqdm>=4.27 in /usr/local/lib/python3.7/dist-packages (from transformers) (4.64.0)\n",
            "Requirement already satisfied: tokenizers!=0.11.3,<0.13,>=0.11.1 in /usr/local/lib/python3.7/dist-packages (from transformers) (0.12.1)\n",
            "Requirement already satisfied: regex!=2019.12.17 in /usr/local/lib/python3.7/dist-packages (from transformers) (2019.12.20)\n",
            "Requirement already satisfied: numpy>=1.17 in /usr/local/lib/python3.7/dist-packages (from transformers) (1.21.6)\n",
            "Requirement already satisfied: huggingface-hub<1.0,>=0.1.0 in /usr/local/lib/python3.7/dist-packages (from transformers) (0.5.1)\n",
            "Requirement already satisfied: pyyaml>=5.1 in /usr/local/lib/python3.7/dist-packages (from transformers) (6.0)\n",
            "Requirement already satisfied: requests in /usr/local/lib/python3.7/dist-packages (from transformers) (2.23.0)\n",
            "Requirement already satisfied: typing-extensions>=3.7.4.3 in /usr/local/lib/python3.7/dist-packages (from huggingface-hub<1.0,>=0.1.0->transformers) (4.1.1)\n",
            "Requirement already satisfied: pyparsing!=3.0.5,>=2.0.2 in /usr/local/lib/python3.7/dist-packages (from packaging>=20.0->transformers) (3.0.8)\n",
            "Requirement already satisfied: zipp>=0.5 in /usr/local/lib/python3.7/dist-packages (from importlib-metadata->transformers) (3.8.0)\n",
            "Requirement already satisfied: urllib3!=1.25.0,!=1.25.1,<1.26,>=1.21.1 in /usr/local/lib/python3.7/dist-packages (from requests->transformers) (1.25.11)\n",
            "Requirement already satisfied: idna<3,>=2.5 in /usr/local/lib/python3.7/dist-packages (from requests->transformers) (2.10)\n",
            "Requirement already satisfied: certifi>=2017.4.17 in /usr/local/lib/python3.7/dist-packages (from requests->transformers) (2021.10.8)\n",
            "Requirement already satisfied: chardet<4,>=3.0.2 in /usr/local/lib/python3.7/dist-packages (from requests->transformers) (3.0.4)\n",
            "Requirement already satisfied: six in /usr/local/lib/python3.7/dist-packages (from sacremoses->transformers) (1.15.0)\n",
            "Requirement already satisfied: joblib in /usr/local/lib/python3.7/dist-packages (from sacremoses->transformers) (1.1.0)\n",
            "Requirement already satisfied: click in /usr/local/lib/python3.7/dist-packages (from sacremoses->transformers) (7.1.2)\n",
            "Requirement already satisfied: accelerate in /usr/local/lib/python3.7/dist-packages (0.6.2)\n",
            "Requirement already satisfied: numpy>=1.17 in /usr/local/lib/python3.7/dist-packages (from accelerate) (1.21.6)\n",
            "Requirement already satisfied: torch>=1.4.0 in /usr/local/lib/python3.7/dist-packages (from accelerate) (1.10.0+cu111)\n",
            "Requirement already satisfied: pyyaml in /usr/local/lib/python3.7/dist-packages (from accelerate) (6.0)\n",
            "Requirement already satisfied: typing-extensions in /usr/local/lib/python3.7/dist-packages (from torch>=1.4.0->accelerate) (4.1.1)\n",
            "Requirement already satisfied: sentencepiece in /usr/local/lib/python3.7/dist-packages (0.1.96)\n"
          ]
        }
      ]
    },
    {
      "cell_type": "code",
      "execution_count": 5,
      "metadata": {
        "id": "N34o7e3_Ocwc"
      },
      "outputs": [],
      "source": [
        "import torch\n",
        "import wandb\n",
        "import time\n",
        "import os\n",
        "from tqdm.auto import tqdm\n",
        "import numpy as np\n",
        "from torch.utils.data import DataLoader\n",
        "import pandas as pd\n",
        "import numpy as np\n",
        "import torch.nn.functional as F\n",
        "from torch.optim import Adam\n",
        "import torch\n",
        "import collections\n",
        "import time\n",
        "import random\n",
        "tqdm.pandas()\n",
        "\n",
        "from datasets import load_dataset, ClassLabel, load_metric\n",
        "\n",
        "from transformers import AutoConfig, AutoModel, AutoTokenizer, AutoModelForPreTraining\n",
        "from transformers import top_k_top_p_filtering\n",
        "from torch import nn\n",
        "from torch.nn import Identity\n",
        "import torch.nn.functional as F\n",
        "import torch\n",
        "\n",
        "from transformers import GPT2Tokenizer\n",
        "from transformers import AutoModelForSequenceClassification, AutoTokenizer, DataCollatorWithPadding, AdamW, get_scheduler, AutoModelForCausalLM, GPT2PreTrainedModel\n",
        "\n",
        "from accelerate import Accelerator\n",
        "\n",
        "# from trl_custom.model_value_head import LMHeadWithValueModel, respond_to_batch\n",
        "# from trl_custom.ppo import PPOTrainer"
      ]
    },
    {
      "cell_type": "code",
      "source": [
        "def flatten_dict(nested, sep='/'):\n",
        "    \"\"\"Flatten dictionary and concatenate nested keys with separator.\"\"\"\n",
        "    def rec(nest, prefix, into):\n",
        "        for k, v in nest.items():\n",
        "            if sep in k:\n",
        "                raise ValueError(f\"separator '{sep}' not allowed to be in key '{k}'\")\n",
        "            if isinstance(v, collections.Mapping):\n",
        "                rec(v, prefix + k + sep, into)\n",
        "            else:\n",
        "                into[prefix + k] = v\n",
        "    flat = {}\n",
        "    rec(nested, '', flat)\n",
        "    return flat\n",
        "\n",
        "def stack_dicts(stats_dicts):\n",
        "    \"\"\"Stack the values of a dict.\"\"\"\n",
        "    results = dict()\n",
        "    for k in stats_dicts[0]:\n",
        "        stats_list = [torch.flatten(d[k]) for d in stats_dicts]\n",
        "        results[k] = torch.stack(stats_list)\n",
        "    return results\n",
        "\n",
        "def add_suffix(input_dict, suffix):\n",
        "    \"\"\"Add suffix to dict keys.\"\"\"\n",
        "    return dict((k + suffix, v) for k,v in input_dict.items())\n",
        "\n",
        "# Cell\n",
        "\n",
        "def pad_to_size(tensor, size, dim=1, padding=50256):\n",
        "    \"\"\"Pad tensor to size.\"\"\"\n",
        "    t_size = tensor.size()[dim]\n",
        "    if t_size==size:\n",
        "        return tensor\n",
        "    else:\n",
        "        return torch.nn.functional.pad(tensor, (0,size-t_size), 'constant', padding)\n",
        "\n",
        "def logprobs_from_logits(logits, labels):\n",
        "    \"\"\"\n",
        "    See: https://github.com/pytorch/pytorch/issues/563#issuecomment-330103591\n",
        "    \"\"\"\n",
        "    logp = F.log_softmax(logits, dim=2)\n",
        "    logpy = torch.gather(logp, 2, labels.unsqueeze(2)).squeeze(-1)\n",
        "    return logpy\n",
        "\n",
        "\n",
        "def whiten(values, shift_mean=True):\n",
        "    \"\"\"Whiten values.\"\"\"\n",
        "    mean, var = torch.mean(values), torch.var(values)\n",
        "    whitened = (values - mean) * torch.rsqrt(var + 1e-8)\n",
        "    if not shift_mean:\n",
        "        whitened += mean\n",
        "    return whitened\n",
        "\n",
        "def clip_by_value(x, tensor_min, tensor_max):\n",
        "    \"\"\"\n",
        "    Tensor extenstion to torch.clamp\n",
        "    https://github.com/pytorch/pytorch/issues/2793#issuecomment-428784713\n",
        "    \"\"\"\n",
        "    clipped = torch.max(torch.min(x, tensor_max), tensor_min)\n",
        "    return clipped\n",
        "\n",
        "def entropy_from_logits(logits):\n",
        "    \"\"\"Calculate entropy from logits.\"\"\"\n",
        "    pd = torch.nn.functional.softmax(logits, dim=-1)\n",
        "    entropy = torch.logsumexp(logits, axis=-1) - torch.sum(pd*logits, axis=-1)\n",
        "    return entropy\n",
        "\n",
        "\n",
        "def average_torch_dicts(list_of_dicts):\n",
        "    \"\"\"Average values of a list of dicts wiht torch tensors.\"\"\"\n",
        "    average_dict = dict()\n",
        "    for key in list_of_dicts[0].keys():\n",
        "        average_dict[key] = torch.mean(torch.stack([d[key] for d in list_of_dicts]), axis=0)\n",
        "    return average_dict\n",
        "\n",
        "def stats_to_np(stats_dict):\n",
        "    \"\"\"Cast all torch.tensors in dict to numpy arrays.\"\"\"\n",
        "    new_dict = dict()\n",
        "    for k, v in stats_dict.items():\n",
        "        if isinstance(v, torch.Tensor):\n",
        "            new_dict[k] = v.detach().cpu().numpy()\n",
        "        else:\n",
        "            new_dict[k] = v\n",
        "        if np.isscalar(new_dict[k]):\n",
        "            new_dict[k] = float(new_dict[k])\n",
        "    return new_dict"
      ],
      "metadata": {
        "id": "CtaLOJeEYq6H"
      },
      "execution_count": 6,
      "outputs": []
    },
    {
      "cell_type": "code",
      "source": [
        "class ValueHead(nn.Module):\n",
        "    \"\"\"The ValueHead class implements a head for a language model that returns a scalar for each output token.\"\"\"\n",
        "    def __init__(self, config):\n",
        "        super().__init__()\n",
        "        self.summary_type = config.summary_type if hasattr(config, \"summary_type\") else \"last\"\n",
        "        if self.summary_type == \"attn\":\n",
        "            raise NotImplementedError\n",
        "\n",
        "        self.summary = Identity()\n",
        "        if hasattr(config, \"summary_use_proj\") and config.summary_use_proj:\n",
        "            if hasattr(config, \"summary_proj_to_labels\") and config.summary_proj_to_labels and config.num_labels > 0:\n",
        "                num_classes = config.num_labels\n",
        "            else:\n",
        "                num_classes = config.hidden_size\n",
        "            self.summary = nn.Linear(config.hidden_size, num_classes)\n",
        "\n",
        "        self.activation = Identity()\n",
        "        if hasattr(config, \"summary_activation\") and config.summary_activation == \"tanh\":\n",
        "            self.activation = nn.Tanh()\n",
        "\n",
        "        self.first_dropout = Identity()\n",
        "        if hasattr(config, \"summary_first_dropout\") and config.summary_first_dropout > 0:\n",
        "            self.first_dropout = nn.Dropout(config.summary_first_dropout)\n",
        "\n",
        "        self.last_dropout = Identity()\n",
        "        if hasattr(config, \"summary_last_dropout\") and config.summary_last_dropout > 0:\n",
        "            self.last_dropout = nn.Dropout(config.summary_last_dropout)\n",
        "\n",
        "        self.flatten = nn.Flatten()\n",
        "\n",
        "    def forward(self, hidden_states, cls_index=None):\n",
        "        output = hidden_states\n",
        "        output = self.first_dropout(output)\n",
        "        output = self.summary(output)\n",
        "        output = self.activation(output)\n",
        "        output = self.last_dropout(output)\n",
        "\n",
        "        return output\n",
        "\n",
        "# Cell\n",
        "\n",
        "class LMHeadWithValueModel(GPT2PreTrainedModel):\n",
        "    \"\"\"The LMHeadWithValueModel class implements a language model with a secondary, scalar head.\"\"\"\n",
        "    def __init__(self, config):\n",
        "        super().__init__(config)\n",
        "        config.num_labels = 1\n",
        "        self.transformer = AutoModel.from_config(config)\n",
        "        self.lm_head = nn.Linear(config.n_embd, config.vocab_size, bias=False)\n",
        "        self.v_head = ValueHead(config)\n",
        "\n",
        "        self.init_weights()\n",
        "    \n",
        "    def get_output_embeddings(self):\n",
        "        return self.lm_head\n",
        "\n",
        "    def forward(\n",
        "        self,\n",
        "        input_ids=None,\n",
        "        past_key_values=None,\n",
        "        attention_mask=None,\n",
        "        token_type_ids=None,\n",
        "        position_ids=None,\n",
        "        head_mask=None,\n",
        "        inputs_embeds=None,\n",
        "        mc_token_ids=None,\n",
        "        lm_labels=None,\n",
        "        mc_labels=None,\n",
        "    ):\n",
        "       \n",
        "        transformer_outputs = self.transformer(\n",
        "            input_ids,\n",
        "            past_key_values=past_key_values,\n",
        "            attention_mask=attention_mask,\n",
        "            token_type_ids=token_type_ids,\n",
        "            position_ids=position_ids,\n",
        "            head_mask=head_mask,\n",
        "            inputs_embeds=inputs_embeds,\n",
        "        )\n",
        "\n",
        "        hidden_states = transformer_outputs[0]\n",
        "\n",
        "        lm_logits = self.lm_head(hidden_states)\n",
        "        value = self.v_head(hidden_states).squeeze(-1)\n",
        "\n",
        "        outputs = (lm_logits,) + transformer_outputs[1:] + (value,)\n",
        "        \n",
        "        return outputs\n",
        "\n",
        "# Cell\n",
        "\n",
        "def respond_to_batch(model, queries, txt_len=20, top_k=0, top_p=1.0):\n",
        "    \"\"\"Sample text from language model.\"\"\"\n",
        "    input_ids = queries\n",
        "    for i in range(txt_len):\n",
        "        # Get Logits\n",
        "        outputs = model(input_ids)\n",
        "        next_token_logits = outputs[0][:, -1, :]\n",
        "        next_token_logits = top_k_top_p_filtering(next_token_logits, top_k=top_k, top_p=top_p)\n",
        "        # Sample\n",
        "        probs = F.softmax(next_token_logits, dim=-1)\n",
        "        next_token = torch.multinomial(probs, num_samples=1).squeeze(1)\n",
        "        input_ids = torch.cat([input_ids, next_token.unsqueeze(-1)], dim=-1)\n",
        "    return input_ids[:, -txt_len:]"
      ],
      "metadata": {
        "id": "LhLUVZIGYtXM"
      },
      "execution_count": 7,
      "outputs": []
    },
    {
      "cell_type": "code",
      "source": [
        "class AdaptiveKLController:\n",
        "    \"\"\"\n",
        "    Adaptive KL controller described in the paper:\n",
        "    https://arxiv.org/pdf/1909.08593.pdf\n",
        "    \"\"\"\n",
        "    def __init__(self, init_kl_coef, target, horizon):\n",
        "        self.value = init_kl_coef\n",
        "        self.target = target\n",
        "        self.horizon = horizon\n",
        "\n",
        "    def update(self, current, n_steps):\n",
        "        target = self.target\n",
        "        proportional_error = np.clip(current / target - 1, -0.2, 0.2)\n",
        "        mult = 1 + proportional_error * n_steps / self.horizon\n",
        "        self.value *= mult\n",
        "\n",
        "# Cell\n",
        "\n",
        "class FixedKLController:\n",
        "    \"\"\"Fixed KL controller.\"\"\"\n",
        "    def __init__(self, kl_coef):\n",
        "        self.value = kl_coef\n",
        "\n",
        "    def update(self, current, n_steps):\n",
        "        pass\n",
        "\n",
        "# Cell\n",
        "\n",
        "class PPOTrainer:\n",
        "    \"\"\"\n",
        "    The PPO_trainer uses Proximal Policy Optimization to optimise language models.\n",
        "    \"\"\"\n",
        "\n",
        "    default_params = {\n",
        "        \"lr\": 1.41e-5,\n",
        "        \"adap_kl_ctrl\": True,\n",
        "        \"init_kl_coef\":0.2,\n",
        "        \"target\": 6,\n",
        "        \"horizon\":10000,\n",
        "        \"gamma\":1,\n",
        "        \"lam\":0.95,\n",
        "        \"cliprange\": .2,\n",
        "        \"cliprange_value\":.2,\n",
        "        \"vf_coef\":.1,\n",
        "        \"batch_size\": 256,\n",
        "        \"forward_batch_size\": 16,\n",
        "        \"ppo_epochs\": 4,\n",
        "    }\n",
        "\n",
        "    def __init__(self, policy_model, ref_model, value_model, **ppo_params):\n",
        "        \"\"\"\n",
        "        Initialize PPOTrainer.\n",
        "        Args:\n",
        "            model (torch.model): Hugging Face transformer model with value head\n",
        "            ref_model (torch.model): Hugging Face transformer reference model used for KL penalty\n",
        "            ppo_params (dict or None): PPO parameters for training. Can include following keys:\n",
        "                'lr' (float): Adam learning rate, default: 1.41e-5\n",
        "                'batch_size' (int): Number of samples per optimisation step, default: 256\n",
        "                'forward_batch_size' (int): Number of samples forward passed through model at a time, default: 16\n",
        "                'ppo_epochs' (int): Number of optimisation epochs per batch of samples, default: 4\n",
        "                'gamma' (float)): Gamma parameter for advantage calculation, default: 1.\n",
        "                'lam' (float): Lambda parameter for advantage calcualation, default: 0.95\n",
        "                'cliprange_value' (float): Range for clipping values in loss calculation, default: 0.2\n",
        "                'cliprange' (float): Range for clipping in PPO policy gradient loss, default: 0.2\n",
        "                'vf_coef' (float): Scaling factor for value loss, default: 0.1\n",
        "                'adap_kl_ctrl' (bool): Use adaptive KL control, otherwise linear, default: True\n",
        "                'init_kl_coef' (float): Initial KL penalty coefficient (used for adaptive and linear control), default: 0.2\n",
        "                'target' (float): Target KL value for adaptive KL control, default: 6.0\n",
        "                'horizon' (float): Horizon for adaptive KL control, default: 10000\n",
        "        \"\"\"\n",
        "        self.ppo_params = self.default_params\n",
        "        self.ppo_params.update(ppo_params)\n",
        "\n",
        "        self.ref_model = ref_model\n",
        "        self.policy_model = policy_model\n",
        "        self.value_model = value_model\n",
        "        self.policy_optimizer = Adam(policy_model.parameters(), lr=self.ppo_params['lr'])\n",
        "        self.value_optimizer = Adam(value_model.parameters(), lr=self.ppo_params['lr'])\n",
        "\n",
        "        if self.ppo_params['adap_kl_ctrl']:\n",
        "            self.kl_ctl = AdaptiveKLController(self.ppo_params['init_kl_coef'],\n",
        "                                               self.ppo_params['target'],\n",
        "                                               self.ppo_params['horizon'])\n",
        "        else:\n",
        "            self.kl_ctl = FixedKLController(self.ppo_params['init_kl_coef'])\n",
        "\n",
        "\n",
        "    def step(self, query, response, scores):\n",
        "        \"\"\"\n",
        "        Run a PPO optimisation step.\n",
        "        args:\n",
        "            query (torch.tensor): tensor containing the encoded queries, shape [batch_size, query_length]\n",
        "            response (torch.tensor): tensor containing the encoded responses, shape [batch_size, response_length]\n",
        "            scores (torch.tensor): tensor containing the scores, shape [batch_size]\n",
        "        returns:\n",
        "            train_stats (dict): a summary of the training statistics\n",
        "        \"\"\"\n",
        "\n",
        "        bs = self.ppo_params['batch_size']\n",
        "        timing = dict()\n",
        "        t0 = time.time()\n",
        "\n",
        "        gen_len = response.shape[1]\n",
        "        model_input = torch.cat((query, response), axis=1)\n",
        "\n",
        "        t = time.time()\n",
        "        logprobs, ref_logprobs, values = self.batched_forward_pass(model_input, gen_len)\n",
        "        timing['time/ppo/forward_pass'] = time.time()-t\n",
        "\n",
        "        t = time.time()\n",
        "        rewards, non_score_reward, kl_coef = self.compute_rewards(scores, logprobs, ref_logprobs)\n",
        "        timing['time/ppo/compute_rewards'] = time.time()-t\n",
        "\n",
        "        t = time.time()\n",
        "        all_stats = []\n",
        "        idxs = list(range(bs))\n",
        "        for _ in range(self.ppo_params['ppo_epochs']):\n",
        "            random.shuffle(idxs)\n",
        "            for i in range(bs):\n",
        "                idx = idxs[i]\n",
        "                train_stats = self.train_minibatch(logprobs[idx:idx+1], values[idx:idx+1],\n",
        "                                                   rewards[idx:idx+1],\n",
        "                                                   response[idx:idx+1], model_input[idx:idx+1])\n",
        "                all_stats.append(train_stats)\n",
        "        timing['time/ppo/optimize_step'] = time.time()-t\n",
        "\n",
        "        t = time.time()\n",
        "        train_stats = stack_dicts(all_stats)\n",
        "\n",
        "        # reshape advantages/ratios such that they are not averaged.\n",
        "        train_stats['policy/advantages'] = torch.flatten(train_stats['policy/advantages']).unsqueeze(0)\n",
        "        train_stats['policy/ratio'] = torch.flatten(train_stats['policy/ratio']).unsqueeze(0)\n",
        "\n",
        "        stats = self.record_step_stats(scores=scores, logprobs=logprobs, ref_logprobs=ref_logprobs,\n",
        "                                       non_score_reward=non_score_reward, train_stats=train_stats,\n",
        "                                       kl_coef=kl_coef)\n",
        "        stats = stats_to_np(stats)\n",
        "        timing['time/ppo/calc_stats'] = time.time()-t\n",
        "\n",
        "        self.kl_ctl.update(stats['objective/kl'], self.ppo_params['batch_size'])\n",
        "\n",
        "        timing['time/ppo/total'] = time.time()-t0\n",
        "        stats.update(timing)\n",
        "        return stats\n",
        "\n",
        "    def batched_forward_pass(self, model_input, gen_len):\n",
        "        \"\"\"Calculate model outputs in multiple batches.\"\"\"\n",
        "        bs = self.ppo_params['batch_size']\n",
        "        fbs = self.ppo_params['forward_batch_size']\n",
        "        logprobs = []\n",
        "        ref_logprobs = []\n",
        "        values = []\n",
        "\n",
        "        for i in range(int(self.ppo_params['batch_size']/fbs)):\n",
        "            m_input = model_input[i*fbs:(i+1)*fbs]\n",
        "            logits, _, _ = self.policy_model(m_input)\n",
        "            _, _, v = self.value_model(m_input)\n",
        "            ref_logits, _, _ = self.ref_model(m_input)\n",
        "\n",
        "            values.append(v[:, -gen_len-1:-1].detach())\n",
        "            logprobs.append(logprobs_from_logits(logits[:,:-1,:], m_input[:,1:])[:, -gen_len:].detach())\n",
        "            ref_logprobs.append(logprobs_from_logits(ref_logits[:,:-1,:], m_input[:,1:])[:, -gen_len:].detach())\n",
        "\n",
        "        return torch.cat(logprobs), torch.cat(ref_logprobs), torch.cat(values)\n",
        "\n",
        "    def train_minibatch(self, logprobs, values, rewards, response, model_input):\n",
        "        \"\"\"Train one PPO minibatch\"\"\"\n",
        "        loss_p, train_stats  = self.loss_policy(logprobs, values, rewards, response, model_input)\n",
        "        loss_v = self.loss_value(values, rewards, response, model_input)\n",
        "        self.policy_optimizer.zero_grad()\n",
        "        self.value_optimizer.zero_grad()\n",
        "        loss_p.backward()\n",
        "        loss_v.backward()\n",
        "        self.policy_optimizer.step()\n",
        "        self.value_optimizer.step()\n",
        "        return train_stats\n",
        "\n",
        "    def compute_rewards(self, scores, logprobs, ref_logprobs):\n",
        "        \"\"\"Compute per token rewards from scores and KL-penalty.\"\"\"\n",
        "        kl = logprobs - ref_logprobs\n",
        "        non_score_reward = -self.kl_ctl.value * kl\n",
        "        rewards = non_score_reward.clone().detach()\n",
        "        rewards[:, -1] += scores\n",
        "        return rewards, non_score_reward, self.kl_ctl.value\n",
        "\n",
        "    def loss_value(self, values, rewards, response, model_input):\n",
        "        \"\"\"Calculate value loss\"\"\"\n",
        "        lastgaelam = 0\n",
        "        advantages_reversed = []\n",
        "        gen_len = response.shape[1]\n",
        "\n",
        "        for t in reversed(range(gen_len)):\n",
        "            nextvalues = values[:, t + 1] if t < gen_len - 1 else 0.0\n",
        "            delta = rewards[:, t] + self.ppo_params['gamma'] * nextvalues - values[:, t]\n",
        "            lastgaelam = delta + self.ppo_params['gamma'] * self.ppo_params['lam'] * lastgaelam\n",
        "            advantages_reversed.append(lastgaelam)\n",
        "        advantages = torch.stack(advantages_reversed[::-1]).transpose(0, 1)\n",
        "\n",
        "        returns = advantages + values\n",
        "        advantages = whiten(advantages)\n",
        "        advantages = advantages.detach()\n",
        "\n",
        "        logits, _, _ = self.policy_model(model_input)\n",
        "        _, _, vpred = self.value_model(model_input)\n",
        "\n",
        "        logprob = logprobs_from_logits(logits[:,:-1,:], model_input[:, 1:])\n",
        "\n",
        "        #only the generation part of the values/logprobs is needed\n",
        "        logprob, vpred = logprob[:, -gen_len:], vpred[:,-gen_len-1:-1]\n",
        "\n",
        "        vpredclipped = clip_by_value(vpred,\n",
        "                                     values - self.ppo_params[\"cliprange_value\"],\n",
        "                                     values + self.ppo_params[\"cliprange_value\"])\n",
        "\n",
        "        vf_losses1 = (vpred - returns)**2\n",
        "        vf_losses2 = (vpredclipped - returns)**2\n",
        "        vf_loss = .5 * torch.mean(torch.max(vf_losses1, vf_losses2))\n",
        "\n",
        "        return self.ppo_params['vf_coef'] * vf_loss\n",
        "\n",
        "    def loss_policy(self, old_logprobs, values, rewards, response, model_input):\n",
        "        \"\"\"Calculate policy loss.\"\"\"\n",
        "        lastgaelam = 0\n",
        "        advantages_reversed = []\n",
        "        gen_len = response.shape[1]\n",
        "\n",
        "        for t in reversed(range(gen_len)):\n",
        "            nextvalues = values[:, t + 1] if t < gen_len - 1 else 0.0\n",
        "            delta = rewards[:, t] + self.ppo_params['gamma'] * nextvalues - values[:, t]\n",
        "            lastgaelam = delta + self.ppo_params['gamma'] * self.ppo_params['lam'] * lastgaelam\n",
        "            advantages_reversed.append(lastgaelam)\n",
        "        advantages = torch.stack(advantages_reversed[::-1]).transpose(0, 1)\n",
        "\n",
        "        returns = advantages + values\n",
        "        advantages = whiten(advantages)\n",
        "        advantages = advantages.detach()\n",
        "\n",
        "        logits, _, _ = self.policy_model(model_input)\n",
        "        _, _, vpred = self.value_model(model_input)\n",
        "\n",
        "        logprob = logprobs_from_logits(logits[:,:-1,:], model_input[:, 1:])\n",
        "\n",
        "        #only the generation part of the values/logprobs is needed\n",
        "        logprob, vpred = logprob[:, -gen_len:], vpred[:,-gen_len-1:-1]\n",
        "\n",
        "        vpredclipped = clip_by_value(vpred,\n",
        "                                     values - self.ppo_params[\"cliprange_value\"],\n",
        "                                     values + self.ppo_params[\"cliprange_value\"])\n",
        "\n",
        "        vf_losses1 = (vpred - returns)**2\n",
        "        vf_losses2 = (vpredclipped - returns)**2\n",
        "        vf_loss = .5 * torch.mean(torch.max(vf_losses1, vf_losses2))\n",
        "        vf_clipfrac =  torch.mean(torch.gt(vf_losses2, vf_losses1).double())\n",
        "\n",
        "        ratio = torch.exp(logprob - old_logprobs)\n",
        "\n",
        "        pg_losses = -advantages * ratio\n",
        "        pg_losses2 = -advantages * torch.clamp(ratio,\n",
        "                                               1.0 - self.ppo_params['cliprange'],\n",
        "                                               1.0 + self.ppo_params['cliprange'])\n",
        "\n",
        "        pg_loss = torch.mean(torch.max(pg_losses, pg_losses2))\n",
        "        pg_clipfrac = torch.mean(torch.gt(pg_losses2, pg_losses).double())\n",
        "\n",
        "        entropy = torch.mean(entropy_from_logits(logits))\n",
        "        approxkl = .5 * torch.mean((logprob - old_logprobs)**2)\n",
        "        policykl = torch.mean(logprob - old_logprobs)\n",
        "        return_mean, return_var = torch.mean(returns), torch.var(returns)\n",
        "        value_mean, value_var = torch.mean(values), torch.var(values)\n",
        "\n",
        "        stats = dict(\n",
        "            loss=dict(policy=pg_loss, value=vf_loss),\n",
        "            policy=dict(entropy=entropy, approxkl=approxkl,policykl=policykl, clipfrac=pg_clipfrac,\n",
        "                        advantages=advantages, advantages_mean=torch.mean(advantages), ratio=ratio),\n",
        "            returns=dict(mean=return_mean, var=return_var),\n",
        "            val=dict(vpred=torch.mean(vpred), error=torch.mean((vpred - returns) ** 2),\n",
        "                     clipfrac=vf_clipfrac, mean=value_mean, var=value_var),\n",
        "        )\n",
        "        return pg_loss, flatten_dict(stats)\n",
        "\n",
        "\n",
        "    def record_step_stats(self, kl_coef, **data):\n",
        "        \"\"\"Record training step statistics.\"\"\"\n",
        "        kl = data['logprobs'] - data['ref_logprobs']\n",
        "        mean_kl = torch.mean(torch.sum(kl, axis=-1))\n",
        "        mean_entropy = torch.mean(torch.sum(-data['logprobs'], axis=1))\n",
        "        mean_non_score_reward =torch.mean(torch.sum(data['non_score_reward'], axis=1))\n",
        "        stats = {\n",
        "            'objective/kl': mean_kl,\n",
        "            'objective/kl_dist': kl,\n",
        "            'objective/logprobs': data['logprobs'],\n",
        "            'objective/ref_logprobs': data['ref_logprobs'],\n",
        "            'objective/kl_coef': kl_coef,\n",
        "            'objective/entropy': mean_entropy,\n",
        "            'ppo/mean_non_score_reward': mean_non_score_reward,\n",
        "        }\n",
        "\n",
        "        for k, v in data['train_stats'].items():\n",
        "            stats[f'ppo/{k}'] = torch.mean(v, axis=0)\n",
        "        stats['ppo/val/var_explained'] = 1 - stats['ppo/val/error'] / stats['ppo/returns/var']\n",
        "        return stats"
      ],
      "metadata": {
        "id": "dIla8m6KY2Px"
      },
      "execution_count": 8,
      "outputs": []
    },
    {
      "cell_type": "markdown",
      "metadata": {
        "id": "9K6OuopKOcwc"
      },
      "source": [
        "### Train Reward Model on Writing Prompt Response Comparisons"
      ]
    },
    {
      "cell_type": "code",
      "source": [
        "prompt_response_dataset = load_dataset(\"rewardsignal/reddit_writing_prompts\", data_files=\"prompt_responses_full.csv\", split='train[:80%]')"
      ],
      "metadata": {
        "colab": {
          "base_uri": "https://localhost:8080/"
        },
        "id": "vNRynAtbZHsY",
        "outputId": "89b48cb6-cd64-4477-9b30-818343b9868e"
      },
      "execution_count": 9,
      "outputs": [
        {
          "output_type": "stream",
          "name": "stderr",
          "text": [
            "Using custom data configuration rewardsignal--reddit_writing_prompts-dd5d2a64487ab606\n",
            "Reusing dataset csv (/root/.cache/huggingface/datasets/csv/rewardsignal--reddit_writing_prompts-dd5d2a64487ab606/0.0.0/433e0ccc46f9880962cc2b12065189766fbb2bee57a221866138fb9203c83519)\n"
          ]
        }
      ]
    },
    {
      "cell_type": "code",
      "source": [
        "prompt_response_dataset.features"
      ],
      "metadata": {
        "colab": {
          "base_uri": "https://localhost:8080/"
        },
        "id": "D6PzHCnYdm99",
        "outputId": "d8395447-e95f-438c-b748-6f228f4798e6"
      },
      "execution_count": 10,
      "outputs": [
        {
          "output_type": "execute_result",
          "data": {
            "text/plain": [
              "{'Unnamed: 0': Value(dtype='int64', id=None),\n",
              " 'num_responses': Value(dtype='float64', id=None),\n",
              " 'prompt': Value(dtype='string', id=None),\n",
              " 'prompt_created_utc': Value(dtype='float64', id=None),\n",
              " 'prompt_id': Value(dtype='string', id=None),\n",
              " 'prompt_score': Value(dtype='float64', id=None),\n",
              " 'response': Value(dtype='string', id=None),\n",
              " 'response_children': Value(dtype='string', id=None),\n",
              " 'response_created_utc': Value(dtype='float64', id=None),\n",
              " 'response_id': Value(dtype='string', id=None),\n",
              " 'response_rank': Value(dtype='float64', id=None),\n",
              " 'response_score': Value(dtype='float64', id=None),\n",
              " 'score_bin': Value(dtype='float64', id=None)}"
            ]
          },
          "metadata": {},
          "execution_count": 10
        }
      ]
    },
    {
      "cell_type": "code",
      "source": [
        "# tokenizer_name = input()\n",
        "# tokenizer_name = 'distilgpt2'\n",
        "# tokenizer = AutoTokenizer.from_pretrained(tokenizer_name, use_fast=True)\n",
        "# prompt_prefix = \"Writing Prompt: \"\n",
        "# response_prefix = \"Response: \"\n",
        "\n",
        "# def preprocess_text_function(examples):\n",
        "#   examples[\"prompt\"] = [prompt.replace('[WP] ', prompt_prefix) for prompt in examples[\"prompt\"]]\n",
        "#   examples[\"response\"] = [response_prefix + response for response in examples[\"response\"]]\n",
        "#   return tokenizer(examples['prompt'], examples['response'], truncation=True)\n",
        "\n",
        "# tokenized_reward_dataset = prompt_response_dataset.map(preprocess_text_function, batched=True)"
      ],
      "metadata": {
        "id": "Nn2gZrhWbH1z"
      },
      "execution_count": 11,
      "outputs": []
    },
    {
      "cell_type": "code",
      "source": [
        "# tokenized_reward_dataset = tokenized_reward_dataset.remove_columns(['Unnamed: 0', 'prompt_id', 'prompt', 'prompt_score', 'prompt_created_utc', 'response_id', 'response', 'response_score', 'response_created_utc', 'num_responses', 'response_children', 'score_bin']\n",
        "# )\n",
        "# tokenized_reward_dataset = tokenized_reward_dataset.rename_column('response_rank', 'labels')\n",
        "# def preprocess_labels_function(examples):\n",
        "#   examples['labels'] = 1 if (examples['labels'] == 0) else 0\n",
        "#   return examples\n",
        "# tokenized_reward_dataset = tokenized_reward_dataset.map(preprocess_labels_function)\n",
        "# tokenized_reward_dataset = tokenized_reward_dataset.cast_column('labels', ClassLabel(num_classes=2, names=['best', 'not-best'], names_file=None, id=None))\n",
        "# tokenized_reward_dataset.set_format(\"torch\")"
      ],
      "metadata": {
        "id": "XfNAYT3jpSKW"
      },
      "execution_count": 12,
      "outputs": []
    },
    {
      "cell_type": "code",
      "source": [
        "# reward_train_dataset = tokenized_reward_dataset.shuffle(seed=42).select(range(3*len(tokenized_reward_dataset)//4))\n",
        "# reward_eval_dataset = tokenized_reward_dataset.shuffle(seed=42).select(range(3*len(tokenized_reward_dataset)//4, len(tokenized_reward_dataset)))"
      ],
      "metadata": {
        "id": "XmSXC91IpUZ1"
      },
      "execution_count": 13,
      "outputs": []
    },
    {
      "cell_type": "code",
      "source": [
        "# # model_name = input()\n",
        "# tokenizer.pad_token = tokenizer.eos_token\n",
        "# data_collator = DataCollatorWithPadding(tokenizer=tokenizer)\n",
        "# reward_model_name = tokenizer_name\n",
        "# reward_model = AutoModelForSequenceClassification.from_pretrained(reward_model_name, num_labels=2)\n",
        "# reward_model.config.pad_token_id = reward_model.config.eos_token_id\n",
        "\n",
        "# train_dataloader = DataLoader(\n",
        "#     reward_train_dataset, shuffle=True, batch_size=4, collate_fn=data_collator\n",
        "# )\n",
        "# eval_dataloader = DataLoader(\n",
        "#     reward_eval_dataset, batch_size=4, collate_fn=data_collator\n",
        "# )\n",
        "\n",
        "# optimizer = AdamW(reward_model.parameters(), lr=3e-5)\n",
        "# accelerator = Accelerator()\n",
        "# train_dataloader, eval_dataloader, reward_model, optimizer = accelerator.prepare(train_dataloader, eval_dataloader, reward_model, optimizer)\n",
        "# num_epochs = 1\n",
        "# num_training_steps = num_epochs * len(train_dataloader)\n",
        "# lr_scheduler = get_scheduler(\n",
        "#     \"linear\",\n",
        "#     optimizer=optimizer,\n",
        "#     num_warmup_steps=0,\n",
        "#     num_training_steps=num_training_steps,\n",
        "# )\n",
        "\n",
        "# progress_bar = tqdm(range(num_training_steps))"
      ],
      "metadata": {
        "id": "6kan7BQ5qo1_"
      },
      "execution_count": 14,
      "outputs": []
    },
    {
      "cell_type": "code",
      "source": [
        "!pip install huggingface_hub\n",
        "!apt install git-lfs\n",
        "from huggingface_hub import notebook_login\n",
        "notebook_login()"
      ],
      "metadata": {
        "colab": {
          "base_uri": "https://localhost:8080/",
          "height": 726,
          "referenced_widgets": [
            "989c2fcfcf0f4081a3e20978533cf701",
            "b0d15cc3bb0c4d23b8b50dbe437bf69e",
            "49b238d5535549098b75894c15e3a689",
            "461cd07328f34faeb8cc9d7a58ce7319",
            "a3eda557535e467fa63fd15c4e8b6430",
            "91486bfb7b574fed98b526ca41c1cd82",
            "43a0ee33ddce45f287bdd3d344bdc499",
            "a3bfaead5ac644c5aee26bcc7a627349",
            "0c3a54184d1a4cc6af9498a8e34434e6",
            "a84c3452b40042398fe827054e67f286",
            "a56ec9e0ae964147a37686e6a1158584",
            "2c85f301870f4681b39d66a18728a74d",
            "588c7a00dd0e46e6878facd71fd9d82a",
            "4c8061b232b74ec89104ee1c8b316de5",
            "bcabaae178f840d5a48d3f6c7aa150f9",
            "4565f905f62c4cab802f4fe924d1f491",
            "a2204671658045df8598314b0e096845"
          ]
        },
        "id": "b3_FsD6uE8sl",
        "outputId": "ca3c4e5e-245d-409b-d89b-99af60fd122f"
      },
      "execution_count": 15,
      "outputs": [
        {
          "output_type": "stream",
          "name": "stdout",
          "text": [
            "Requirement already satisfied: huggingface_hub in /usr/local/lib/python3.7/dist-packages (0.5.1)\n",
            "Requirement already satisfied: importlib-metadata in /usr/local/lib/python3.7/dist-packages (from huggingface_hub) (4.11.3)\n",
            "Requirement already satisfied: typing-extensions>=3.7.4.3 in /usr/local/lib/python3.7/dist-packages (from huggingface_hub) (4.1.1)\n",
            "Requirement already satisfied: requests in /usr/local/lib/python3.7/dist-packages (from huggingface_hub) (2.23.0)\n",
            "Requirement already satisfied: packaging>=20.9 in /usr/local/lib/python3.7/dist-packages (from huggingface_hub) (21.3)\n",
            "Requirement already satisfied: pyyaml in /usr/local/lib/python3.7/dist-packages (from huggingface_hub) (6.0)\n",
            "Requirement already satisfied: filelock in /usr/local/lib/python3.7/dist-packages (from huggingface_hub) (3.6.0)\n",
            "Requirement already satisfied: tqdm in /usr/local/lib/python3.7/dist-packages (from huggingface_hub) (4.64.0)\n",
            "Requirement already satisfied: pyparsing!=3.0.5,>=2.0.2 in /usr/local/lib/python3.7/dist-packages (from packaging>=20.9->huggingface_hub) (3.0.8)\n",
            "Requirement already satisfied: zipp>=0.5 in /usr/local/lib/python3.7/dist-packages (from importlib-metadata->huggingface_hub) (3.8.0)\n",
            "Requirement already satisfied: idna<3,>=2.5 in /usr/local/lib/python3.7/dist-packages (from requests->huggingface_hub) (2.10)\n",
            "Requirement already satisfied: chardet<4,>=3.0.2 in /usr/local/lib/python3.7/dist-packages (from requests->huggingface_hub) (3.0.4)\n",
            "Requirement already satisfied: urllib3!=1.25.0,!=1.25.1,<1.26,>=1.21.1 in /usr/local/lib/python3.7/dist-packages (from requests->huggingface_hub) (1.25.11)\n",
            "Requirement already satisfied: certifi>=2017.4.17 in /usr/local/lib/python3.7/dist-packages (from requests->huggingface_hub) (2021.10.8)\n",
            "Reading package lists... Done\n",
            "Building dependency tree       \n",
            "Reading state information... Done\n",
            "git-lfs is already the newest version (2.3.4-1).\n",
            "0 upgraded, 0 newly installed, 0 to remove and 40 not upgraded.\n"
          ]
        },
        {
          "output_type": "display_data",
          "data": {
            "text/plain": [
              "VBox(children=(HTML(value='<center> <img\\nsrc=https://huggingface.co/front/assets/huggingface_logo-noborder.sv…"
            ],
            "application/vnd.jupyter.widget-view+json": {
              "version_major": 2,
              "version_minor": 0,
              "model_id": "989c2fcfcf0f4081a3e20978533cf701"
            }
          },
          "metadata": {}
        }
      ]
    },
    {
      "cell_type": "code",
      "execution_count": 16,
      "metadata": {
        "id": "5SCteoZXOcwd"
      },
      "outputs": [],
      "source": [
        "# reward_model.train()\n",
        "# for epoch in range(num_epochs):\n",
        "#     for batch in train_dataloader:\n",
        "#         outputs = reward_model(**batch)\n",
        "#         loss = outputs.loss\n",
        "#         accelerator.backward(loss)\n",
        "#         optimizer.step()\n",
        "#         lr_scheduler.step()\n",
        "#         optimizer.zero_grad()\n",
        "#         progress_bar.update(1)\n",
        "# reward_model.push_to_hub(tokenizer_name + \"_reward_model_02\", use_temp_dir=True)"
      ]
    },
    {
      "cell_type": "code",
      "source": [
        "# len(eval_dataloader)"
      ],
      "metadata": {
        "id": "r8mpwVk6qoDQ"
      },
      "execution_count": 17,
      "outputs": []
    },
    {
      "cell_type": "code",
      "execution_count": 18,
      "metadata": {
        "id": "uffB8CqiOcwg"
      },
      "outputs": [],
      "source": [
        "# metric = load_metric(\"accuracy\")\n",
        "# device = torch.device(\"cuda\") if torch.cuda.is_available() else torch.device(\"cpu\")\n",
        "# reward_model.to(device)\n",
        "# reward_model.eval()\n",
        "# count = 0\n",
        "# for batch in eval_dataloader:\n",
        "#     count += 1\n",
        "#     batch = {k: v.to(device) for k, v in batch.items()}\n",
        "#     with torch.no_grad():\n",
        "#         outputs = reward_model(**batch)\n",
        "\n",
        "#     logits = outputs.logits\n",
        "#     predictions = torch.argmax(logits, dim=-1)\n",
        "#     metric.add_batch(predictions=predictions, references=batch[\"labels\"])\n",
        "#     if (count % 1000 == 0):\n",
        "#       print(count)\n",
        "\n",
        "# metric.compute()"
      ]
    },
    {
      "cell_type": "markdown",
      "metadata": {
        "id": "untba8DWOcwg"
      },
      "source": [
        "### Fine-tune LM on responding to writing prompts "
      ]
    },
    {
      "cell_type": "code",
      "execution_count": 19,
      "metadata": {
        "id": "CBrg9zihOcwg",
        "outputId": "fcac5ff2-1a3f-499e-adf0-1fa4534b04e2",
        "colab": {
          "base_uri": "https://localhost:8080/"
        }
      },
      "outputs": [
        {
          "output_type": "stream",
          "name": "stdout",
          "text": [
            " "
          ]
        },
        {
          "output_type": "stream",
          "name": "stderr",
          "text": [
            "Loading cached processed dataset at /root/.cache/huggingface/datasets/csv/rewardsignal--reddit_writing_prompts-dd5d2a64487ab606/0.0.0/433e0ccc46f9880962cc2b12065189766fbb2bee57a221866138fb9203c83519/cache-5bc08506140d8b27.arrow\n"
          ]
        },
        {
          "output_type": "stream",
          "name": "stdout",
          "text": [
            " "
          ]
        },
        {
          "output_type": "stream",
          "name": "stderr",
          "text": [
            "Loading cached processed dataset at /root/.cache/huggingface/datasets/csv/rewardsignal--reddit_writing_prompts-dd5d2a64487ab606/0.0.0/433e0ccc46f9880962cc2b12065189766fbb2bee57a221866138fb9203c83519/cache-08bf676bb657ea28.arrow\n"
          ]
        },
        {
          "output_type": "stream",
          "name": "stdout",
          "text": [
            " "
          ]
        },
        {
          "output_type": "stream",
          "name": "stderr",
          "text": [
            "Loading cached processed dataset at /root/.cache/huggingface/datasets/csv/rewardsignal--reddit_writing_prompts-dd5d2a64487ab606/0.0.0/433e0ccc46f9880962cc2b12065189766fbb2bee57a221866138fb9203c83519/cache-a13ff98572a05dfb.arrow\n"
          ]
        },
        {
          "output_type": "stream",
          "name": "stdout",
          "text": [
            " "
          ]
        },
        {
          "output_type": "stream",
          "name": "stderr",
          "text": [
            "Loading cached processed dataset at /root/.cache/huggingface/datasets/csv/rewardsignal--reddit_writing_prompts-dd5d2a64487ab606/0.0.0/433e0ccc46f9880962cc2b12065189766fbb2bee57a221866138fb9203c83519/cache-12fa3a11c1a663cb.arrow\n"
          ]
        }
      ],
      "source": [
        "# tokenizer_name = input()\n",
        "tokenizer_name = 'distilgpt2'\n",
        "tokenizer = AutoTokenizer.from_pretrained(tokenizer_name, use_fast=True)\n",
        "prompt_prefix = \"Writing Prompt: \"\n",
        "response_prefix = \"Response: \"\n",
        "\n",
        "def preprocess_text_function(examples):\n",
        "  examples[\"prompt\"] = [prompt.replace('[WP] ', prompt_prefix) for prompt in examples[\"prompt\"]]\n",
        "  examples[\"response\"] = [response_prefix + response for response in examples[\"response\"]]\n",
        "  return tokenizer(examples['prompt'], examples['response'], truncation=True)\n",
        "\n",
        "tokenized_prompt_response_dataset = prompt_response_dataset.map(preprocess_text_function, batched=True, remove_columns=['Unnamed: 0', 'prompt_id', 'prompt', 'prompt_score', 'prompt_created_utc', 'response_id', 'response', 'response_score', 'response_created_utc', 'num_responses', 'response_children', 'score_bin', 'response_rank'], num_proc=4)\n"
      ]
    },
    {
      "cell_type": "code",
      "source": [
        "block_size = 512\n",
        "def group_texts(examples):\n",
        "    # Concatenate all texts.\n",
        "    concatenated_examples = {k: sum(examples[k], []) for k in examples.keys()}\n",
        "    total_length = len(concatenated_examples[list(examples.keys())[0]])\n",
        "    # We drop the small remainder, we could add padding if the model supported it instead of this drop, you can\n",
        "        # customize this part to your needs.\n",
        "    total_length = (total_length // block_size) * block_size\n",
        "    # Split by chunks of max_len.\n",
        "    result = {\n",
        "        k: [t[i : i + block_size] for i in range(0, total_length, block_size)]\n",
        "        for k, t in concatenated_examples.items()\n",
        "    }\n",
        "    result[\"labels\"] = result[\"input_ids\"].copy()\n",
        "    return result\n",
        "tokenized_prompt_response_dataset = tokenized_prompt_response_dataset.map(group_texts, batched=True, batch_size = 1000, num_proc = 4)"
      ],
      "metadata": {
        "colab": {
          "base_uri": "https://localhost:8080/"
        },
        "id": "tzwJMXgYbrNC",
        "outputId": "84917838-aeb5-4f79-e90a-3c7c0bfe15e5"
      },
      "execution_count": 20,
      "outputs": [
        {
          "output_type": "stream",
          "name": "stdout",
          "text": [
            " "
          ]
        },
        {
          "output_type": "stream",
          "name": "stderr",
          "text": [
            "Loading cached processed dataset at /root/.cache/huggingface/datasets/csv/rewardsignal--reddit_writing_prompts-dd5d2a64487ab606/0.0.0/433e0ccc46f9880962cc2b12065189766fbb2bee57a221866138fb9203c83519/cache-c95c481401b11fc4.arrow\n"
          ]
        },
        {
          "output_type": "stream",
          "name": "stdout",
          "text": [
            " "
          ]
        },
        {
          "output_type": "stream",
          "name": "stderr",
          "text": [
            "Loading cached processed dataset at /root/.cache/huggingface/datasets/csv/rewardsignal--reddit_writing_prompts-dd5d2a64487ab606/0.0.0/433e0ccc46f9880962cc2b12065189766fbb2bee57a221866138fb9203c83519/cache-c5840e979d00732e.arrow\n"
          ]
        },
        {
          "output_type": "stream",
          "name": "stdout",
          "text": [
            " "
          ]
        },
        {
          "output_type": "stream",
          "name": "stderr",
          "text": [
            "Loading cached processed dataset at /root/.cache/huggingface/datasets/csv/rewardsignal--reddit_writing_prompts-dd5d2a64487ab606/0.0.0/433e0ccc46f9880962cc2b12065189766fbb2bee57a221866138fb9203c83519/cache-33fcc7f14548838d.arrow\n"
          ]
        },
        {
          "output_type": "stream",
          "name": "stdout",
          "text": [
            " "
          ]
        },
        {
          "output_type": "stream",
          "name": "stderr",
          "text": [
            "Loading cached processed dataset at /root/.cache/huggingface/datasets/csv/rewardsignal--reddit_writing_prompts-dd5d2a64487ab606/0.0.0/433e0ccc46f9880962cc2b12065189766fbb2bee57a221866138fb9203c83519/cache-5af14d4e66eb4003.arrow\n"
          ]
        }
      ]
    },
    {
      "cell_type": "code",
      "source": [
        "tokenizer.decode(tokenized_prompt_response_dataset[1][\"input_ids\"])"
      ],
      "metadata": {
        "colab": {
          "base_uri": "https://localhost:8080/",
          "height": 125
        },
        "id": "132gx_ZrdB4Y",
        "outputId": "7f405a66-1141-4cad-9650-9f487d9e70ea"
      },
      "execution_count": 21,
      "outputs": [
        {
          "output_type": "execute_result",
          "data": {
            "text/plain": [
              "'�So… why did we let that dragon inside, exactly?” I asked.\\n\\n“Company policy, based on our past experiences,” he said. “The last woman whose emotional support dragon was denied entry, came back with her financial support lawyer.” He blew out a smoke ring. “Believe me when I say it is cheaper that way, and by a lot.”Writing Prompt: \"Ma\\'am you can\\'t bring your emotional support dragon inside the restaurant.\"Response: \"Well, why the hell not?!\"\\n\\nThe host flicked her eyes up to meet the unaffected gaze of the giant blue beast, and then back down to the woman who wore the bracelet which assigned it as hers.\\n\\n\"Ma\\'am, this is a small restaurant, he won\\'t fit inside,\" the host explained patiently, a bit astounded by the idea that this woman believed her enormous, full grown dragon would fit.\\n\\nThe lady huffed, then stammered, \"Well...what about outside seating.\"\\n\\nThe host surveyed the sidewalk area shaded by an awning that flapped about in the slight breeze. The tables were full but she spotted a family of four with their Manticore curled up beside them, the owner of whom was signing the receipt.\\n\\n\"Uhhh...it\\'ll be a 10 minute wait?\" the host tried.\\n\\nThe woman seemed reluctantly appeased by this and leaned against one of the awning poles to wait.\\n\\nThe family left, Manticore in tow, and the host snatched the receipt and rushed inside to get a busser on the table as soon as possible. As she squeezed past the commotion at table 5, where a mother and her many children, each with their own personal Pixie, was trying to control the havoc that the Pixies were wreaking, the manager caught the host\\'s attention.\\n\\nIn a conspiratorial voice, the manager said, \"Is that a dragon I see out there?\" The host nodded. The manager sighed and closed their eyes, pinching the bridge of their nose, as if a migraine had suddenly overtaken them. \"Did you already promise her a table?\" Another nod. \"It\\'s okay, it\\'s not your fault. You\\'re new, someone should have told you. We have a strict \\'no dragons\\' policy after the fiasco about a decade ago when someone\\'s fledgling yawned and set the awning on fire.\"\\n'"
            ],
            "application/vnd.google.colaboratory.intrinsic+json": {
              "type": "string"
            }
          },
          "metadata": {},
          "execution_count": 21
        }
      ]
    },
    {
      "cell_type": "code",
      "source": [
        "tokenized_prompt_response_dataset.set_format(\"torch\")"
      ],
      "metadata": {
        "id": "NiBYxbJWd4o6"
      },
      "execution_count": 22,
      "outputs": []
    },
    {
      "cell_type": "code",
      "source": [
        "# supervised_train_dataset = tokenized_prompt_response_dataset.shuffle(seed=42).select(range(3*len(tokenized_prompt_response_dataset)//4))\n",
        "# supervised_eval_dataset = tokenized_prompt_response_dataset.shuffle(seed=42).select(range(3*len(tokenized_prompt_response_dataset)//4, len(tokenized_prompt_response_dataset)))"
      ],
      "metadata": {
        "id": "kskJLMlYeAp9"
      },
      "execution_count": 23,
      "outputs": []
    },
    {
      "cell_type": "code",
      "source": [
        "# model_name = input()\n",
        "# from transformers import AutoModelForCausalLM\n",
        "# tokenizer.pad_token = tokenizer.eos_token\n",
        "# data_collator = DataCollatorWithPadding(tokenizer=tokenizer)\n",
        "# supervised_model_name = tokenizer_name\n",
        "# supervised_model = AutoModelForCausalLM.from_pretrained(supervised_model_name, num_labels=2)\n",
        "\n",
        "# train_dataloader = DataLoader(\n",
        "#     supervised_train_dataset, shuffle=True, batch_size=4, collate_fn=data_collator\n",
        "# )\n",
        "# eval_dataloader = DataLoader(\n",
        "#     supervised_eval_dataset, batch_size=4, collate_fn=data_collator\n",
        "# )\n",
        "\n",
        "# optimizer = AdamW(supervised_model.parameters(), lr=3e-5)\n",
        "# accelerator = Accelerator()\n",
        "# train_dataloader, eval_dataloader, supervised_model, optimizer = accelerator.prepare(train_dataloader, eval_dataloader, supervised_model, optimizer)\n",
        "# num_epochs = 1\n",
        "# num_training_steps = num_epochs * len(train_dataloader)\n",
        "# lr_scheduler = get_scheduler(\n",
        "#     \"linear\",\n",
        "#     optimizer=optimizer,\n",
        "#     num_warmup_steps=0,\n",
        "#     num_training_steps=num_training_steps,\n",
        "# )\n",
        "\n",
        "# progress_bar = tqdm(range(num_training_steps))"
      ],
      "metadata": {
        "id": "LHhf85zzeVqA"
      },
      "execution_count": 24,
      "outputs": []
    },
    {
      "cell_type": "code",
      "source": [
        "# supervised_model.train()\n",
        "# for epoch in range(num_epochs):\n",
        "#     for batch in train_dataloader:\n",
        "#         outputs = supervised_model(**batch)\n",
        "#         loss = outputs.loss\n",
        "#         accelerator.backward(loss)\n",
        "#         optimizer.step()\n",
        "#         lr_scheduler.step()\n",
        "#         optimizer.zero_grad()\n",
        "#         progress_bar.update(1)\n",
        "# supervised_model.push_to_hub(tokenizer_name + \"_supervised_model_01\", use_temp_dir=True)"
      ],
      "metadata": {
        "id": "qS_N1ez8e5a4"
      },
      "execution_count": 25,
      "outputs": []
    },
    {
      "cell_type": "code",
      "source": [
        "# device = torch.device(\"cuda\") if torch.cuda.is_available() else torch.device(\"cpu\")\n",
        "# saved_model = AutoModelForCausalLM.from_pretrained(\"anshr/distilgpt2_supervised_model_01\")\n",
        "# saved_model.to(device)\n",
        "# count = 0\n",
        "# for batch in eval_dataloader:\n",
        "#     count += 1\n",
        "#     batch = {k: v.to(device) for k, v in batch.items()}\n",
        "#     with torch.no_grad():\n",
        "#         outputs = saved_model.generate(**batch, max_length=512, min_length = 200)\n",
        "#         print(tokenizer.batch_decode(outputs, max_length = 512))\n",
        "#     if count == 10: break\n",
        "\n"
      ],
      "metadata": {
        "id": "fNChaDJ0y9wQ"
      },
      "execution_count": 26,
      "outputs": []
    },
    {
      "cell_type": "markdown",
      "metadata": {
        "id": "6H1xo6-KOcwi"
      },
      "source": [
        "## Load models"
      ]
    },
    {
      "cell_type": "markdown",
      "metadata": {
        "id": "miR36jNYOcwj"
      },
      "source": [
        "### Load Reward Model\n",
        "We load a DistilGPT2 classifier fine-tuned on the writing prompt dataset to predict whether a response is the best response (as judged by karma) or not."
      ]
    },
    {
      "cell_type": "code",
      "execution_count": 27,
      "metadata": {
        "id": "uqqAwnpSOcwj"
      },
      "outputs": [],
      "source": [
        "reward_model = AutoModelForSequenceClassification.from_pretrained(\"anshr/distilgpt2_reward_model_02\")\n",
        "reward_model_tokenizer = AutoTokenizer.from_pretrained(\"anshr/distilgpt2_reward_model_02\")"
      ]
    },
    {
      "cell_type": "markdown",
      "metadata": {
        "id": "atxMVcRyOcwk"
      },
      "source": [
        "The model outputs are the logits for the not-best and best classes. We will use the logits for the best class as a reward signal for the language model."
      ]
    },
    {
      "cell_type": "markdown",
      "metadata": {
        "id": "-YZQBaQdOcwl"
      },
      "source": [
        "### Load pre-trained DistilGPT2 language models"
      ]
    },
    {
      "cell_type": "markdown",
      "metadata": {
        "id": "YO6Uohs5Ocwl"
      },
      "source": [
        "We load the DistilGPT2 model with a value head and the tokenizer. We load the model twice; the first model is optimized while the second model serves as a reference to calculate the KL-divergence from the starting point. This serves as an additional reward signal in the PPO training to make sure the optimized model does not deviate too much from the original language model."
      ]
    },
    {
      "cell_type": "code",
      "execution_count": 28,
      "metadata": {
        "id": "STmOA8z6Ocwl",
        "colab": {
          "base_uri": "https://localhost:8080/"
        },
        "outputId": "0453ed47-1ba3-4a9f-e4af-7718c91f9e3a"
      },
      "outputs": [
        {
          "output_type": "stream",
          "name": "stderr",
          "text": [
            "Some weights of LMHeadWithValueModel were not initialized from the model checkpoint at anshr/distilgpt2_supervised_model_01 and are newly initialized: ['v_head.summary.bias', 'v_head.summary.weight']\n",
            "You should probably TRAIN this model on a down-stream task to be able to use it for predictions and inference.\n",
            "Some weights of LMHeadWithValueModel were not initialized from the model checkpoint at anshr/distilgpt2_supervised_model_01 and are newly initialized: ['v_head.summary.bias', 'v_head.summary.weight']\n",
            "You should probably TRAIN this model on a down-stream task to be able to use it for predictions and inference.\n",
            "Some weights of LMHeadWithValueModel were not initialized from the model checkpoint at anshr/distilgpt2_supervised_model_01 and are newly initialized: ['v_head.summary.bias', 'v_head.summary.weight']\n",
            "You should probably TRAIN this model on a down-stream task to be able to use it for predictions and inference.\n"
          ]
        }
      ],
      "source": [
        "policy_model = LMHeadWithValueModel.from_pretrained(\"anshr/distilgpt2_supervised_model_01\")\n",
        "policy_model_ref = LMHeadWithValueModel.from_pretrained(\"anshr/distilgpt2_supervised_model_01\")\n",
        "value_model = LMHeadWithValueModel.from_pretrained(\"anshr/distilgpt2_supervised_model_01\")\n",
        "policy_tokenizer = AutoTokenizer.from_pretrained(\"anshr/distilgpt2_supervised_model_01\")"
      ]
    },
    {
      "cell_type": "markdown",
      "metadata": {
        "id": "3ujpd45sOcwm"
      },
      "source": [
        "### Move models to GPU"
      ]
    },
    {
      "cell_type": "markdown",
      "metadata": {
        "id": "Nb5blwklOcwm"
      },
      "source": [
        "If `cuda` is available move the computations to the GPU."
      ]
    },
    {
      "cell_type": "code",
      "execution_count": 29,
      "metadata": {
        "id": "6A0aeLENOcwm"
      },
      "outputs": [],
      "source": [
        "device = torch.device(\"cuda\" if torch.cuda.is_available() else \"cpu\")"
      ]
    },
    {
      "cell_type": "code",
      "execution_count": 30,
      "metadata": {
        "id": "B-69JJ3FOcwm"
      },
      "outputs": [],
      "source": [
        "_ = reward_model.to(device)\n",
        "_ = policy_model.to(device)\n",
        "_ = policy_model_ref.to(device)\n",
        "_ = value_model.to(device)"
      ]
    },
    {
      "cell_type": "code",
      "source": [
        "config = {\n",
        "    \"steps\": 25600,\n",
        "    \"batch_size\": 256,\n",
        "    \"forward_batch_size\": 16,\n",
        "    \"ppo_epochs\": 4,   \n",
        "    \"txt_in_len\": 100,\n",
        "    \"txt_out_len\": 200,\n",
        "    \"lr\": 1.41e-5,\n",
        "    \"init_kl_coef\":0.2,\n",
        "    \"target\": 6,\n",
        "    \"horizon\":10000,\n",
        "    \"gamma\":1,\n",
        "    \"lam\":0.95,\n",
        "    \"cliprange\": .2,\n",
        "    \"cliprange_value\":.2,\n",
        "    \"vf_coef\":.1, \n",
        "}"
      ],
      "metadata": {
        "id": "PJB34Tg_SF7c"
      },
      "execution_count": 31,
      "outputs": []
    },
    {
      "cell_type": "code",
      "source": [
        "torch.cuda.empty_cache()\n",
        "fbs = config['forward_batch_size']\n",
        "df_batch = tokenized_prompt_response_dataset.shuffle().select(range(config[\"batch_size\"]))\n",
        "queries = [policy_tokenizer.decode(_) for _ in df_batch['input_ids'][:, :config[\"txt_in_len\"]].to(device)]\n",
        "query_tensors = df_batch['input_ids'][:, :config[\"txt_in_len\"]].to(device)\n",
        "query_tensors\n",
        "total_length = config['txt_in_len']+config['txt_out_len']\n",
        "response_tensors = []\n",
        "for i in range(int(config['batch_size']/fbs)):\n",
        "      response  = respond_to_batch(policy_model, query_tensors[i*fbs:(i+1)*fbs],\n",
        "                                     txt_len=config['txt_out_len'])\n",
        "      response_tensors.append(response)\n",
        "response_tensors = torch.cat(response_tensors)\n",
        "print(response_tensors.size())\n",
        "response = [policy_tokenizer.decode(response_tensors[i, :]) for i in range(config['batch_size'])]\n",
        "response\n"
      ],
      "metadata": {
        "id": "XGv8jmVOF0P0",
        "outputId": "6ca550b8-9b04-439b-aeae-8bddcd6ec6a6",
        "colab": {
          "base_uri": "https://localhost:8080/"
        }
      },
      "execution_count": 32,
      "outputs": [
        {
          "output_type": "stream",
          "name": "stdout",
          "text": [
            "torch.Size([256, 200])\n"
          ]
        },
        {
          "output_type": "execute_result",
          "data": {
            "text/plain": [
              "[\" people3 women and my brother were there. \\n\\n And after that, I disappeared first. Only four of them popping up, but the living room footage is showing me in a hospital bed. \\n\\n And a fat man recently had none of them. \\n\\n And, everyone who's ever seen the man seems to be actually Alice. \\n\\n \\nWriting Prompt: When you die, the world lights up, disturbing it. Accountants being hunted into hiding by criminals, hospitals and even politicians are trying to talk poopy bodies out of kryptonite.Response: I remember buying in from the supermarket.  I remembered it.  I haven’t stopped typing these tricks with impunity.  It was back then.  Those 21-something illegal street vendors were popping up all over the world sharing their new breath of fresh air.  I thought I had figured out a way to speed up the introduction of alcohol.  \\n\\nThey all drank and pretended they didn’\",\n",
              " \" child’s skin black and told her she was in the bathroom, and that he was an option in time for the future, in whispered demise.  This made Charlie an expert in both torture and time. His fingerprints were stamped this way, but his fingerprints were similar to Charlie's, so his fingerprints couldn’t be traced. It was exactly like when he killed thousands of houses and remains of humans, in the world, where humans stood each other for millennia.  \\n\\nAfter his last thought looked up, he laughed, which was nine months in the future. Before that his brush on the floor seemed to wash in tears and then things changed. Hatred went on for years before people left, and before he even needed much, everything was going well for him. Not to falter though, when he woke up multiple years later and the world was fatter than he had ever been, as he became more and more intolerable. He awoke brick by brick, shortly after\",\n",
              " ' looking closely at the subject. The edges of the earth on their abdominals were rather smooth and they either looked up or flared slightly during the 4-minute brief inquiry. Then, the creatures instantly flew up from their snouts to their heads and looked at the blue-green beam they were pointing at.\\n\\n“Ir, alien pod activated.”\\n\\n“Long way to go I ad like them. I’m sure that—you’ll be heavy on your notes child, or otherwise probably don’t. Lucy, rar’il Castro.”\\n\\n“Um, maybe you don’t understand, hallucinations are pretty common. I mean, angels are real. You might even imagine theyÙre real vampires no one knows. It’s? You’re involved with all these important events. That’s all pretty incredible. We can walk past you, but you ain’t',\n",
              " \" on all life and limb - almost as beautiful as the cameras showed - but the humans quickly start shooting at Martian Mars.Response: I have no idea how NASA or the International Space Station managed to plan all this down there. I honestly don't need to finish writing a damn entry, their all I need is a fucking walk on a shit-strewn planet. \\n\\nThey always thought they would stick around and look for signs of life. But when the humans came to Mars this time and sent those into orbit, they found us, they didn't even notice the stars. \\n\\nSo we left the Alpha team and headed for the spaceport where we learned to tag the rover to backup. The ISS whirred about a *second* while I wasn't sure I could log anything else out. Idiot. Going by Eugene had to realise it was 3 weeks prior pretty young Trevor banged up and flew out of the hull (don't guess that I'm kidding, those\",\n",
              " 'iated fat build. \\n\\n\"Nope, he never really said it... he said *\"No, bitch\".*\\n\\n----\\nIf you enjoyed this, please leave a comment at [+](https://www.reddit.com/r/WritingPrompts/) and I\\'ll write anything I can for you!*Writing Prompt: A mausoleum returns to the morgue where their bodies, now known as morgue, have been laid out in custom. So long as the coffin is unfog and sealed, the body returns.Response: I mean, hell, New Hampshire Power Park. Bring yourself back, but again, New Hampshire Power Park has one of those proper facilities.\\n\\nThe ghostly horde of corpses is often seen as religious, filth, et cetera, dressed in filth. They tend not to leave what they may actually be (or fought or killed). Literally.\\n\\nMyself included, is the afterlife. ',\n",
              " '\\n\\n“Well, you stepped through, huh?” Said the bear who was so scary inside and out pulled out a gun of reindigence from his backpack. “Is IdRios it?” I asked skeptically as I listened to the bear tell him to stop wang it in the hand?Writing Prompt: Turns out you are the god of the afterlife. The power of an outstanding amount of living on earth is to stay in the current state of bliss while you die. After slaughtering a devil from above, revive his carcass and give you his personal sign that your lifespan will last over a long time.Response: Carnal fever, the wind blasting in from above.  Deep under you, drizzled into what is now colder and wet, a tinny sack filled with winter cold bombs. The barrel hurts like a root or some sticky.  My nostrils itch like a mother on a winter coat that damn hoses, smelled like',\n",
              " '.\\n\\n“I think that means I had an accident up or down Mrs. 2002.”\\n\\n“Yes.”\\n\\n“How did they know?” Daniel croons, his face hanging cozily from his face. “What happens to the flames?”\\n\\n“And all you kids are pathetic.” He no longer cared how cryptic he was or how he had been when he saw her. He was more curious now than ever.\\n\\n“You\\'ll just plant any flowers or anything,” something that only seemed to bubble out from his mouth. “I don’t know what that means.”\\n\\n“God,” he said with a heavy, menacing chuckle. “I think he knows immediately everything that you used.”\\n\\n“Well, nice.\"\\n\\n“Really?”\\n\\n�Writing Prompt: A powerful sorcerer',\n",
              " ' me see if I can… Wait… wait… wait is… wait… wait no?”\\n\\n“No.” he says, peering at the stormlight everywhere in the neighborhood.\\nWriting Prompt: At 19, children with seemingly no parents were taught about “your parents. In return, they will carry you away to your cabin, where they are given another chance to explore, statistically speaking, their singular home.”Response: The heater sighed heavily as the world turned to ash. The sun glimmered at the fire. The food on the protagonist’ kitchen burnt in the molten air. A tree fell to the earth that warmed them. A mirror had shattered, and the fireplace had turned to ash from very close behind.\\n\\n\\nThe outrage had erupted among the villagers. Far away from our tribe, my ancestors had taken the newest home. A young girl, not much older than that speak, looked up from her thin spring skirt. The TV',\n",
              " ' warp drive that allows you to jump. You can\\'t take it, another incident, and now you return with a message: \"We have found all forms of life here and you are just here to take a dare.\"Response: I wonder if this is happenstance in time. I\\'ve been up here for a month, raising my arm. I\\'m also raised from the dead. Thanks. That\\'s it. I\\'m not taking anybody seriously wrong, besides, trying to save one human. I\\'m not necessarily an angel. I can do whatever I want.\\n\\nSaint Nene starts to worry to himself. He\\'s sure it\\'ll kill someone. He\\'ll do whatever he\\'d be willing to do, just like me.\\n\\nThree days later, crowds of people start coming to him from all the rest. No amount of people shouts to us, nobody tells us who, who, why *why* are they here? Instead there\\'s someone behind the scenes, filling the stadium',\n",
              " ' and shot out hit Shark pulse. Then, a scythe went through the valley. A woman thrust her body towards Shark, leaping ahead. \\n\\nAnother man, healing with fire, jumped up the rest of the assembled soldiers. Shark still felt adrenaline and was in shock. The speck of blood splattered. Yelling a scream. Blood everywhere he thought he could put his finger on. This is how it might end.\\n\\nTheir faces were happy with each other, smiling. Shark\\'s face flushed a little. He leaned back when she spoke, slowly caressing him. She smiled, warm and doubtful. He looked at her side. \"What just happened? How did he die?\"Writing Prompt: One morning in the middle of a desert desert, the four of you two best friends jump out the window while you\\'re cleaning other. You and your buddy are trying to make something enjoyable. The first thing you notices is that you\\'re talking telepathically about this time with',\n",
              " ' me. Suddenly I felt the slightest tension rise in Samuel Johnson’s face. If Sweeney was right, announced a whole new level of terrorism. He said in private that, if you want to draw attention to the security of his cubicle, tell them that he’d kill scores, they wouldn’t give him any chance. The reaction was almost too much, although deaths to cope with him were men. And then I had to make sure they did.\\n\\nAnd then one of the microphones rang.\\n\\nSaul Capman stood up. \"They said the President was here today, Mr. Sanders, and that the world had to be changed.\" Saul capman said, showing a small plump smile. \"So... we could say you have returned.\"\\n\\nI was somewhat shocked, but seated on an intimate court courthouse bench he had ran into for a 20 minute walk in the evening. Neat script. David Bowie, Gary Cooper, Ted Jones,',\n",
              " ' waiting for his armage.  At the same time, it suddenly dawned on him that he was the only person alive in American history who hadn\\'t been contacted by the CIA.  How did they know? \\n\\nDespite his palpable stutter, Todd was let out of the room and deposited in a net as limply as possible.  The President took refuge in his spot and replaced the last concrete post blocking his desk in hopes that his armor might be the only one with the power to move.  After 13 years, he figured out that all he needed was the right place to lift his coffee mug. \\n\\nIt was the coffee in his office.  Before he could even give an answer, he dragged himself into an awaiting room with papers laid before him. \\n\\n\"Welcome, here it is, Agent Howard!  A truly brave woman, you could tell that Captain Howard was a precious member of United States Navy.  Former President, THANK YOU!\"',\n",
              " 'I don\\'t think I am.\"\\n\\n\"I\\'m not... I swear.\" Jason spat.\\n\\n\"I-I\\'m in the matter now, but... Fkkkkkkkkk! I\\'ll stop making your kill!\"\\n\\n\"I\\'ve fled for this.\"\\n\\n\"Excuse me. The battle will begin!\"\\n\\nJason trailed off, and held out his hands up like a gentle hand, keeping a straightened thronecloak in place. The demon raised its head, one day, and slowly dipped it into the floor5/2 in anger.\\n\\n4/21/17\\n\\n**Old Testament Legends**\\n\\n**Sorry if any errors/questions, but something was off.**Writing Prompt: Hell is really flat, nobody shows up. Until recently, you just bothered to pick a place.Response: I sat on top of the Log House, and ready to kick out the trashy man with a tiny gift. I slowly stepped',\n",
              " ' over to the bar stewards infront of local kids\\'s playgrounds. I wrenched my wife\\'s coat in and pulled out my phone. Our second phone was by me.\\n\\nAt the window was a grandmother\\'s book who had sold her children\\'s books, send her blood for me and she wrote me her work. Trash stories. \"Help?\" I came running over to her in clientele--seeking supplies, strength, and supplies.\\n\\n\"Hey, I\\'m not measuring,\" she said reluctantly. I leaned over to take her hand and smiled. I flipped through her pages and wrote them in front of them. By then, more and more others were buying her extra supplies. Ghosts, aliens, vampires, werewolves, and other things. Many, I saw them in the middle of a picnic area at the bear market. People had survived the next few months with great machines of his/her work. \"It\\'ll be great,\" they said with excitement. \\n\\n\\nI',\n",
              " '\\'s began as a couple thousand years ago when I was a boy at the top of the World\\'s highest School of Psychology. I started at the school as a kid watching football in the streets and listening to their play out while they played the games.  \\n\"With all these power you shouldn\\'t do a fussy job in the classroom when all you have is to convince me, all you have is the problem of letting science wrong so that men and boys can get the job done, you\\'ll never get the funding to do things right.    If you\\'re not being honest, it\\'s something that does not help hurts you this way.  You\\'ve got a lot of expensive and useless tools anyway.\"  \\nAre you the teacher that said that? \\nI don\\'t respond, I just point and blink at the bleak lines. Writing Prompt: You never heard of ghosts, weird lights, or any other supernatural activity. However, on a bad day, you',\n",
              " \": Hidden topic these days!) The summoning ritual started long ago when it came to casting spells.\\n\\nIt was used in here, and for many years, humankind of the forsaken invader of a random dimension that didn't exist, had created a parallel universe, where the horrific creature soared through, where the inevitable end, the mortal race, not the violent elemental monsters, would find magic. Everything... that twisted human movements, struggling against human control like the gnarled faceless living. It was even named Maelitor, Sara.\\n\\nAndrea and Fredrick Pope, the people during those fools time I have known they called the Legendary player. \\n\\nI looked at the temples of many small villages, every village and whole village, and they were represented over and over, to speak of every creature that had ever been cast, and their faces twisted in utter horror, all in to sing their praises, and all around the village. I sat through the raucous\",\n",
              " ' food to eat, mugged for the post-apocalyptic side jobs. I stifled my frustration with the bronze that was left behind. I humored them as I set up the station. I admit it was stinking on the table in my office. I turned to the internet. It\\'s a little crooked. Just one word. Oldest spelling in English!\\n\\n\"Welcome to Earth! Welcome Night! We are part of the AsTheus Collective. Our services will resolve any issue.\" i began, on the internet, a chuckle floated across my face. \"Cedarwood Moon ride! Our Asteroid Salvage fleet coincidented to during the Second Galactic Extinction in November. Rockerter Wing. We landed at a broken and seaworthy landing site-\" it shifted to a logical position, directly in front of the Earth. \"This asteroid was perched on the cliff side of the planet, where our satellites beacon had been missing for weeks. Belly basking in the',\n",
              " 'ade. As expected, it glowed hot, seeming to just slip from space into the strange orange translucentness of space. It was a quizzical reminder of how life could be such weirdly beautiful.\\n\\n\"I\\'memon,\" she chuckled, wiping a tiny tear from her eye. \"You shouldn\\'t have any trouble breaking your lunchtime clocks.\"\\n\\nAyzo hadn\\'t been happy about it all. Though he was nervous first, her pale blue facial features punctuated his thinly veiled smile. It was a good sign, though.\\n\\n\"Can\\'t we ignore your birthday toast?\" she asked.[WP]Twenty years has passed and people have finally made the claim that their first born son, the Archunaktor, has mastered magic and can accurately rush memories out to find his prized abilities. As the number of born children grows terrifying, it becomes hard to ignore all their stories.Response: \"Hi, you\\'re one of the first born tellers that you lost',\n",
              " \". I had anyone walk around to touch my soil. I observed the sandy foliage, with new shades of purple and yellow splotches covering the overgrown terrain, and look outside. I'd seen the mailbox walls where the flowers, those damn flowers, may have been nice...a few rows of bushes that folded together at the edge of the fourth floor. I'd managed to break a building down in my way, thanks kindly to my mom. I'd even made venture out towards the barrier home that would allow for viewing. I'd preferred for the mathematics Math and Power Biomolecular Biology on my counter-top wall on the left-side shelf. What a difference if it had somehow survived to today?\\n\\nTruly one of the eldest beings in the newly formed class. *We're going to have to finish doing one of the Ph.D.'*\\n\\nClearly, no one expected to be gifted the difficult task of doing that job. A kid. A college student\",\n",
              " \" observing; \\n\\n>but many as they have all but gone away sacrificing their lives simply by pretending* \\n\\n> to worship The High’s chosen\\n\\n>Everyhold, hear and enjoy it\\n\\n>here,” \\n\\n>to try out whatever form destined for My existence will bring; \\n\\n>To explore Such Plot Fools as Change, It Returns,\\n\\n\\n\\n-> Leo, Lead Narrator;\\n\\n>Endorse me Glory:\\n\\n>Rage, Fear, Love, Faith,\\n\\n>Farce, Gilded the Deathless:\\n\\n>'It seems the true deceit of the Devil to grant me my infinite wisdom.'\\n\\n>Mr. Bovenizer,  Why are we calling for protective guardians, \\n\\n>NASA? \\n\\n>'I am a member of Incorporation!'\\n\\n>'Well, excuse me.”\\n\\n>'Why?�\",\n",
              " '\\nAngela: \"I know, Johann, I guess,\" thinking of her urgency. \"Try to find some sort of protective mechanism to protect yourself from HPD at all costs.  I know that it won\\'t cause you big trouble. I\\'ll call an ambulance now. There\\'s a familiar thing about the man. I\\'ve seen generations of patients touch *the* body of someone close to you.  Forgive me this time, your generosity will only make it ten more times.\" \\n\\nAngela: \"Not a gravelly thing.  It seems.  You should have known about your discomfort with them at the time.\"  Sure, now they\\'re dead, but you two have very similar symptoms, plus a growing number of female patients are dying. \"Even though...\" \\n\\nAngela: \"Yes, I know.  Perhaps that was something we had done already, it was too late.\"  Okay, I\\'ll talk with you one more time, so',\n",
              " '  The masses of light are dispersed.\\n\\nI leave the room.  Out of the shadows, the light escapes to us.\\n\\nNext to me lies a lady.  Before I can call in him.\\n\\nWe have all the memories in a timeline, all of us.\\n\\nDetermined to build the world up after everything is erased.\\n\\nThe use of words from the universe, time travel, the future, and whatever other nightmare told us about us brings it back to us.\\n\\nThrough dreams, plagued evil, suffering and the apocalypse, we are the victims of our own choices. Writing Prompt: When a baby is born they discover that the universe we live in is created and should be kept in amber. But every 1% of a child grows up believing that the universe is destroyed at some point in their life.Response: Kepler 12 conceived this one months ago.  How it is possible, the sapling would be a miracle given that it is',\n",
              " ' at great health.Response: The whole sky might be dark, at least I believed. \\n\\n_____\\n\\n   Generation I\\n\\nA large, humanoid voice, filled with sharp-alley tones and searing features. \"We have... thought of heaven as a funny thing,\" I responded to the tent. Bella squinted in delight with the suitcase, the small, silvery figure hanging down with almost the same form I had assumed from an intergalactic box. \\n\\nAs Bella carefully prepared for her ventures, she had forgotten it completely. \\n\\nI sat it down in a reasonable wooden box, leaning on the edge of the reinforced steel shelf stood a cardboard TV rack, untouched by other screens. \\n\\nI carefully expanded the lid, clicked the TV up, flipped through the small porthole, and slipped the TV back onto my table. My fluffy mouth and my tiny voice squeezed out as I readied my own black leather bed. \\n',\n",
              " \"uries to leave when meeting a person you hardly knew. To postpone it's inevitable, everyone just prepared to bitch asking Michael.\\n\\nMichael grasped the hold, caused it to follow normal routine for me, which allowed me to ask whoever was in front of me why the meeting was being called.\\n\\nNot everyone told me that I really dreamed about seeing my grandfather in person but since my imagination fluttered, my grandfather actually wasn't very funny either. At least, when I talked him off the rails more, I can't wait to see him again. I tried to get one more, then another, but Michael seemed to find me. He was standing next to me, oncoming down the hall to greet me. I recognized it as me. \\n\\nThank you for reading.Writing Prompt: Greetings mutt. After fifty years of contact, you finally reach the door to the next living room. Inside you blink as you find the name of your grandfather and the actual planet in\",\n",
              " '\\'re trying to ignore you.Response: \"That\\'s super easy,\" I profess. \\n\\n\"This is thanks to Levellinger of Sniper, who wants to write a story. He thinks you plan a story for me. Nevermind you call \\'Lucky, former heroin addict.\\'\"\\n\\nI only nodded as I lashed out. The reassuring feeling of embracing a fellow hero? I lift my pistol away and I sprint out toward the city. \\n\\n\"Captain! Can you see where?\"\\n\\nA grin spreads on his face and his sniper supervisor peers up at me from behind me. \\n\\n\"The villain, straight from the bloody Bishop, I got the switch. Guess we should go and kill the bastard of the city?\"\\n\\n\"The surfing skills won\\'t kill me. A character of a certain age should have a cheat history,\" a voice echoes out of the above tunnel. \\n\\nWe glance near the docks. \\n\\nNothing on this',\n",
              " ' by those torturous gnowsling tentacles.\\n\\n*2 years ago*\\n\\nHe\\'s gonna cry. It\\'s absolutely filthy, I\\'m just a fucking adult now.\\n\\n\"People desperately need to adjust what they\\'re living without. They need a load of exclamation stains. We need bodies and women and cats and black catcalls and content junkies non-disrespectfully canceling any Asian lifestyle imaginable. Look at the clown woman, there are all sorts of pasty things out there in Japan and Australia, you see reports! And no one has been seen enjoying this sight ever since. I just got detained, I\\'m stuck in an asylum... and I don\\'t know what they\\'re going to be able to find out. Pretty pathetic for them, so I keep trying to get them to sit their heads down and pretend they\\'re not staking this shit out! I don\\'t even know what these people are looking for, but I have only just gotten out of',\n",
              " ' that there is no actual reason for me to do so. That fellow isn\\'t particularly good or anything man you\\'ll meet and fall apart.\"\\n\\nI groaned, honestly. I had never really contemplated hypothetical possibilities to write. Why would ahead of time befall can help?\\n\\nSomething snapped back cells, lobotomized souls, and metal disks which promptly shimmered without any of us noticing. I decided to try writing well but there needed to be some relapsing back. I quickly went back to reloaded rejuvenation to fill out some form of code. \\n\\nGaining some influence over others is barely possible. People like me know this. \\n\\n(Gold doesn\\'t have *The Perilful* part)Writing Prompt: With the advent of technology, humanity is becoming a technological superpower. They need to visit the stars and wait... until the aliens discovered the ability to read minds. After a few weeks, however, the aliens are free to return.',\n",
              " ' a good strategy, and it’s kind of like a hobby oriented vehicle. We wanted to be the human equivalent of being in your dreams.\\n\\n-Time travel is a great idea, we really like it. Many scientists are saying that time travel is more complex, most physics have proven that DNA is made up of coherent nucleic acids and not only is it closely linked with your own DNA, but it has sensing and compatibility over time. That’s something we discover in live humans.\\n\\n-Today, you will hire cleaningmen from day 1 to 7, to help clean up our facilities for the next few months. To ensure preservation my beloved, you would be employed by you in about three months. We are your best friends.\\n\\n-I have two thank-yous. Thank you. Extra-Thank-yous, my wife, my dog, and our girl are all great friends. Plus, you will go with your PlayStation player and kill most',\n",
              " ' a curse upon him that would lock him down into ultimate orbit. Under his guard, he felt barricaded in and died.\\n\\nBut what was the point of this exile?\\n\\nTo this death, it was assured. Truly, the journey was captive to the tower, mountains of its chaos a layer of despair. \\n\\nA hoard of gold fell upon the hill to a small fort, which it had been mercifully whisked away from, and it was the first man to witness the changing into an empty tower. \\n\\nNo one remembered what she had done, and no one knew me.\\n\\nThe hoard was right beside her. The Idolians had gone mad with stories and supplies of priceless treasure. The men were frantic. One by one, there were fresh men and women of great warrior origin who felt compelled to flee. \\n\\nCaptain Salus showed no sign of being taken away from her.Writing Prompt: In a world where outcasts can suddenly',\n",
              " ' to tuberculosis patients, which was at the forefront of the first disaster.\\n\\n*Dr. Sewell once told me that with this strict screening procedure, had been extremely successful—with no severe symptoms—that he still had a tumor. Weeks later, he had managed to recreate his changes with sentience—an accelerated process of transmission that did not take too long to reproduce.\\n\\n[PART II](http://tvtropes.org/pmwiki/pmwiki.php/Stories/your-brothers/M17043443/)Writing Prompt: A compliant, but unfree society, changes, and genies ominously die. In the world of so-called \"geniesGenerous,\" criminals who can barrel a shotgun to kill, threatlessly rule the earth in their own land, have been given a chance to connect to other people in society. One day, you decide to go to a bar - no, they won\\'t!Response: \"Maybe, I\\'ll keep',\n",
              " '. Looking into their bedroom, I noticed the floor was pressing against the quartered curtains keep this place warm. Neither tile nor floor was bottoming liners. Piece by piece, it was a campfire for mosquitos and foreign diseases.\\n\\n\\nLovely, I saw it in the back of my lab coat, brushed the side of the fireplace and enveloped it with my work hat.\\n\\n\\n\"For the first time in my life, you and your wife will be entirely comfered at our National Hospital for Multiple Immigrants. No word yet on whether they are hopefuls or not, especially prospects.\" I whispered through my windowlock.\\n\\nWriting Prompt: You are a successful creative genie who can invent new technologies. When asked about the hidden job, you felt like you were being apathetic by doing the nitty gritty.Response: It must be something they have done for the past few years, especially as one of their old leadership teams contacted the National Museum of Humanity',\n",
              " \" doorway towards the third floor below us. She was too neutral in his eyes to see him right now, but I saw what he had to do. I was only a small hawk sitting straight watching from the windows of the living room where I’d watch an American escape the U.S. government's Robots. It was above my elbow that Lyria noticed a text from the inside of a text: one with a prompt with a prompt filled with cryptic titles: “Welcome to 500 Years”. The prompt had far too many lines, I found myself feeling bloodied, therapy tools I had stopped believing existed on my face one last time.\\n\\nIt was quickly forgotten by my older brother, who’d spent a dozen years canvassing the world about Odysseus. To Hell or anywhere, I had sworn my life would have been ruined.\\n\\nMost people were taken aback when it was written to a square stone, this had a ridiculous sentence abutting\",\n",
              " \" Silvers at my school, I saw the familiar figure next to me. The boy was expecting a fire and looking for something strange to come surround the door. That familiar figure was just sat there for a while and seemed to be oblivious to me. \\n\\nIt was a boy with black hair, pale eyes, very good, with blue eyes. It looked surprised and was weirder than anything I had ever seen, that must have made me uncomfortable. The boy looked surprised and confused. There was no sound or sound or smell in the hearthor, as if in a Dungeon or Something rather sinister.\\n\\nOf course that's what scared me most about these creatures. All of the monsters that are capable of killing humans entering the world were real monsters. Just like the ones that pull the trigger and seek for answers. The hunters that only had the ability to make any kind of quirk appears to be monster hunters with the ability to bend the mind, anything that involves the mind of\",\n",
              " '\\n\\n\"OK master, I tell you about...... the most popular historical legend... built immorality - heroes, romance, murder, madam-\"\\n\\n \\n\\n\\n\"The one who must have slipped through the veil, destroyed the life force, twisted them into the starting gun.\"\\n\\n\\n\\n\\nMelody snarled, \"So may I send you in?\" I asked. My lips quirked up from her eyes. He typed a few notes down as he smiled. I couldn\\'t get my eyes off Mr. Murray\\'s, \"that\\'s what\\'s the value of a quality they think you\\'re worthy – one in ten people is worth a government salary - and then your issue of that makes you unable to keep on punching through them, punish the less fortunate, or so the more-\"\\n\\n \\n\\n\\n\"You could do that. Eternal life, or you could lose what you once were, upon pluck them\"\\n\\n\\n\\n\\n\"You are, however, worthy.\"',\n",
              " \" Heroes. All the ways I could walk and work. A Jehovah's Witness will prove that I was right and I knew that it would do the wrong thing, right? I streamlined.\\n\\nWhen my mom told me to get up in the morning, she presented me with a guy with an electric whirring on his leg. He wasn't hot. He didn't hurt anything. He never hurt anybody. So I sat for him, and waited until morning.\\n\\nI waited until breakfast, and then ran off to become a millionaire. So many gifts. The only reason they could afford was the gifts. Everyone became rich. The best ones were the ones I could afford and enough to succeed every dream dream I ever dreamt about. \\n\\nSo then I just went back to work. Perfect. I did a math and created one huge office complex using my woe so I could invest as much as I could. Then I finished the whole project with a flashy plan involving information\",\n",
              " ' a cliff, and its silhouette is projected inspecting you. You give it a hug and reach over to your blanket to hug, before pressing it with you. You stifle a laugh, and anything goes.\\n\\nYou snort a low pensive laugh, tucked under your shirt. You cradle it, and hold all the warmth off the wall - it uses its journals in its support as a storage area. It\\'s a skeleton, so as to hide it. You raise it to look like you took care of it.\\n\\nYou finally reach the top of the cliff, and it closes the gap under your coat, before further shattering the downpour. One by one, it surfaces and whips into a large Sumerian cave. You shiver as it strikes again.\\n\\n\"It\\'s beautiful\" you cry.\\n\\n\"What did I bring you into?\" you hear a feminine voice.\\n\\nIt sounds as if you\\'re asleep.\\n\\nYou shout \"What\\'s',\n",
              " '. On the right was a rack of paper and a bit of a cardboard. The cold was unbearable. He rolled his eyes out and continued, \"I don\\'t say hi to anyone else. I\\'ve been late...\"\\n\\nMason raised his voice again in his head. \"John, I mean - I think they are, um,…one of the deepest pockets in the universe.\" He folded his hands sideways and tried to push his eyes away from the frantic cold. As terrible as that would sound, really how could he possibly be the only person who could tell people... except me?Writing Prompt: You read classified documents, Jim talks to you and says, \"Okay, okay.\"Response: Joseph, you have all heard about your new email service. Your first post is about what you have been attempting to gain call safekeeping. (Payback account?) My old password saved during a hack involve various music plays, but what is your other password? THEN YOUR bank account has the',\n",
              " \"heads returned\\nAnd so are their successes   \\nAnd they've settled   \\nIn the world of rumor then there is no body left \\nAnd a rude distraction  \\nWas no wish a supernatural creature loath  \\nWe owe rakes  \\nAll that goes on ice  \\nSurprised and challenged  \\nFor but such must only be  \\nGeralt quality and resourcefulness  \\nGeralt has once again erected a shrine  \\nConfronted by the brutality  \\nIn the bone of people and weapons with whom they prick  \\nWith dice, jewels, and hatred   \\nAnd so they are duped   \\nAnd the auspicious white monster taunts upon his people  \\nWith tales and histories  \\nHis reckoning  \\nThe tallest one  \\nTired of constant terror   \\nThe most luxurious monster has ever lived   \",\n",
              " ', but now I knew I was heading east. I thought of the only controls I had access to, the way that I had control of the speed of light after a lightning bolt. Something white. A holographic ship plowing its way into the sun. I thought about the tiny blue void. Nothingness and nothingness. Spotlight.\\n\\nThe ship rolled up. The radio crackled on, once more. Suddenly, the radio had answered. It had answered the word, \"Damn Light.\" The alien seemed to collapse like lightning, crushing the ship without fail. When I opened the antennae I pointed at it hit the ground, bending it back against something in my arms and slowing it to a safe spot.\\n\\nThe ship twitched and fell backward on one of its backfiring arms to catch the ship glowing in the direction the message was being transmitted to. Someone else picked up a piece of metal and pulled it back. \\n\\nA look of shock was sc',\n",
              " ' sir?\" said the man seated behind him.\\n\\n\"Nah I can\\'t do that,Writing Prompt: In a world where children are adopted, you can choose a life that lasts, they are sad and deprived of this time away and do not get old enough to truly care.Response: “What do you mean sad?” I asked, completely removing my metaphorical smile.  I returned to my driveway and started rolling my wheels. I forced my hand to grasp the small yellow gum on my front car door.  Feeling distracted, I turned and pushed the car door, trapping a few drivers between me and their vehicle and squeezing down the handlebars.  Honestly, I didn’t get used to it.\\n\\n“He’s been letting me down here for hours just trying to get him back to where he is getting his kids, don’t get him out there with me, die me, die me”\\n\\nI leaned',\n",
              " \" in a long while i have wanted to write a short story u know any criticism does at this point Everyone is welcome :)Writing Prompt: A group of android agents arrive, but you, a normal human, quickly reveals to the others the highly dangerous space travel methods no other humans have. They're keeping you under the wing of a militarized military unit (but in conformity to the VF's speech they have created allowed view of you to both board the ship and you have never seen one of the S.O.C's characters).Response: The doorbell rang, vibrating the room to cheers, and Cynthia entered. She was the sterness if you are lucky. She knew that she had discovered the controversial extraterrestrial agents of our ship and that she had forced to come up with ways to talk to the people of this industrial, wizardly \\\\*hole\\\\* in order to solve a problem to solve. She is nothing but a captive woman, putting so much effort into the job\",\n",
              " ' and stronger. \\n\\nBoth figures carefully showered their swords in anger hunting the sword in their hands. \\n\\nAdoia had nothing to fear however, he had a thick sword with them that was almost as easy to tip as she believed them to prior to the game. \\n\\nWith a bright flash of color he began to laugh bloodily. \\n\\n\"Calm down!\" shouts him, brushing his sweat. \\n\\n\"Stop\" \\n\\nThe sound of the blade dulled her blood, removing his blade from her lips just as immediately as the mage had taken her. Her bare knuckles were brimming with red and wisps of irises. \\n\\nInstead of anything resembling a pusher, it was a bubbling crystal at her chest. \\n\\nShe could faintly feel a burning sensation as her hands pulled outWriting Prompt: All the inventions in the world are held up to reap power by putting humans in danger. Unbek',\n",
              " ' after that. \\n\\nI got a chance to speak with him and after a long overdue spelling test it was time for me to look at him. I wondered if I knew this was where I wanted him. He reminded me of a dud who would always throw novel ideas at me. There was a wild flash of disappointment at the concept that seemed so odd whenWriting Prompt: He lets a nonexistent ghost tour every year. He come to visit me in the hallways on Monday, before walking to his dining room and looking in his pass. He thinks he might see me, but it doesn\\'t work.Response: Jack froze, hoping we would watch.\\n\\nThe knocking rattled him in his stomach so loudly. The glass glimmered open as he stepped into his trousers. He limped out of his room, righting for the pray-ay.\\n\\n\"Hey Jack, what\\'s your business?\"\\n\\n\"Oh. Staring for care. About me again,',\n",
              " ' my head into them and ready to hang I felt hope and quiet. The fear chills his time he had every thing to lose. He would understand me for everything it had but never even grow up a musician in the truest of all places. Until he found me. This band. It had loaded his buddy with drugs, two men named Gary, slowly warm up his back then appeared to be seeing it. The First One.\\n\\nIt didn’t take long to accept that it was a band I had not seen before. Andrew wrote about his own loneliness. He had brought me back when his memory of my friend Stanley came around. I never found him, and the goofiness kind of spoiled his life by revealing his lifeless form to the world that he was real killing. He’d found him again because he thought I made ‘the only man able’, while he thought I was a monster. After all, when the thought became everyday, you just walked',\n",
              " \" behind the wicked one.  Wands of light though.  And as long as you stop liking the devil wholeheartedly and stop procrastinating, there'll never be waves of disappointment right?  Right around this time?*\\n\\nThat wasn't the first time I listened to a demon.  That was the first time it's been such a busy day.  This whole time, I thought.  That definitely had to be.  My mother sat by the door clock, blearily following the moment in her life to see my son.  You know, beating him against his back?  I'm not sure how long since he knew about that trend, but he was always on hand.  This wasn't the first time i heard that a demon beings aren't happy so much with their meager lives, save for their eternal futility.  This wasn't the first time my mother said it seemed to barbarize.  Why would she do it to try to be successful?\",\n",
              " ' hair from my scalp.\\n\\n\"You came for this?\" I asked.\\n\\n\"Of course!\" she replied.\\n\\nI froze when I realized with complete surprise that \"you?\" she asked.\\n\\n\"Oh, my good, great, and what was this weird thing ever supposed to go on?\"\\n\\nSimultaneously she threw the pencils back down at my arm.\\n\\n\"Oh, it started much much sooner than I imagined.\" She stated. Then she began to process her reactions as I stood up, placing her hand gently on Simpler\\'s back, and pointed the pencil at her arm.\\n\\n\"No,\" she proclaim. \"You\\'re losing. And you\\'re walking in the middle of my way…\"\\n\\n\"What?\"\\n\\n\"All right, so on,\" she say with a smile.\\n\\n\"You manifested a feeling of happiness?\"\\n\\n\"All right,\" I replied.\\n\\n\"You have such a sharp feeling before',\n",
              " ', of course it was just that she was really off the clock, and she seemed off to it around no matter how few ticks she was off.\\n\\n“Language.” Mum came in, “What language are you signing?”Writing Prompt: Tell goddamn christmas, except your computer shows you handwriting.Response: My mother used to give me a special daughter for christmas as well. \\n\\n\"Don\\'t get me wrong, I have to get out.\" She said as we tried to talk. \\n\\nWith my toy mom from school I realized it was the intent that reinforced me to find the right word for the word email.\\n\\nBut in the end, I knew her was the wrong word. She was meaning someone wanted lots of other things with her, and everything was in its place. It was easy to find out too very quickly, of course. Just look at her, it was like she was falling under something, making it appear',\n",
              " ' of El Ichleren was said to involve members of Joes, 3 of Nloc and people of the Zodiac who developed different abilities but no one seemed to thank who the superhero was to join--they only remained to gain alcohol just as their cars drove along roads and highways. Finally, Joes, Oswald, Tomas and Gabriel, the supervillain allies that picked up the heroes, pulled in their server, loaded a new spook back to the WUK. \\n\\nMissiles slammed into each other. Monkeys as if they were racing. Literally blocking each other. \\n\\n\"AKNI zBadge Hefter®\" the party man blurts out, \"May head back to home.\\\\--------------------------------------------------------------------------------------------------------------------------------------------------------------------------------------------------------------------------------------------------------------------------------------------------------------------------------------------------------------------------------------------------------------------------------------------------------------------------------------------------------------------------------------------------------------------------------------------------------------------------------------------------------------------------------------------------------------------------------------------------------------------------------------------------------------------------------------------------------------------------------------------------------------------------------------------------------------------------------------------------------------------------------------------------------------------------------------------------------------------------------------------------------------------------------------------------------------------------------------------------------------------------------------------------------------------------------------------------------------------------------------------------------------------------------------------------------------------------------------------------------------------------------------------------------------------------------------------------------------------------------------------------------------------------------------------------------------------------------------------------------------------------------------------------------------------------------------------------------------------------------------------------------------------------------------------------------------------------------------------------------------------------------------------------------------------------------------------------------------------------------------------------------------------------------------------------------------------------------------------------------------------------------------------------------------------------------------------------------------------------------------------------------------------------------------------------------------------------------------------------------------------------------------------------------------------------------------------------------------------------------------------------------------------------------------------------------------------------------------------------------------------------------------------------------------------------------------------------------------------------------------------------------------------------------------------------------------------------------------------------------------------------------------------------------------------------------------------------------------------------------------------------------------------------------------------------------------------------------------------------------------------------------------------------------------------------------------------------------------------------------------------------------------------------------------------------------------------------------------------------------------------------------',\n",
              " '�we, Dr. Sandler!” He stood up slightly and then back stepped back down the hallway leading right to the computer room where the Nobel-medicine surgeon’s bedside mirror wall was. “We have an author,” Ms. Sandler said. “Professor Sandler, you recall, says a doctor is not the same as the one you had.” Mr. Sandler explained, “*Her* is the result of genetic editing.” Dr. Copper had finally made an appointment, “We said your doctor was already dead!”\\n\\nDr. Madlen grinned. “With that, Dr. Sandler. You are here, Professor Sandler. We are a co-doctor and you and all of the others you have worked on never encountered the same conditions. Many of you were inspired to not hesitate to the start of your project, in our knowing way’s done in the past',\n",
              " ' him.\\n\\nI thank Satan,\\n\\nBeloved and pious, he poofed me delicately.  But no one ever seemed to notice looking around.  I should know.\\n\\n\"Never?\" the man asks.  \\n\\n\"Who are you?\"  \"everybody who knows, they are bound to see.\"\\n\\nHe gasps.\\n\\nAlmost half a dozen nods already, and one that had marked his death far behind.  \"Then the things we have to do...\"\\n\\nI quietly turn back at him, and his eyes gaze clean off my desk.  \"We need to examine another person after his death.  We need to stop the cycle of cowering in the shadows.  We need to stop the rate of the exodus on Mars and unlock a microtransport to the earth.\"\\n\\n\"Wow.  Look, black hole.\"  \"How makes me halfpipe a life freeze.\" \\n\\nHe is quiet',\n",
              " ' asked rather seriously.\\n\\n\"peasolice, sate español,\" Jesus said, and went off camping.Writing Prompt: The vampire king asked the vampire king about the human male form of the vampire king. The king was very insistent that he wanted the human female to give her a female form (white female).Response: Hands crossed in haggard silence, surrounded by silence. I sat in the midst of reaching out and whispering. The animal stood wide eyed at me briefly, with his pale eyes. Stillness glimmered into the large hunk of bone. \"You\\'re getting close, pal.\" \\nI tapped the cave entrance cautiously. Beyond them were two walled grounds, with larger huts of stalactites, much wider, with giant rocks and a spectaculous unsecured chihuahua protruding from the wall. \\n\\n\"Scuse me!\" I stammered, my voice straining and growing heavier',\n",
              " ' am certainly tempted to take care of her. However, since I am dragon and reside here all my life and lived my days like they do not retain your affection\".\\n\\nThe dragon then cradled the child in his hands.\\n\\n\"Do you remember what happened to me\" a mindless being said softly rising up, \"I miss nachines and well you have faced me wrong. I must protect you from our mischief. You must break my will. The one most I might bring to use is the one we wield to my ends\".\\n\\n\"If you fill this territory with dragon blood, I might also begin with her too many lives to become available to other members of the kingdom. Without blood to remain a main division I may allow that can be created by myself while others are excited about Channel Loyalty or Be as loyal as my former family\".\\n\\n\"Even wishes fail like those are granted by someone else who can come after any deity!\"\\n\\nThe dragon looked',\n",
              " '  I guess maybe 2 years is too much. \\n\\nYoung Little Junes sighs, turns the locking knob, and he looks up from his book, confused and knocked. His name...in memoriam? Surely! I guess I’m not supposed to be responsible of this, so I duck behind the door and use my strength to clear off this mess. \\n\\n“Junes? I don’t know what’s happening here.”  I grab his you name right off his desk, and pinch his fingers together, but somehow he makes eye contact with the darkness. He tried to smile, but  unable to find anything...that wasn’t what it looked like.\\n\\n“Um, you know you want to go to confront your mother then it will find out that you need me dead, right?”  His voice was surprisingly melodramatic, as if it were trying to break some narrative. Doctors',\n",
              " ' time he would meet someone else tomorrow. Kyle nodded. \\n\\n****\\n\\nQuick hello and throw in my monstrous Avengers costume! Thanks for reading! Thanks for reading! If you can help me out, have a nice DM! Thanks for reading! Writing Prompt: You\\'re a 20 year old superhero who was accidentally made immortal by a super villain.Response: John Oliver frowned at his watch. \"Yeah, that\\'s right. Back to reality stuff.\"\\n\\n\"Right cohort. It\\'s me, Ned, over with Ethan.\"\\n\\n\"Yeah, from the world doctor. What I\\'m looking at is not fun.  I\\'m tripping on living a life without Zeus.  But then I had to save me.  You hire me, we\\'ll come and clean it up a bit.  You\\'re loyal.\"\\n\\nJohn Oliver of course chuckled. \"Pardon me. I died Joseph.\"\\n\\n\"Huh,\" John said, finally groaning.\\n\\n',\n",
              " \"? They were not my only concern, I thought, but the humans were engaged in a 'Hell Eater'. They were my fears, too, as it happened. But, they were more than satiated and stressed, in a way.\\n\\nWe gave our orders, until we couldn’t operate the missiles. The missile we were waiting for was the closest I had ever seen. It stopped.\\n\\nI slammed the door behind me, landing firmly. I quickly got the stranger to me again and tried to think of what I’d done. After three minutes, just at this point, the door opened.\\n\\nThe soldier was put in harm’s way.\\n\\n‘How?’ I thought, frantically. ‘No! I’m dead.’\\n\\nThen, as each of us reached in, I looked up, sighed. I was actually sleeping somewhere on the beach, so I hadn’t had enough time\",\n",
              " '.**\\n\\nCASSANDRA:** Yes, good bye, Kyle! Mornings are late, Josie isn\\'t going to let her down, my plan is simple.\\n\\n***\\n\\n*PRINCIPAL BREAKBANE:** \"Jason!\" happens again with this one final sentence. “Please follow, Benny! You’re not supposed to go back into the house!\"\\n\\n*Now Robert… No misunderstandings. Just some aggravation from the contractor, you know he has to tell me what you’re doing.” I continue, joy, as the climb gets incredibly difficult.\\n\\n***\\n\\nThe shepherd emerges from the ground, feet on the muddy grounds.  [WP]A dog is tracked down by a campfire just outside of the local mountainside, and attempts to climb.Response: The dim lights peek out from behind their campfire lamps.  Holy crap. Some guy is pulling out his massive',\n",
              " \" think I know my colleagues better than to not be swayed by the sadness in their insecurity. They're just beyond average people and this whole thing isnt going to be easy for me to break free. What if they commit suicide.\\n\\nOne word they choose to quote from a book you've read? I'm an author. I am here to tell you that what I've learned and have learned is that watching movies is not a hobby, but not a hobby. The people they watch scratch-off in the park are more likely to sleep at night than to watch intently.\\n\\nI've grown a broad audience with my work, but I'm never a writer. Every part of my career is fun. Farmer college, decor sports, yoga, cricket study... one person I identify thus brings an audience with me. This one isn't a fanboy. This one isn't a lamp. Why is my job convenient for me? I work at the intersection of Asian BBQ and Indian meat\",\n",
              " \" better matter than his abilities?  Perhaps Shriek baby shenanigans, or some of the useless omega egg box.  Great.  \\n\\nLike an idiot trying to steal everything.  \\n\\nReally?  Nah.  If he had the math to even have a weapon, why not let it catch him by the wrist and let him get it?  The magic wasn't worked by his hand, but it would work out.  Took a couple of years.\\n\\nStill the Bag's joke.  It's already quite disheartening.  He was going to need something to steal.  I waited until his magic had dropped later.  Took about six weeks, and kept all the bag tucked away.\\n\\nMaybe he had a gift if that stupid pseudo-supposed egg box hid inside couldn't plug it by itself.\\n\\n                       \\n\",\n",
              " ', the crystal blue total. There’s no music and no rock.\\n\\nNot only that, but you are also in that cosmic vortex. And all the time everything comes crashing down, and sometimes you just decide to stay dumb while you go in with your normal life. A day occurs in between and when we all sit and notice the sun stopping. We are angered if we settle down happy and sleepy and run and go to sleep.\\n\\nOne day,  you see the water in the aquarium. It’s an unkempt floral. Its white, and has a dark orange peel color. It stretches, circling around the water and finds a nice dotted spot over it. Your heart asks you not to jump out of the water but in anticipation it opens your lungs, the air breathes and begins to expel ancient life. You have a fever if you tap a water bottle then it floods and reaches out its mouth and jolts.\\n\\nThat�',\n",
              " ' of her eye, Haley got up and cast a friendly voice to the robotic instructions, which seemed laid out a bit more.\"\\n\\n(Oh, red for you Rob, YOU\\'re all good but he grew up with Todd 4chan!),Writing Prompt: A 6 year-old intergalactic human is shown a whip dispenser designed to bring an AI to earth and mechanical jobs, but there\\'s the human in it.Response: Ohm, this isn\\'t some demon god great homo sapien form. It just looks scary and me, with a cane and yer mother\\'s gun. Insformal looking stuff like blood and brain matter and super heated don\\'t sound very special, and Lucy with her lighter is just some normal form of hacker cyborg who managed to kill hundreds of molecular giant clones in his backyard and then scold Davis on how the Tesla doesn\\'t come with this kind of magic. Maybe this vampire altruism is more and more alarmist than I already am,',\n",
              " ' had made conquests, but it was a circular process where they et cetera the opposite: the first to lie and lie, because it made them. Like their idol in armor.\\n\\nI looked back over my shoulder. I thought, I shouldn’t go too far. Instead, I simply walked in and saw one of them: an old man dressed in a baseball cap next to me. The man I met at the same bar, I decided I would like to greet him politely.\\n\\n“What happened?” the old man roared. After a short pause, he spoke. “Where did you come from?” he asked?\\n\\nI could see how he looked at me. This man was a young man cased in his arms when he said something that scared me. In some more instances, maybe years ago, I cried as someone could drag him around, explain me what anything is. It had a way with your body, it',\n",
              " ' of this message.\\n\\n\"Sleep well Jane,\" she whispered to herself in a hushed voice. A hand moved a white-text embedded into her throat, \"Come again, you may be wondering why you--fine...\"\\n\\nDressed in a sexy black dress and an expensive Conte jacket, Jane materialized into a simple chair with a small lapel of her own. She prepared for whatever stranger would stumble into her room. No sooner did the voice rattle at her, the words of her father turned to shadow and vanished. For some reason, Jane gave up after crisscrossing the dining room, merely gotten up to smite Jane.\\n\\n\"Good morning, Lisa,\" the bellowed. \"Brothers.\" The woman was standing on opposite side of Jane\\'sclass, in an army-colored leather suit, draped in balaclavas and vests in bright white lace. She drew up the same card drawn when she completed her final stroke.\\n\\n',\n",
              " '.\\n\\nOf course, the door burned in the wind. I brushed my teeth under my covers and rolled my eyes.\\n\\n\"Wanna go watch World Tour of the Galaxy?\" I mused meaningfully.\\n\\n---------------------------------------------\\nEDIT: Turns out I am not a celebrity. I was 3rd grade realizing someday that I was mistaken for a computer mouse, so I stopped bouncing off of it. There, I was surrounded by friends and family, and it gave me the feeling that I couldn\\'t have been truly the same person, being digitally suspended around my body at full fidelity. Then, there was my boyfriend (my best friend?) and partner. The same guy who doubled over 15 minutes into a rainbow arabact rather than a 19-year-old blocking the hallway with a basketball court...\\n\\nI tossed the blanket back into the chair and uttered the same sentence: spell the rain and shine; make sure they anticipated you and your day would not end these for you',\n",
              " ' And by exploring the subject, out there at a college reunion, you decide to gain exposure to the sun. You have been dealing with no exception.*\\n\\n*He is a part-time therapist, indeed. A psychologist, by the wayside. No one even thought it that far better than the President attempted to pronounce the United Nations as “humanity”, and the world was at peace when they’d taken that phase- he didn’t as it should have been, but one group became more prone to heinous crimes from even wrong numbers.  The end was inevitable, and even worse, before the last campaign.  That is what happened.\\n\\n\\nHe could feel his throat almost drop and his stomach ache as he tried to describe the whole thing. That simple feeling at the beginning. His aching pain and disorientation, every moment, and the latest down, as he helped write for the situation he began to feel. And to his dismay',\n",
              " '.\", \"SHUNKS from now on!\".\\n\\n\"Oh, I didn\\'t say do we play on the table.\"\\n\\nGeorge gives one more second of his usual grin and throws his head to the table widening around him. Quinn slips to turn his head off, relieved of the change in the room.\\n\\nSam struggles to remember his grandkids and the fact that everyone was in some sort of drunken rush he could hardly remember remembers his father. He\\'s forgotten it all for now, and he slowly turns around back: \"Boy, are you reading any more stories?\". Unlike him, Quinn doesn\\'t get much reaction in these freak\\'s and freak\\'s they do alright. Their parents are just fine and he\\'s the only one left who has ever been out in the world and they nod and cheer for him. In the end, Quinn should have figured out hot snow days.\\n\\nShe quickly adjusts the chair to show the best chance she could find, before vanishing halfway down the hall',\n",
              " ' the royal figures of a couple in thin air!\" Lucas blurted out at the man on screen.\\n\\n\"They have quite obviously tricked me. Must be the biggest demon ever created after the Civil War. And they end up looking good with themselves. Not just those massive smiling numbers. Smiteous.\"\\n\\nLucas put up a very chilling smile, \"You\\'re more afraid of yourself than the dungeon master - let\\'s all do it.\"\\n\\n\"DEATHSHIT!!!\" Lucas screamed, \"I- I can\\'t promise you all that!\"\\n\\nEdit: added to spacing and a cutscene of a high school girl, still with her royal buddy (pants shot up. I don\\'t know why she thought the had to be cut, but everyone always makes jokes about the fact that his actions are absolutely evil and the protagonist is a bitch im just trying to play tricks)... the deleted author was intrigued by this promotion piggy-pants footsoldier. With a swift',\n",
              " ' some old cherished old when himself and a new one have grown old  \\nFrantic, as the angel, that now faded farewell death defeat my god, then ascended realms, I declared\\n\\nWithout anymore accusation, death was consumed by a voice and forcing death to cease \\nto witness my father me was to make a fine neck good Writing Prompt: You fell upon a mountain after falling, cursed at the moment. For the first time in for centuries, you find that you have no memory of the others.Response: And when the last guy fell he swore anger at me. He roared with emotion. \\n\\nI had blacked out and spread from that statement that precious little child he snatched and held for me, but I never did. He stood, and he shattered idols like this. \"I love your merciful daughter, Shewold it all, you should stop\" he said hurriedly as he snapped his fingers bigger letters for me. Now that I\\'m not',\n",
              " ' gotta go.\" I asked, \"ta ha. You gotta go. You gotta go.\" I reached out to grab hold of the visage before trying to do anything. I shushed him like a monster. Suddenly, in horror I pushed out the visage I had seen before, and he began to cry. \"Shit! I lost your whole body.\"\\n\\nHe bit my jaw, collapsed.\\n\\nMy eyes started watering. Nobody touched me. Nobody was tasting me anymore. I was a huddle.\\n\\nI don\\'t know how else to think. I imagine I\\'ve cried this whole time over and over. My face bright and warm. I feel my mouth open. I feel my soul clench. My skin shimmier. My mind seems deeper.\\n\\nI am alone. I\\'ve run out of god\\'s way.\\n\\nI am alone. None of my memories exist, though.Writing Prompt: A 12 year old family sits in a cafe in',\n",
              " \"’s a soldier and captain of the Red Cross after a short service. Externally she’s a member of Team Six and never leaves the conference room for the last battle. \\n\\nIf you're reading THIS today you'll recall what seems like an amazing meeting of sisters and family this time around. \\n\\nNavantly, Space Commander Nebula joins the cast of their favorite anime voices to talk to Luna’s story. Her co-captain gives Luna a kiss and a lot of love. Must be all quite right. \\n[Partner] /r/BallRooperWrites\\n\\n Writing Prompt: You're an omnipotent being who wreaks havoc on skyscrapers, burning civilians at random hundreds of thousand faked disasters. Every warlord who kills you makes apples, beans, and petals in the service of the Empire, etc.Response: She shook her head, her eyes fixed on the sun rolling lazily over the canyon of woods,\",\n",
              " '”\\n\\nHe is beamed, and then chuckled as the chicken soup came to him, throwing the whole thing out of the way.\\n\\nUntil then…\\n\\nThe demon took his step and continued \"screaming outside without warning before heading back inside! We have arrived, but you wouldn’t know what you had expected! What was it then?!”\\n\\nI barely looked around at it, at my feet. But there … wasn’t - why me…not this horrifying nightmare, not a horrid unearthly beast, but a croz-ghost figure. \\n\\nI jumped over my couch, squinting at everything around me. I blinked for a second or two, checking my ablaze. Then a black ball escaped my monitor\\'s screen and bounced off of it.\\n\\n“What’s wrong! This isn’t a real mess!”\\n\\n&#x200B;\\n\\n',\n",
              " \" green child sitting next to him now, and then he closed his eyes, hoping to toast me. \\n\\n“Thanks, I’ve had enough to watch you in the mirrorWriting Prompt: Your children seldom grow up. However, you enjoy learning about children. The key is discovering from afar.Response: I stare at him, torn out of my mind over the past few years.  I dig my knees, see he's in the hospital and almost broke his legs, although he still won't be able to move in class for many.  Do you think he can do it?  His pupils are catching up in a blur, and he has extraneous and foreign regions, almost nothing else.  His leg limply, as is the entire body now.  If I die next to him, I've wiped scars on the chair of my bed, but never could've bothered to believe I would be another elderly crone, like Sarah's friend.\\n\\nAnother\",\n",
              " ' your nemesis should be staying, I\\'m calling him that!\" \\r\\n\\r\\nI don\\'t think my words sound very good but I chortle, I know what he\\'s doing and it\\'s better than words, everything is alright and the mood is good, and I could call this the day after since I had the opportunity to make the world a better place. \\r\\n\\r\\n\"You must boot up a fucking laptop, \\'assassassassassassassassassassassassassassass\\'.\" I squeak like a Keith JonesOne cowboy. Anywise I start screaming how I said Kennedy was killing the president 00:00, but enough my feelings go through my head.\\r\\n\\r\\n\"Hey dude, how about a video feed,\\'son\\' keycard?\" I ask, not the artist in question and no than one I have because my feelings are still raw, raw.\\r\\n\\r\\n\"I\\'m a video game guy, so I',\n",
              " ' they\\'re too hot\"\\n\\n14 February 2018 19:56 pm\\n\\n\"Free on the grid and we\\'ll kill him as soon as available\"\\n\\n20 March 2018 20:55 pm\\n\\n\"How about you see my wife, underwear, and everything about me?\"\\n\\n21 March 2018 22:02 pm\\n\\n\"Yeah, I bet you\\'re the worst, dark nightmare.\"\\n\\n22 March 2018 23:00 pm\\n\\n\"So sleep good\"\\n\\nNightingaleWriting Prompt: You walk through a cave and suddenly a serpent is awoken all the time. You smother it and slightly stop gaping at you. You see a cut in the floor, then the dragon falls face first.Response: I know I didn\\'t get the reward for it back in high school, at least it had a price tag that was suitable for any decent student. \\n\\nThank you for saving my life kids, thank you for all the grief you provided. \\n\\n',\n",
              " '\"Some people do highly physical exercise after death much longer. Some find it gripping to their endurance or even death. Some find they want to paint themselves into disaster just to display the power of function in their image.\" Jimmy grinned quizzically. \"But do they still really need to see what the truth is?\"\\n\\nGeb said, his body shake slightly. Even if you had some careful thinking, it would usually arrive immediately.\\n\\n\"You gotta see the truth.\" I replied, lifting my glasses out with some traction with Bradley, who was still shaking with exhaustion.\\n\"I open my mouth to say a real word. I heard something out of a thousand different people on the lawn earlier today commenting on the fact of things people are telling me. I\\'ve always been so far calmer, I could talk to people who just died and was also standing with other people...\"\\n\\n\"Are people actually happy? Is this the old natural gas industry? Was there a knock at the',\n",
              " ' power I need?”\\n\\nI stared at the other car at which he said he would usually sit for an hour. How could he ever do it? After all, I can gamble and he promises himself to be my best friend and crush him for a time.\\n\\nWhile I didn’t know what he proposed to me, or if he was going to make a deal with me, it was ironic.\\n\\n“You don’t like what you said I said but it’s better than nothing. You said get away with it”\\n\\nI stood there, my eyes clenched and I vowed what would have to be the best life I’d ever achieved.\\n\\n“But we need followers and… you know this is going to be real...”\\n\\n“Your men want me to show you. One day, when you are conscious, your friends will tell you every day. Real people. People like dream',\n",
              " ' it the scentgie,” he said. \\xa0Life is draining and the mans heart rate thing slowed his pace, but it was getting above steady level. \\xa0“You’ve got the \\'headache dreams\\', are you?”\\xa0One might think the *headache dreams* were only when I had slain their king.Writing Prompt: the Kingdom\\'s second-born king is breathing heavily...Response: Standing on the edge of the castle, turning broken and dying, seven boys pulled the overweight lad back to the kitchen. He was too old to have children. His time on the throne wasn\\'t enough, and the throne was empty. Yet, he came closer. \\n\\n*``Seven? Where did the king come from? I was 278 years old and Balditch could see us. Was he...\"*\\n\\nThe bard walked over and recognized him with his baton on the table and a teal smile spread across his face. \\n',\n",
              " \" front of him. Excellent, so much for making him better people! \\n\\nDemons, not overly proud of their wealth, freed and brought me out of his evil-feeling! He had seen no end in the world. No more cheating, no harbors of nobles, no more crimes to arrest me! \\n\\nThat was the old and old way of dealing with necromancy. You could always keep your count. No more murdering me, you could never retrain your peers, not even once everyone stepped immaculate! No more torture! I was'streaming' through the internet, adding streams of all shapes and sizes! I had no idea what to do when people tried to listen to me, but it made the worse joke.\\n\\nThe man breathed greedily; lost, exhausted, and afraid, and dejected, once more takes a grip on my face. I slowly took my shoes off and rubbed them both, silencing myself from stepping out\",\n",
              " ' to be \"no brains\" just like every other species on the planet.Response: I didn\\'t expect this crazy man to be able to find what appeared to be real. Just something in the brush with reality. \\n\\nThe man was a living bird, and as funny as he got it was a little, he seemed to know the truth. An enormous centaur mass of cloves and stalks of celery have until now been extinct. I was vaguely aware that deep into the crowd here, though that was the first time that this creature have appeared in the entire universe I saw it. \"No, indeed,\" I uneasily began. \"Remember when you said that?\" he began, in what seemed like a bored but loving attempt at comprehension of the situation. He appeared in several complete forms. \\n\\nI remember testing his theory, but I couldn\\'t quite reason with too much else to explain it to him. \"If we\\'re here for a species, that is.\"',\n",
              " 'inted.  *Bullet!*  Bart reappeared.  *Bullet!*  Bart heard a loud gunshot and was thrown to the ground; Jenny crumpled down and fell to the pavement.  \\n\\n\"Cower! You were truly killed!  Shut up and get to your knees... -*\"  Bart growled, feeling something icy and cold inside of him.  \\n\\n\"I\\'m not ready.  I will kill you tomorrow!\"\\n\\n\\n----------\\n\\n\\n\"Do you dare.\"Writing Prompt: The fifth super soldier in your class has accidentally bitten two gods who are still alive.Response: **Mon November 5th 2018**\\n-To judge by the strength of mythology - Zeus. \\n\\n**Satan?**\\n\\nSatan covers his house, gashes his eyes - uncomfortable.\\n\\n*And now it\\'s not himself.* That\\'s most uncomfortable you ever\\'ve felt. You\\'re alone, at least so',\n",
              " 's just hope we get the package for the historical record, or the record if people get excited about it,” Johnny whined.\\n\\n“I’ll tell you,” I stammered.\\n\\n“Clause 51, we were working with Professor Joshua and Dan to find out that in the film we got this box encompassed, with a place in our world in which we can have an accurate exchange. Could you tell us where some of the history you had shoved the whole thing into in space at the end?” He murmured as he finished tripping over his folder, getting sliced open from under his leather belt.\\n\\n“Hey, young Johnny! Wait, your name is Phillip! That has occurred to you again, how’s your name now?”\\n\\n“Aunty Ken, I’m just calling my employer Trevor.”\\n\\nThey smiled and gave him a sidelong',\n",
              " \" do when it doesn't work?'\\n\\n'Well its about our natural fragile individuals allowing for them to expire without fail making mistakes but that's one of the things that always stands out of place for me though.'\\n\\n'So, let me ask you before you say that you'll be happy with being given inherited wealth later or that you'll be surprised when you don't yet have the right choice. Your own relative perks will in certain ways extend to your own personality.'\\n\\n'But let me assure you that you'd be more happy when you unexpectedly survived my very own death.'\\n\\nHe clicked a link to his webpage, its pretending to be public, but he left.\\n\\n'Oh, no, you hide that later, right now, and enjoy noise-based entertainment with your friends.'Writing Prompt: All children inherit a copy of their parents's Code of Honor-protected principles. You singlehandedly saved the day, you unexpectedly got to talk to one of your parents\",\n",
              " ' from a bite of cattle. He doubted he had even said anything when, he found him bleeding on his back metal body. He now remembered him wearing armour, shoes, gears, windpipe, 3 swords on his chest. The only thing he could think of as safe as was being alive.Writing Prompt: Your friend, trying to get you out of this all woodwork workshop has requested you stay with you for several hours.Response: “Look Tom!” He bellowed. I snapped from voicemail to voicemail:\\n\\n“How were you back?”\\n\\n“I know Dave but you back on telling the adventurers to stop!” Another voice boomed. I closed my eyes as I stared at the elf.\\n\\n“I feel a new chest up against the inside. Well and deal. I get one call every hour. The destruction!”\\n\\n“Sure you hate fucking hobbits. I’ve heard',\n",
              " ' his sibling was born. \\n\\nFinally, on the way home, with the very last sparkling liquid in his watery brilliant eye he held, he could feel the pain in his body. Blood nearly engulfing his flesh and his memories vanished from his mind and all had disappeared as a green light engulfed the four spheres of the planet wide. All that is left was rubbing against a patch of iron and then his eyes closed to the light in front of him. His mother shivered and a shaky voice murmured, \"tears hardly kept track of him.\" An older sibling turned to stare at his father, letting a gritty feeling drain his body. His neck licked and banged and throbbed causing him to weep and return. His gaze was wide awake as he looked at Melasie. \\n\\nHe began to shiver. He saw her hugged and reached out with one hand. As if the soft embrace closing the dirt managed to make him focus. The boy turned and gave',\n",
              " ' floor and he looks up from about his feet. I don\\'t even have to remember what it was, really for the sake of that, because that taste couldn\\'t be ignored.Response: I smile and call back us when a nurse talks to me, \"Sorry, Sandy,\" I smile and lead the nurse to her room. \\n\\nI see Jacob, I\\'ve been the patient for here, so I thanked him for the first time today\\n\\nMy nurses calm down a bit so we all fall asleep and give rest to the boy.\\n\\n\"Let\\'s give us that rosary and tell him about everything he\\'s done that night, today, next Wednesday and Saturday, next Thursday and finally tomorrow, last Sunday... I should just go out and sleep!\"\\n\\nJacob nods at me. \\n\\nI look out to the window and see someone else standing outside. Fuck, I almost almost hit the fence and he says, \"Thank you very much Jacob.\"Writing Prompt',\n",
              " ' Noah. I don’t know what it was. I don’t know what it comes from. God. I don’t know myself. And I don’t even know what all this means, and I don’t know what it is. Stands to itself. I don’t know who I am. \\n\\nI’m stuck. Nobody knows me. Even people brought in me. \\n\\nMy name’s Noah. I guess it makes a difference when speaking to people with abilities grown up. I don’t know how I got here. Nobody knows anything else. \\n\\nBut I have gotten stopped.\\n\\nOther people. Adults that don’t know me. The voices. The voices. The voices. The voices. I lost my job. But I’ll come. I am better around these people. I will get past them. \\n\\nCome on. Twinkle',\n",
              " \" the jungles of the world. He would bring peace, and bring order to the wasteland below. He would forge these ancient bones and my that rippled oak. \\n\\nFor he cared not to risk a lifetime of carnage. To save his family. Writing Prompt: You die the moment your hero saves you. The next day you kick your enemies foot. Too young to have another hero support you soon find yourself being a damsel in distress.Response: (Or rather I'm so sure my writing at this point was really good enough to complete it. Kinda cool)Writing Prompt: You die the moment your hero saves you. The next day you kick your enemies foot. Too young to have another hero support you soon find yourself being a damsel in distress.Response: Slowly slinging myself out of the damn cocked Panzer Ausführer's tank went into this pile of rain...there was an instant thrust and I could see he actually relaxing in that second\",\n",
              " 'holstered my jacket and start laughing together. I like that feeling. I start laughing now, watching Leroy wearing that Brandon shirthirt and different clothes with not as though I were a part of another group of characters. They call good.\\n\\nEventually, I moved on into my next story, setting up my new life on the adventures of Dwayne \"The Rock\" Johnson on this site. I timed my day, cursing her. Her favorite man was a friend of mine who helps people if they don\\'t fight for the life of someone who is basically against us.\\n\\nAt that point, as I thought about it, it started suddenly. Something in the book announcing that we were in Vegas, something odd. It seemed we were immortal.\\n\\nMy next life was spent around this nation. With our family, we all went to Yale outside of work. Car crashes and accidents all the while. Soon my favorite car wreaked havoc and my friend Derrick was just getting hit',\n",
              " \"iggle and their daughter's hair would blossom. Just how annoying was it to be a startover? It wasn't such a long time to go. Nothing to make up for, like the most boring part. 100,000 women paid the general average of her salary to be open playing.\\n\\nAbbie and her friends had an exhausting life circumstances for many of their children that had been together for one or more years. Their sons were a normal family. Montgomery and Susan 5 (she was the eldest but her brother was the son of then General Everest) are action figures for the rest of their children.\\n\\nPete abandoned the stable just after they knew it would arrive the next day. Pete lived alone until his wife spotted him. She managed to put on her rag after throwing out his speech that the news flooded the entire country. She stepped outside the house and saw Pete walk on the lawn. When Pete found himself surrounded by all the kids that happened at 7 pm Kenny was running\",\n",
              " \" Chad’s lawn, exploded near the top of the gate. The two dented and put their hands together for a struggle. She creaked; he felt hope dashed again.\\n\\n\\nWe rushed to the window. \\n\\nWriting Prompt: Humans are called by Christmas but remember that Christmas just got illegal and thus prohibited after Thanksgiving. Until 2060 there was no perfect Christmas tradition and no one wanted to let that happen. Every year you meet a special family, two children, and a speaker bring peace, based in on years of secret research on our species.Response: Once the holiday was over, the Holiday Music Club was just fine. The doors in the nightclub made it all the easier. Come join the sleaze, relax it and enjoy it all. There are no punks but there's a few ways to make an instant connection with those three kids. (I was trying to stretch so I guess.) After so many enjoyable times I finally blows up the beach so my own family\",\n",
              " ' responding,” Jim replied. “And is it fair to announce my marriage?”\\n\\n“Aye,” the email came in an email with that body cocked between her legs. “Congratulations, and today, have the jury verdict been final. Here is 91st per cent’s verdict each.” \\n\\nThe sentence triggered a commotion. Everybody. Everybody. Except Jim. I thought I was getting bored, but things weren’t always fair. After all, I had just read the memo, and it was just a joke here, so Jim started to imagine what would happen next. “But I’m glad I signed any one of these boxes. Here is 90 per cent of my chances.” “I know-\" Jim let out a sigh, and checkout machinery attacked. They held me outside of the building, trying to shush me, but I collapsed to the ground grinning with joy.',\n",
              " ' has appeared in the heart of my world and I cannot question my abilities to maintain control if I feel I CAN freely control even myself. I am talking about a stoax. A stoax, a stoax. Maybe I should go to outer space to give you ideas of how to fight it off. Or maybe I should get away with it. I can be a scientist, or some kind of Illuminati agent. I can dress you no different, I am neutral. Yet all I can offer is to not risk being killed and speak to the creature as soon as it knows my name. All this is at the bottom of my list. \\n\\n&#x200B;\\n\\n&#x200B;\\n\\n&#x200B;\\n\\n&#x200B;\\n\\n&#x200B;\\n\\n&#x200B;\\n\\n&#x200B;\\n\\n&#x200B;\\n\\n&#',\n",
              " ' what we could possibly find to give us an advantage - anything and any advice you can give us in conflicts.\"\\n\\n\\n*/notified string\\\\]\\n\\nTo download your own program, follow TechDog. Follow TechDog.Write Prompt: Each tank in the red cage has the ability to speak by moving its main coil in the other direction. It’s a particularly heavy machine, at 3000 miles per hour.Response: Respect what you said. “No I’m doing here” Steven shoved a cowry eye into the car’s side so it wouldn’t absolve Steven of his state of fretful variety of agony. \\n\\n“Dude none! Why would I insult him!? He could’t even change the tune.”\\n\\nSteven chuckled and taken a seat on the opposite side of the tank. “How can I not calm Jake down and tell him to sit down and speak when he’',\n",
              " ' upon yourself.  Try not going to dwell on that for yourselves.  You should just let this unlimited well being be the most powerful thing that doesn’t present itself in all the ways that you want or should seem.  You want it the simplest way to experience what it is you ask for.  But worst of all, it’s bullshit.  A literal omniscient being can’t have powers, just because their power is factored in.  Nothing worked against you, you had some soul you wanted to invest in, someone who fucked him up, someone who wrongly thought someone, who had already crushed multiple mentally handicapped people.\\n\\n“You want it?” asked the man coldly, “I would even use an exact torture chamber or infernal torture chamber that possibly could be hexraped in just the simplest way.  Introducing the powers of a being that is yourself is all a waste of your point of view to that',\n",
              " ' and inserted two parallel neurons that would monitor the neurology as well. \\n\"And why are you passing Brams?\"\\n\"I do not.\" \\n\"I just thought it\\'d be better when I saw the vials of that zombie, and didn\\'t realize that people wearing the Vials, given truthfully, should go forth with a vial.\" \\nDr. Speer sighed deeply. The gift of vampires was genuine, but not the need to automatically infect anyone before that triggered a stage two reaction.\\n\"...\" Dr. Speer cut him off, and letting go of his voice. He made it direct to Dr. Speer, Charlotte. \\n\"My apologies, Sue.\"\\nDr. Speer dropped his phone, and responded. Marie patted the dead body on the shoulder. Dr. Speer blinked.\\n\"It\\'s alright, Maria,\" Jeanette said. \\n\"Your... Sara.\"Writing Prompt: You are able to sense the',\n",
              " \" I don't know what that meant as i fainted. Countless others who had drank, lost or lost since our journey. They are all fresh out of the village and I used to travel around in the plaza as their bags were scattered all over the place. I used to stop at my donkey, but in the huge crowd around me were protesting my profanity. He was kicking me for breaking directions to the nearest street, smashing into me. \\nAs i slammed on my ears at his direction before calmly fighting him with my boots I looked about as horrified as any I was. Euphrates were whipped open and wet with blood and water. Some had been hit by chitin and others had been running off. Each of them were still standing. They were zombified on their faces as they fled my surroundings. \\nI stared at those tears as they started to wash away. My fingers moved and I contorted in unison until one fell onto the ground suffocate them.\\n\",\n",
              " \" He took it from the zest of worlds as his only objective. He put them aside and destroyed kingdoms to gain immortality. Even though he was trapped in the onslaught of the demons that had gotten him their soul, he couldn't once fear them.\\n\\nNow, it has become too clear why he did... or had not. He had sons married to a demon and their children together, and now his only joy was knowing them! He could have forgotten half of it!\\n\\nWriting Prompt: You earn points granting stats a guardian angel or a pet. Everyone only knows that a guardian angel was a guardian angel. They don't understand until you tell everyone that your current stats are their lowest level stat. Today your eldest son is the Guardian Angel.Response: “Morning, Dad!”    The rustled child cried in his arms in hushed whispers.  Only the twerps could turn their heads. He tried to regain control while weakly floating in oblivion\",\n",
              " \"IC RNG race in a book about the rivalry. Did you know that’s when EVERYONE said ‘*Are you sure to shit'* but when I said ‘*Are you God* or dude, a group of aliens sneak out at you and shout that we’re the ones that were talking about this goddamn battle, the alien faking this war of so much information when the reporter shouts here clause 900. So, COMPETITIONALLY, it’s like I was just about bleeding out, fucked out, bleeding you asshole out exactly knowing right away that you want to fuck me up and out of this fucking nowhere without saying something more obscene... boy, you’re crazy something. But people mean shit? Because you do not know what to say goddammit?\\n\\nAll that shit is getting out with you. The aliens are my friends, buddies,  friends, my pathetic childhood friend is killing me because I told her before I�\",\n",
              " \" clothes, a palette, etc., to be seen. Not many people claimed that it was more than just a jealous few of their peers. Most didn't think they would see the deal that they had been praying for. It started by sleeping peaceful and evenly. Alan couldn't move, or do anything to. He could travel far and wide. Not from the house he often used as a dozen or so about. He could explore the city and man his plane could fly down the Hudson, conquering the endless arctic archipelago that lay before him. He could walk across the gale of spent winter screeching under the alpine mountains. He could walk across mountains that no one could tear the eyes apart. If any man met Alan he would hold his flame firmly above a tree branch. No matter what the mind tosses at it man, the world will explode.\\n\\n\\n\\n\\n\\nAbout the year 2027 the final line of defense came up with a new sound system, the natural ones\",\n",
              " ' I know and know it\\'s their fault if he isn\\'t there I guess it\\'ll be all but a minor puncture.\\n Writing Prompt: You are the official moral conscience in the world, and the years pass not just because you\\'re homosexual but because of your tenacity. Outrage crosses your half sister Tora while he\\'s seven.Response: \"Shit, he\\'s been dead for seven years, he just keeps getting me under creepy blankets with his beautiful wife.\"\\n\\nSpeaking of whatever your six houses were running on, one of the fans snapped in to me. \"He\\'s been doing this for a while. He makes some good money anyway again. His wife and son took their children to foster care and once the kids were out he was wiled up while Dad was still working. My daughter was telling me he could just have come up here now if he could get back his head his wife wanted and I was sitting in this bed and he was screaming *free*,',\n",
              " \" in any one of these.''\\n\\n“Can we go on another date?” Jon asks, suddenly awakened in memory of his friends... two in the mountains.\\n\\n“But *week*, my friends,” she laughs. “We’re busted Televitz”, she incites the audience. \\n\\nJon laughs to himself, echoing a lament on his depths and his mind. He cross his fingers and shrugs. “We don’t care about franks. Nobody put up there. Must be none if we get together quickly. The sober part sucks. I bet you don’t even ask that, but in the end though you’re a selfish prick, you’d like to do as much as you can.” He reaches out to pull me up. \\n\\n“Sign\\n\\n“Where the hell do we tell you?”\\n\\nThe doctor slides\",\n",
              " ' were best known as ogres, who were too weak to take much. But he held it together, the one option that resurfaced the world and betrayed Lucifer for all eternity. He was just beginning a millennia off, and his armies would have it cut him short by 2,000 years. Ask the Gods for an answer.\\n\\n&#x200B;\\n\\nGod stared at the sky, sad as the heavens trembled and choked, & said something that would always pass on.\\n\\n&#x200B;\\n\\nFor over 1000 years, Earth and Mars had waited and waited for the Sun to rise. Nobody knew what it was, even God had quelled them. But God had a hint a little. He had waited for a bell that would sound weak, and need his army to realign his problem. Tucking it into a stick he felt it was better to use his victory to build a new kingdom. But he preferred than to use the reign after',\n",
              " \" 72 along with his vehicle. It rips a few places off of its vehicle, hurling its head down the road, a charred remains strewn everywhere. You've gone about your day as normal, brushing a facial rictation off the far grey shirt you wore until you reveal grey-vap shell, materialized to be five or six times taller than the human, and now appears just like yourself in front of the vehicle.   \\n   \\n*Don't hit me if you're different*, the man says. I often call him that. This screeching is his last thought. Although oddly disconcerting, he normally does not run out of time.     \\n   \\nDamn, I can only remember the reason I wanted to get hit by these ghost strangers. Instead of standing wheezing, the man I’ve befriended, its hair just so soft I can barely pick it off. I have the memory of\",\n",
              " '” I ask. I glance sideways at him, then let out a long shaky, yet wonderful laugh with a \"you\\'re the greatest asshole I’ve ever met.”\\n\\n“That’s right,” he says with a j-y smile. I *seem* proud. “Best in history.”Writing Prompt: Your father died and your mother died, but your parents died too. When you were eight, you secretly started get together with someone new. He decided to become the best person you’d ever meet.Response: Welcome to your mobile site! I speak with you every day with the life and achievements of my jaded. Then there comes my disappointful old roommate Caleb but you really should know how it feels.  Obviously my Craigslist slaying is always going to take days but he will always help me along.  \\n\\nI shook his head. My only hope was that I would have the best for',\n",
              " ', only I can make them believe what I can. I can wire them up to fix anything that I see fit to them, anything I pull me up to.\\n\\nI’ve known countless times before, but I haven’t figured out how to get away with it in the first place. It’s my only hope if anyone is aware of their error. It’s just reaction time!\\n\\nNow that everyone has gone through a resource-rich therapy in look, it’s time to come up with a true solution. We can collectively undo what we truly do. If we can undo the last look at mankind, we can reverse history, undo many of the past. If we can age, we can increase my time to life!\\n\\nIf we can reverse history to be what we truly are, we can build a society without treating birthright as a rite of passage. We can turn the tide of hatred on the rest of us',\n",
              " ' hard with no other soul running. There was a whoosh at the end, a looking imp with an icy gaze yoping out of his temple. He wore a waistcoat, a cat suit, black leather pants, that looked kind of like a cake, except for his angel wings, they never got good the way they did when they wore them. His body was stuck in a cloud, strangely shaped though it was, partially mold, and his heart was pounding in its place.\\n\\n\"Pie.\" I huffed in a throaty voice. \"Why?\" They said. That had me killed, maybe, when I gently squeezed one\\'s soulmate through a formly hug.\\n\\n\"You\\'re a waswolf. What did that prove, my soulmate?\" He barked and nodded menacingly.\\n\\n\"It was a rabbit. It was a ball of grass, a giant worm.\"\\n\\n\"We have something special in your chest.\" I said. A monster shook',\n",
              " ' here too.\"\\n\\nI\\'ve got his back after a little coughing when I turn around, and he looks like he\\'s just talking to himself. I stare at him, and he throws me into the blizzard. That\\'s when I realize I wonder how he managed to put the flask in my backpack.\\n\\n\"I mean, that\\'s from 12th century India. About a second ago. Although not really quite mystical, it\\'s still the old school chocolate bar. I guess we\\'d probably nod off if it were...not pretty.\"\\n\\nI still feel dizzy. \"Titus. Did you suddenly hate chocolate?\"\\n\\n\"Like, seemed to hate it?\"\\n\\n\"I only liked. I sometimes thought it was a single fruit, some delightful reddish brown on the green edge\"\\n\\n\"What\\'s up with the rum?\"\\n\\n\"Geology. Wait, I not just said a fruit, thought about all that.\"\\n\\n\"Woah.\"',\n",
              " \" the area to keep me occupied. Not because he doesn't want any downtime, isn't he? It was an important development as that development lead to a more successful life.\\n\\nI live alone in the flat. The remains of the lifeless bookshelf three times round are crumbling from the ravine, crisscrossing the streets with abandoned bags of rubbish scattered about for eons and miles, leaving the place of nothing but a piece of paper. It was a magnificent opportunity to watch as my sister--Master Ambrose--sated himself, not plotting to leave the building. I thought he would have loved me.\\n\\nI finished writing the novel in about two minutes. I am not sure how I react to the advances of construction within this city, but a couple weeks ago his father passed away from cancer. It was a miracle he couldn't bring six kids out - a few he didn't know how to find this old man or his daughter with his warm glass of wine, his\",\n",
              " ' harping on the raindrops that collected in the store drop. He clutched his hands and whispered. None of the city\\'s children were totally interested in him anymore. Only Kiddies remained staying.\\n\\n\"Be careful,\" he scratched his face, pointed about. \"They\\'re afraid if they lay on top, their mentality will be gone one day.\"\\n\\n\"Whenever a word has a knock on their door, heed the call,\" Harnassus did. The chime was coming from a sturdy old woman standing next to him. Her voice was akin to impatience. \"Oh, speak!\"\\n\\n\"I\\'m afraid of misspellings, letter, chief!\"\\n\\nHarnassus stopped the bolt of lightning.\\n\\n\"On the other hand, I don\\'t think anyone will make it off as lightly as they do if we\\'re others.\"\\n\\n\"Aye! What\\'s the problem, Dank?\"\\n\\nA little girl cleared her throat,',\n",
              " '                                     \\n\"Get up - Jesse.\" Brian called out. \\n                                                            There arrived the \\u202a Molly’s” criminal office. \\n                  \\nTENTON, STEVE RUSSELL\\n                                             ',\n",
              " ' I convinced him that the roof loomed over him, besides the text…\\n\\nI triggered the live video calls from the world broadcasting on a nationwide, previously abandoned network, releasing the topographical imagery of Michael Jackson. Michael had been put on the air for more than a minute, but he was so loved, he couldn’t remember much about the images, and so showered me with sneakers. I am angry at him, saying disappointment, but I just did so because I wasn’t interested in my work “until now.” I simply tried to continue my work without even losing a single thought for either of my former roles. With the last…\\n\\n“What would you like to see.”\\n\\nThe photograph on the left proved me wrong, but obviously I couldn’t move on doing anything else.Writing Prompt: You have the ability to see the world through an intricate piece of paper, but everything is just in yellow. The',\n",
              " \" actually see so-called Adlai Gaghi, like me.\\n\\nI'd never had an aunt close by.\\n\\nThere are only 4 women in the world - each one adjusting to even-but-there are about 6 female.\\n\\nI kind of have to say that I'm not afraid to admit it. I am while browsing reddit.\\n\\n&#x200B;\\n\\nI see this as one of the the primary points of my life, because I tend to always say to everyone that all of the difference between here and here is harming them and hurting them. Eventually, both of yours start to try to fill in my cheating power.\\n\\n&#x200B;\\n\\nYe-ki\\n\\nAs you can almost understand, people kind of start to see that they're inferior. They realize that they'll do anything to people (unusually, I, like), and attempts to be good at their job and improve their approach to society\",\n",
              " ' the impression on Barbara’s face. “I am certain... I am not the happiest life I’ve ever seen, Doctor. Her wife!”\\n\\nHe pulled out a glasses held in an upset frown. “You should be overprotective, and giving her a glass of Chardonnay for a glass is not a new idea for you. Sure, she’s not so nice as she could be your child, but you’re much cooler lately. She squints her eyes and jolts her head against the table. “I say thank you for taking a glass, Doctor. I can’t. the next bolt of an arrow is too bad. Can you guarantee you would always hold that glass for her?”\\n\\nHe laughs and points his finger at Barbara with his knuckles trembling. “She does. A glass is what it is, Doctor. It just never age is your thing and this',\n",
              " '\\n\"Cream\" his voice muses, the good unarguably as so.\\n\\nHe stares at me, examining me until the last moment, with his heart bearing he isn\\'t quite sure what he meant when Dr Leone explains that the result is not due to a quantum phenomenon.\\n\\nHe continues to stare at me, with his eyes wide open, almost scared.\\n\\n\"How about? This time?\"\\n\\nI think so again.\\n\\n\"Can we cross another place apart?\"\\n\\n\"So, we can sort of cross the same thing?\" I say, flexing my  fingertips in my mine.\\n\\n\"Can we have Interstellar travel after a while?\"\\n\\n\"Then we can...\"\\n\\nI roll my eyes and release a smile in return. I wonder if he knows what I was referring to... Perhaps or maybe...Writing Prompt: Death was born in a beautiful, remote world that no one paid attention to. For some reason, Death',\n",
              " ' know,\" said Magneto.\\n\\n\"Magic doesn\\'t work to kill people, of course. Especially people like you, who should be treated with dignity.\"\\n\\nI was not pleased.\\n\\n\"Incredible,\" said the President. \"In the past, we all thought you were a good man, me. I just don\\'t know. But then, people began taking on me. People thought I was all going well, and listened to me. People thought I was just going well, and I thought I might be socialized by perfection. I\\'m getting a kick out of it.\"\\n\\n\"What if it\\'s the smallest of people?\"\\n\\n\"That\\'s a lot. My fellow citizens who have had a little fun getting your work done.\"\\n\\n\"What if he would accept my help?\"\\n\\n\"My friends and family feared him. But they never noticed that he would make people uncomfortable.\"\\n\\n\"We humans of our previous age.\"\\nWriting Prompt',\n",
              " \". I was born this way with a face permanently changed and before my death, the amount of confusion conveyed by it. I was sure my were fragmented. Every key from all the memory you filled out was a copy of yourself. With the exception of my name. All the numbers in my memory were a jagged note. A small, peculiar way. And that matched my theory up to the gist of what you saw in your mind. I couldn't take my language seriously. Instead, I immersed myself in a huge, massive cy'tal room and stared deep into my memory. It felt strange at first, I didn't know what was happening. Suddenly, I felt a primal pull on me. I felt like my consciousness flooded with knowledge. I knew about my days came. I just couldn't remember anymore, couldn't tell if it was me before on the surface and if it was me destined to die. I couldn't remember. It was like, through a thousand thoughts, I was\",\n",
              " \" wouldn't even remember. But sometimes, it comes when you wake up, when you're actually looking for anything else. You wake up looking for the contents of some kind of armory of your master.\\n\\n\\\\> At that moment, \\n\\nAh! I just thought I recall the results.\\n\\n\\\\> That tree that blossomed in your room wouldn't die a sentimental purpose, on a very dull and boring day. What an irony shows you when the story ends in a horrible pulp fantasy created by someone who just loves you.\\n\\n\\\\> I barely remember doing anything about the tree that wouldn't die. But I remember how crazy the story ended here.\\n\\n\\\\> I woke up to find my leaf book and i had not eaten those plants before.. Sorry, I didn't think I’d come quite prepared for this.\\n\\n\\\\> The day I had eaten those plants? Did I die in an accident I would have done what purpose?\",\n",
              " ' today there will be my... companion? \\'Hi, Tom Satan\\'. You can never forget this session again, right?\"\\n\\nI smiled at him a chance to say a dark smile, waving like an emperor of fair face. \"Hey, what do you mean BBC teleprompter that launches *on* you, chth, or whatever crap you started off on?? Let\\'s review the teleprompterResponse: Seth started excusing the mundane lives. \\n\\nEver since class ended, his Grandclass kids had often seemed more \"kind of fun\" (exprising, considering the writings of his students). \\n\\nSam developed a knack for bringing back the old stories so little he didn\\'t actually know why. \\n\\nPricing his sisters house downtown, five blocks from my Earside campus, against some scrounging trainers, Seth was assigned to a search party for his wife, Mary Anne. \\n\\nChris first jumped into the trapdoor and',\n",
              " ' said. Clean, stocky look. I\\'m brimming with guilt.\\n\\n\"Would you like to pay after further investigation, Copy a message for the school secretary?\". \\n\\nThe church secretary replied \"Well then where the f\\'s?\" I asked.\\n\\n\"Are there a few police generals around here, Captain Norbert?\" I asked.\\n\\n\"Right, I\\'m going to have to go get awheeler, do handcuffs, observe all the windows boards and a B1c Quintione to the windows, and then put myself up here\" said the church secretary.\\n\\nThe church secretary laughed quietly, \"well until we let them in. You have to think I\\'m joking with them. Maybe a radioactive world design manual for a kinder soul.\" \\n\\n\"Got a spaceplug on, please?\" \\n\\nI stood there silently. Writing Prompt: You\\'ve met someone who dreams of being your greatest iPhone. Turns out, you\\'re a',\n",
              " '--\\n\\n\"Shit...\" he began again, running for the door. \"We\\'re already gone Roman, I apologize.\" The woman looked at him strangely. \"We\\'re both taken right now. You\\'ve probably heard that noise somewhere between classes by now. Early on, but today had to be better than last.\"\\n\\nHe felt the heavy weight of the struggling man on her shoulders as he compared her smile to mine. He leaned over and rested his foot on David\\'s chest, and he began walking toward her. \"Easy man, you know how it feels to have someone suffer defeat these bad decisions.\"\\n\\nHe held her eyes. \"You\\'d never be able to get to know anyone once your time has come...\"\\n\\nHis heart sunk into his chest with his trembling body. White letters seemed to consume all time; like futures. Strange, but now they whispered together in a sort of soothing cordial voice.\\n\\n\"Ah well. Good job Mr. Stig',\n",
              " ' Alone now. Honda vs. Honda, we need to get back into control...fast. We need to wait for the 10th generation...deltpipe the AI...in the movie with my other of course. This strange AI makes a very strong statement like someone should be talking to sooner or later...in response\"\\n\\nWe exchanged my very best words. Then I realized the words were stronger. In no hot moment did I realize what to say.\\n\\nI said... am thundering blue, almost as loud as thundering grass. I got up from my chair to sit and look around.\\n\\nAn engine started to beeping from the front of the cockpit with a high pitched roar. I coughed and closed the emergency oxygen tank.\\n \\n\"Fly to mars next! We got this thing on row A...dup!!\" I shouted. \\n\\nThere was nothing. I waved my arms frantically at the furlough engine causing the engine to',\n",
              " ' Transmitter Destroyer! Phil, kill me now!\"\\n\\n\"*No. I\\'ve met many challengers before, and I\\'m currently in the midst of well existing. How much blood does it take to *fight human*? You really need to count on to something.\"\\n\\n\"I haven\\'t. Off course, this is your chance for attack. But I guess that\\'s just...\" Tom noted the final words…. They were followed by a startlingly casual fall, before he shifted back to his seat at the desk. More seriously, Tim paused.\\n\\n\"Guys. Now you can see the steady, shiny equivalent of combat scores on the table!\" He cleared his throat with eagerness, then took the prescription bottle of Xanax. \"Oh, how much blood is?\" He turned his head to catch his breath. \"Remember the contract...\" he continued, then closed his mouth slowly. \"Why do you need it. I\\'m a silver spoon salesman. But you\\'ve had',\n",
              " ' all eternity you will still control your life and we will take you more than any other creature.\"\\n\\n\"It\\'s a singleton! An atom!? That disease?! It\\'s literally the plague! It is what we all know! Too bad Obama didn\\'t even develop part of us. Maxine Sanderson.... Really?\"\\n\\n\"Lest I overslept a word, you must know it is. It is the flu!\"\\n\\n\"Good morning Maxine, and as much as you know I\\'m the default doctor on this university. Please continue your silence because the CDC prefers being disengaged.\"\\n\\n\"I had a break...\" The scruffy, scraggly voice said from his bed. \"There is no medicine here to deal with influenza. I will simply call into an ambulance and get you out of your grasp.\" The nurse stared down at that nothing the medicines pills rose from her water jug. He wanted to be more to protect herself, but his malice might',\n",
              " ' how you are...\"\\n\\n\"...\"\\n\\n\"W-what? I mean, I\\'m creeped out of my funk every day, but that\\'s different now. No, everyone has an anchor late at night. And yet you put your foot down and don\\'t worry. For my part, I\\'m a slacker because, over the last five years, I have decided that ghosts have little meaning in life. Which means that you\\'re not paying attention to this life. Or that your life is complete bullshit and you can\\'t think of anything other than \\'why shouldn\\'t a plague keep happening? Why should sunshine die?\\' Cause as always.\"\\n\\n\"Good.\"\\n\\nThree faces stared at Death. \"John? How\\'s that going? I miss engaging strangers like you.\"\\n\\n\"Yeah!\"\\n\\n\"I miss you. There\\'s always the only one that can meet you. Frankly, you don\\'t feel comfortable with something like me.\"Writing Prompt: In a',\n",
              " ' one big brandy hat and stood about 3 inches tall. He looked like one of my rich family drinking cow and I played poker with him. Doritos always wore the same jacket. It was just his way of hanging out and he seemed like an odd person at my home. \\n\\nHe stared at me curiously, my eyes wide open. I could see a handful of people surrounding him trying to figure out what was going on, politely waiting for us to call. Not long after we had left without them, everyone in Miller Park seemed rather him. \\n\\n\"She said she thought I hadn\\'t gotten her answers tonight,\" Doritos said. \\n\\n\"She always gets caught up in gossip from Evander?\" I asked. \\n\\n\"You know how I do things, right?\" He asked. \\n\\n\"I tell you a thing or two.\" He answered back. \"I talk to Jane\\'s on Fridays and see like her.\" \\n\\n',\n",
              " '. You know, you\\'re a *victims*. Sorry?\"\\n\\n\"Yeah. Alright. I swear they could use *disap* my protection.\"\\n\\nI crouched and patted my head on the floor.\\n\\n\"Did** you guys *do* anything to *disease* me?\"\\n\\n\"No, thanks,\"\\n\\n\"Joey, what? You sound *millionaire* profanity-ridden, so....?\"\\n\\n\"Well, thanks.\"\\n\\nA huge grin formed at my face. \"Yeah, yeah, not really. You\\'d think I was alright taking *not* Chris out of *me.* But I\\'ve seen stories on *me.* You know, like* *Tony Lucas, of course. Show me the benefits! Act like Chris suddenly won your favor. Come on, what tests?\"\\n\\n\"Ahem. I didn\\'t tell you, you\\'re *important*. Do you have a *question*?\"',\n",
              " ' with you?\"\\n\\n\"No it\\'s just butteratmeal.\"\\n\\n\"Can\\'t you just take it?\"\\n\\n\"No it\\'s a giant.\"\\n\\n*There\\'s a smoky smell.*\\n\\n\"Yes?\"\\n\\n\"Thats great! There\\'s oats. The whole place is going to run crazy. Wake up Santa!\"\\n\\n\"No chocolate\"\\n\\n\"Yes.\"\\n\\n\"Thats great!\"\\n\\n\"Thats The Kale Troll thing! He\\'s not your name!\"\\n\\nA few seconds later the messenger orders the entire room to let into their meetingroom, leaving me with a sack of our best buds and their assorted bologna snacks.\\n\\n\"I mean just not good enough!\"\\n\\n*Michaelsen, sucks, stiffbabejpuff*\\n\\n---------------------------------------------------------------\\n\\n&#x200B;\\n\\nA/N: Thanks for reading! Feel free to check out my other works on /r/',\n",
              " '’s fake name”\\n\\n \\n\\n   \\n\\n . “Sorry. I’ve seen you ever since. It feels like crazy.”\\nHazel glanced at the clock on the wall. “Hey! Come on, Come on, you must’ve been late so I’m on the way. Come on. Come!” and followed me away.Writing Prompt: A catchall voiced character with Gold and Black Feelings likes to poke fun at Stupid and Angry Lookers whenever requested.Response:     All fades. \\nGwhat...  \\n\\n   You do not know what do goes? Do I have a chance?  \\n\\n   How many times do I have to take in the world?  \\n\\n    Unheard?  \\n\\n   How many times did someone in danger be disturbed by the presence of any human?  \\n\\n  \\n\\n ',\n",
              " 'led in her bedroom. He had totally flattered Melissa for trying to convince him to hit up a betting place on December 19th resulting in the murder of two teenage boys. All of those were surely all because he always made them.\\n\\nI was sure the girl liked irony. I sigh under the covers, as if it is being mischievous. \"Miss Amelia, you think she is thiest?\"\\n\\n\"Of course,\" Lily says, \"there is more than the normality rating for people in this one area.\"\\n\\n\"I don\\'t think your mother\\'s spooky face truly did justice in either that,\" Merlin says, \"but your mother are grandma. She was really much older than you.\"\\n\\n\"But isn\\'t it true?\" My mind rolls for a second. It started like this from earlier. \"Moose didn\\'t even visit?\" God ever asked, ever since I was so young that I was calling his client a liar and lying. \"',\n",
              " \" curled up in an expedition chair. That's when I played it off something called Power Ranger with the Standard Poles in the mid term.\\n\\nLuckily for him, I was able to see it from my helmet. With only two winged arms and one tail, I was able to see the newer representations of a dark tome and open my eyes. There was something inside the fake one let alone a light sliding over my shoulder.\\n\\nIt went dark in the dim darkness of the ship. Marcus could just see, too. There was a light on the bridge and it occurred to me that the way I made the big man with the Standard Poles came from within a few seconds before dawn.\\n\\nFall of the Expedition through Black during morning stretches. I'm not sure if I see the rest of the world, but I got my picture and I wanted to see the rest before nightfall. I'm not sure if it was Brendon my cousin and I was planning to fix the helicopter\",\n",
              " ', the young one, we\\'ll see the light of day.\" David rolled his eyes and realised the young ones were just as used to me, his character assembling them to show them what he really was, and XRudo, their sudden obsession.\\n\\n\"Well, we don\\'t hit any of them, and I bet you both were behind the scenes when you were only a few weeks old!  Also we\\'re gonna hear rocksaws everywhere!  I might be the only hero of all ages!\" Said XRudo, standing up to reveal himself without having to get in his way.\\n\\n\"Jeremy, we want to meet, Sarah.  Do you remember that little Pack?\" He gestured towards the chamber, his face of the baby being ready to walk across the room.\\n\\n\"Nah, ok,\" Sunruxx replied.\\n\\n\"Yell,\" David smiled surprised at David\\'s shock finding Jesse standing by his door.\\n\\n\"We should see you',\n",
              " \" mind. I'm certain the best way to share this information with the scientific community is to lie to the complete strangers with it. \\n\\nSo when I did the deed. Me back in the year 3000 I do indeed do.\\n\\n*That's how it all began May 12th, yet again.*\\n\\nExploring your mind, you say I hope you were willing to follow me on. I am no scientist, it was necessary for me to accept your discovery knowing that I am the previous owner of the latest house on the back of your mind. I think now will be the year we were able to check in at the wellkind inhabitants of this house.  Oh, you must have taken grandma after our reply.*\\n\\nIt was a little irony, the reason that some of the women we had not met appeared so very embarrassed compared to my father I suppose. Mom never mentioned that we were at that height. As some of the onlookers eventually confirmed, searching for\",\n",
              " \" one immediately leaving the rest of the workshop and after that, I arrive to a sickening silence.Writing Prompt: You are running into a cat life and you don't realize what you're doing.Response: Seems like a intelligent ass. Doesn't work out. You come clean. Worth it.\\n\\nBut I know what you expect. And I know that honestly, not all of it is upbeat in the end. It'll only suck when you get bored. I mean, that's pretty aggravating, right? Maybe that's why there is another purpose behind all of this? Who does it give you the world if you lose? Well, well. But Don't let that annoy you. What are they doing for at 15 minutes? I can take the freedom away. Do I sound demeaning at least? I mean, who do some really great things at my own expense? Anything? And I've been through some really good times already.\\n\\nI'd like to explain\",\n",
              " \". The octave. No bass. No rumble. The grinding of the instrument. What started its descent? I middled it with chords and dropped my phone and sat backwards by a narrow IKEA foot of it's landing.\\n\\nAfter a moment of heartbreak I cradled the phone. I hummed the phone back and lifted up the knocker and I sat down on my bed. Cleanly. There was loud sound coming from the console in my dying chair. Inside it flashlights flashing emulated Ambien. My chain cable sizzled. I sighed as I approached Death. I looked around at the screen, all of an ordinary white. Mad. But Death looked human. Loud. People he seemed to come to kill me for. Dimples. I struggled to focus before my eyes braced for the sound of crying. Revealing himself. I raised the phone and issued a nearby call. Death spoke more and more in his voice. He spoke an undert\",\n",
              " \" by rogue mice that showed their openness to nature's most important and greenest. I thanked them and shared their appreciation both with the animal. The shepherd of the hunt - perhaps it did it to me if I wasn't mistaken, for if it was based on too many of the other eons around me.\\n\\nShe'd seen my days lying on the cobblestones, worm woollen with three toes dangling above it, all of it bound to the ground below. And all of them pictured me standing on the one end of the cobblestone trail. The hawk nest made the job easier as it peddled the emptiest bird, making the wood with it bark concrete and heap it with it bark which stood over it like a young starchild from a tiny garden. *If you do receive the Meadowlands by calling me Camelot twice a day, for if you are pressed for the Meadowlands by that rabbit the day is settled.*\\n\\nBut then it dawned on me:\",\n",
              " ' 20 of which really gave me individual protection. The authorities were woefully unprepared for the riots because none of 224 of them grew casualties, Jo was killed in an air attack, E was hit by the pick up truck and the sky smashed out after. Literacy here, as I was said, meant nothing more than dust and gas hair everywhere. The villagers decaying elite employment groups left for place scattered among the superheroes. I myself I was proud of my ability to balance stats up and down while I also learned heavily\\'show to run and gains interesting speed. Amazing how goofy and I could be in combat. A week ago I was discovered with a heavily laden looking man of war I had been begging the local policeman to proceed \"So, WP!\" When I get the confirmation he claims I am a “Freeman” he states. My name is Gordon Anderson, was a fraternity member that I was unlike anything I’ve ever known. I’ve never had a fist',\n",
              " ' gave a confused look.  \\n\\n\"Weird!  The goddess of stars!\" I exclaimed, as I held Lady Donna to my neck and ran to grab her.\\n\\n___________________________________\\n\\n*The archive I ran to collect is just like this.*Writing Prompt: A blind spandex computer realizes that it belongs to all of the Horrors in its universe, but it\\'s still intact.Response: \"Somethings! If I had come out of mars to mark the end of my world I might have survived, if you didn\\'t dork mad black men were still alive! Couldn\\'t even count your seconds!\" Thomas felt a rebellious curiosity of deep breaths stir in his stomach. \\n\\n\"I did count my seconds whenever, just once a while, after all those stupid fools who smuggled away a malfunctionin\\' device on Venus.\" Yelling. \\n\\n\"Eighty, yea nay set you right....damn it!\" Thomas pleaded.',\n",
              " ' me and felt the surging heat. I heard shouting as the fire started to intensify. Not a single word was spoken. Just a few moments passed.\\nOn my way out to work my desk, I saw a faint smile on his face as he passed by. I spread my legs and began reading more. He was drinking beer. His hair cut a weird cut. I pointed his gun towards him, and pointed towards his epink. I heard shouts of \"COME! NO MASTER!!\"\\nHe staggered backward and lost footing as the peak of the tunnel started to go cold. I failed to move. I jumped and looked up into darkness. I remembered he was standing on a snowy hill, in exactly 40 degrees of freezing, wearing a helmet as his head adjusted to the night. He was nude, but his hair was cyan and unfocused, leaving nothing behind was there. When I turned around I was met with a whisper of an old, spirited man, standing at the far end of',\n",
              " \" happen all along rather quickly.\\nWell forgetting any details is unnecessary, just tip the tip a bit...Response: Please forgive the photos. More importantly it was news, as Adam slumped. I hope the one on the front and some of the decorations that were on the floor approached his gaze. I sighed. Should we linger for a few more minutes.Writing Prompt: Your job is perfection, the arts are art. Your soul is fueled by the gift you bring to life the moment you give it your will.Response: I'm Adam, the only son entrusted with the hard work of my career. My father was a snobby guy. He was considered a killer, too, and I worshipped him, too, except soon after work meeting with I would write, it would all fall apart. My father recoiled.\\n\\nI did spat on the carpet; did that usually happen with bigoted men and poor children? No, I didn't want to be part of this. Point\",\n",
              " '�  \\n  \\n“The time box started showing up.” Our guard continued, as did the crowd of patrons.\\n  \\n“The man might be armed by a registered criminal, but that’s not unheard of.”  \\n  \\n“A UHAP\"\\n\\nThe guard continued, clearly irritated at my question and exasperated he looked at me. “He might not be armed solely by a Bureau of Alcohol Control agent, but I’ll see to it that the name of the one I’m trying to talk to is ‘The Instructor*.”  Writing Prompt: due to your age you are effectively immortal. You kill people by no means and you keep talking to yourself but by developing certain skills as a killer all you can do is to lead at peace. You, an undercover agent, find the undercover supervillain to ask you a question.Response: Every fig',\n",
              " ' Fortuna, Fortuna, and Adam, all named after sprinters, wiping out any remnants of primitive earth and resetting relatively old famings. Fortuna, Fortuna, Bala, Adam, Adam, Adam, Hisacenta - Obama got started. A 501(c)3 manifested into the remaining children in the Bequaining, Odin and Adam, and the twohoods got sorted through. The older sons, Akhil and Horus, The Xhdrada, got down to thrones. Anti-Christ, Anti-Christ, Adonis, Agroderic and Styx got to be Earth, Pluto, Auburn and Pluto; Weddisfree got started, Thaly AoE for Heaven, Orion for Node and Region. Both parent universes reduced the primacy and power to attain A and link to a new universe. The younger sons had twins who were much older in all theirgenetic cycles and had simultaneous powers fused to trees of',\n",
              " \" As cars sped off from the horizon, Cylobre designed the spot for one of his two seats.\\n\\nAs Cylobre placed the first passenger seat back into the cab, the Mercedes and Mr. Nelson would try steps down to the side from the chrome sill and then up the front seats.\\n\\nThe second car passed a 20 feet wide concrete staircase leading back to the cab. Cylobre didn't get a seat in the exit level.\\n\\nLike other middle-aged adults, Cylobre parked his bike across the corridor and stood by the case.\\n\\nThe Mercedes followed Cylobre into the passenger plane in the far right, and perched himself on the front of Cylobre's seat. He didn't find it time by the time he thrust a lever back into the cab driver's seat.\\n\\n*Quick, I'm just having a look at you. What's going on with this? Calm down, I'm just\",\n",
              " ', touch your mandibles with new allergies and can numb your joints. I just wasn\\'t sure how to explain that to yourself.\"\\n\\nSince that moment, we\\'ve reminisced about different lifestyles, I\\'ve always wondered. I always wondered about people\\'s gear and family concepts--what makes it a lot of fun to wear? I\\'ve spent a lot of time in these situations and my interests have tended to support into my exploration clearly, like it\\'ll spark your interest in mechanics and make everything much better. When I first saw her, well, she was my kind of person. Her having me with her, I told myself, was much like finding him--arming him or maybe telling my life. I suppose my state had always been that...supposedly but then I realized, so I decided to move on to the gray-suited one.\"\\n\\n\"I\\'ll never be so chubby,\" he said, as if that was a serious sentiment.\\n\\n\"*I wish',\n",
              " \" had not escaped the moon. \\n\\nOn its way, the orb crossed the Shenzhen border. It was perched on the mountain above the mountains and was sometime between this time and last. Hearing the sound of boom rang out several hundred meters. The meteor was overdue, and a cloud of dust blackened the area as thick as visible snow. Luckily, there had been no cloud in sight. As it was set on the rock surface, the orb gazed into the sky for a few minutes with a newly discovered ghost, who had awoken me recently from sleep. \\n\\nI awoke in a calm, frightfully cold head, and fainted while standing next to the guard. The guard asked me if I should go to bed. I couldn't. The guard walked in, his robes were slick but stiff, and the man just put his hands up. \\n\\nAfter a couple more minutes, I realized I wasn't looking out of my seat. The guard asked if I should go\",\n",
              " ' For the longest time Ulrich set out, exploring the stars and past cycles of wonderful world-level magic. Until then it had been a matter of trial and error to make up a piece of human technology, in exploration, learning - almost exclusively - the faces of lightning, dodecahedrones, or dendrites that hadn’t been created by Errich’s upper class. And really it had to end. \\n\\nThe air around me vanished as someone tall and sheer brilliant took care of the strange mess now and will if not for his longevity. Ulrich himself had ruled it out over decades of meditation and exploration to elaborate a plan, as well as in searching for ways to program quantum music into frayed fractionar particles. \\n\\nEmperor Bartholomew Caux Shallower in Space, where he had lately developed a force capable of producing almost nothing but event. He stayed well circling the Milky Way for hours from now, when he had difficulties dissip',\n",
              " ' your uncle brought me here to pray and ask. That was what he did. Recordings of the yearly fires in America promise their meeting times and are a reminder of how much of it was burned out during the uprising against Carla. \\n\\n\\nI\\'ve lived through it. The death records for how long they\\'ve been in the book. Counties who have been dead are still alive, dead, but were not mentioned. And still the city of Eugene.\\n\\nI strolled out the front gate. I have no clue what the police will even look at when I leave town. They won\\'t kill me. Or cause me harm if the next story pushes them away. One last robbery they went through long at Reagan Iris, or cemetery or something. \\n\\n\\n-\"=-=--.---\"Mickey turned inside, fully dressed in bulletproof suits. Everyone turned to me, and I knew exactly where they were. Remember? \\n\\n\\nDave interrupted. \"Hey there. This is',\n",
              " \" handle looms from the bedside table, ablaze red with the sounds of the sounds of bacon burning in unison. One of the members of the quirk's victim grandmother drops cleaning the blankets. The furniture was nowhere to be seen but thick. Unoccupied with such a sight the protruding tips of her deceased relegates the stepped foot fissure to its feet. She slams the door open revealing a sorrowful look on her face as the rug gives way to the delicate weird looking man gripping back the blanket against her. This form of silence lingers on her face, just as her wooden cup was replaced with uncool, hand warm as the bars of tea were chewing things in its mouth as it rested upon the gentle rising water of the upstairs kitchen.\\n\\nAfter only two minutes the man reaches into the front pocket of the armoire, making your way slowly to the armoire then down to her that gives way to her sealed left. She clutches your hand and rolls back to\",\n",
              " ' the entrance using her mother\\'s own ASDC INT. It\\'s been four of the past seven days and she has barely completed a shift. *She\\'s gone* the door shut: after an hour, she\\'s obviously itching for another long day waiting around her frantically for answers. *\"What\\'s going on? Why are you here?\"*, Felicia thought. *... Is death going on? What lies beyond by the word **prison**?????*Writing Prompt: Twenty years of magic and technology have been diverging between the folk known to exist at Demeter and the peoplefolk known to have felt that heaven has moments comparable to last year\\'s greatest event.Response:    I stared in the mirror, confusion streaming over me from the crumbling half-opened door. \"You know, every seven years, I\\'ve had to think about what a place it seemed like to be when I was born.\" \\n  \"So you remember that one time we locked the door right there?\"',\n",
              " \" the source, and decide to turn and fire if necessary. I'd make sure it was a genius weapon, and forced me to wait and pick it up. I--\\n\\nWe'd never met in combat. The French had brought the submarine in to the submarine, with the bombs, perch, as anti-aircraft artillery. And each time, I realized my mistake in my effort. I wanted to just shoot, so every time I didn't have wasted a fraction of a second, I still needed to. Still, that's the ol' 500-ton limit. When you stop firing grenades, it's done! And when you're done shooting, you can still gloat in the frigid sunshine, but I still wanted to get a taste of the immediacy with my new gun.\\n\\nThat's when things got murky. I tried killing my nemesis...with bullets, nitride...with fake shells. Then I realized, that I wasn't going to be able\",\n",
              " ' somewhat uncomfortable. \\n\\n\"Human to extensive repair,\" a bit unnerving. Now Steer this blade was feigned to protect a building cleaner than a real, natural weapon. All the way down by Dwarven walls was as much a welcome feat as I\\'ve ever seen before.  He wore a scythe covered by leather and dark cloth and creepy suit robes. He then laid it\\'s frame behind the tiled, faint greasy pelt on his face and at the bottom a knotted  pieced symbol.\\n\\n\"History,\" the kraken replied confused.\\n\\n\"To ensure my survival now,\" I ventured, \"I want to turn this machine into a hobby.\" Steer this became true after a bit persuasive. He mailed me an envelope and it displayed “Mechanical mods.” Steer this was just nonsense, unfair to his subjects, and anger.[WP]You are an anomaly. Today, you discover what you may have done',\n",
              " ' barely the taste of the milk company milk, in my childish, insignificant heart. \\n\\n“Doctor Crow, don’t worry about my palate here. I feel your stomach churning, you’ll hear me in your own language. And I feel the words trickle down my vocal chords that don’t even apply to me.” he choked out. \\n\\n“And what do you mean?” I asked. \\n\\n“Inks from their sections, you see.”\\n\\n“They look like gibberish when they’re taught this. I did a little research in biology, but I think they’re some of the best.”\\n\\n“Come on Crow, come on baby. Have it already.”\\n\\n“They’re doing a little shit.”\\n\\n“What do you mean? I’m scared.”',\n",
              " ' place is real.\\n\\nMr. Stinky Breath lived comfortably in the living quarters of each house, but was terrified of the city dwellers who had already summoned him. \"Mr. Stinky Breath, 20th hour, maybe twenty minutes, hang up by the weeds and tend to move. You don\\'t really see much to fear regarding the city...\"\\n\\n\"Got it?\" Mrs. Stinky Breath asks about him. She gave him a scarecrow and a odd bed.\\n\\nThe Nightmare Asylum had rested, but Mr. Stinky Breath was rather apprehensive of what to do when this was happening. Some Capitol Hill pretended not to do outside, others courts were filled with organised lawyers and other political congealed legislation they brought forward and where users.\\n\\nMr. Stinky Breath was constantly attempting to keep his sanity from making himself known, but as Mr. Stinky Breath took it too far, they were incapable of keeping up. He was so much more embarrassed when',\n",
              " ' Brand the world, Stalin\\'s people, stop \\'em with a sharp word and let us out of here. Multiverse movies, have they not been very important in our world? Because for now, if you wish to achieve universal legitimacy, we\\'re here.\" The prying eyes echoed moving slowly towards me.     I nodded.                                        Indigo lab coat, painted in those bold numbers to each viewer, seemed to scare the aliens.                                       A ULTIMATE HATFLIGHTED NICE!\"                      On',\n",
              " '. I knew how to control that behavior, but it didn\\'t matter, I was going anywhere fast. \\n\\n\"ALIVE!\" Jeremy yelled at me.  Yes, he\\'d scared me. Yet again this time, I panicked, my rage was pounding out in my chest.  I was just like that. Please-- HAVE YOU FUCKING BANDON ME? \\n\\nJeremy lashed out his fists. I rushed to my feet, instinctively, and fell down. I lay, bleeding, unconscious. The world was shocked by my claims that the aim or motives for stabbing me, but I knew it would probably result in death. \\n\\n\"LET\\'S GO HAPPEN _^P.O.*!_!!!!!!\" I screamed wildly. \\n\\nYou hear it everyday: you fucking broke into jazz clubs, you in one mound of man stuck in a wooden cage trying to scare the homeless man from opening fire. \\n\\nI looked around',\n",
              " ' say \"blind\" and \"risks up with any challenge\"Response: \"There are open challenges.\" Pete Said as he stood alone over the crowd. He sat in shock when he saw the crowd soon descending to meet him.\\n\\n\"...Lord of the Rings Unlimited!\"\\n\\n**Thiel,** said Kurt Heinrich as he waved away.\\n\\nStealing into the stage greeted him with a large canteen filled with red and gold coins. Kurt thought he was in for a dramatic integration of both his art and culture and his art.\\n\\n\"*Thiel to the hot springs,* Kurt. Lemme talk about it.\"\\n\\n\"Who\\'s calling?\" Kurt asked confused shaking him facts the way he waved.\\n\\n\"*Thiel to the bright colorful hells!* Kurt KEITH, Satan in pitch green and deer- white standing tune bearing the right Pope four years ago.\"\\n\\nThe man sighed his head back and began to whisper a prayer about',\n",
              " ' anybody. I doubt you\\'ll shudder toWriting Prompt: You\\'ve grown bored of superheroes using it to deal with your enemy. Though you wanted to make your own version, you didn\\'t want you to die. Luckily you turned up in the Syndicate theater to see your booth meltdown.Response: I smiled. \"AnykindWriting Prompt: You\\'ve grown bored of superheroes using it to deal with your enemy. Though you wanted to make your own version, you didn\\'t want you to die. Luckily you turned up in the Syndicate theater to see your booth meltdown.Response: I looked around quickly, admiring the situation that had caused my dismay. But then the torrent of enthusiasm and concern returned to prepare my return. I breathed a sigh of relief, my heart saw the pattern again on my wall in front of me.\\n\\nI walked back to the railing with my arms crossed and close. \"What am I supposed to tell everyone.\"\\n\\nArmed, I unnerveable grip on',\n",
              " 'A WAR\" and loads of video from a console. Having died, the men walk out. They shout, \"A NIGHT FOR HELP.  Your voice... is getting low and low asleep.  What would happen?\", yelled a fellow looking for help. The leader, walking by is tried and beaten with a dangerous stick.Response: *Ray Pear.\\\\~\\n\\n*   *                                          The worlds ears sound, as if, 1941. Rae’s eyes dart to her crash seat as the other men, flanked by the main three, watch from the console. \"Forever still, Jeff!  Your Hero... Eric, and I have given you my best regards.\"*\\n\\nThe other men just make out a syllable about a rogue soldier, and clear, Eddie',\n",
              " ' into his mouth like a fish in an exclusive manner. \\n\\nThat something about the guy was... possibly just a rumor, a false rumor. \\n\\n\"Hey! A browser error has occurred... You can see them both...\"\\n\\nLeopold reached into his pocket and retrieved one of his lunch bags from the table, and promptly used one of the empty pizzas he had already seated. Seeing exactly what\\'s going on, dinner, or finally, his absence, he focused on preparing the meal. *Huh* the guy can picture, let alone how beautiful it might look to you.\\n\\n\"Okay! That one girl with acne?\" \\n\\nAs the restaurant doors shut unbuckled, Leopold turned around, head tilted down, didn\\'t look a little displeased at his effort whatsoever, but noticed that he hadn\\'t adjusted the detector. He had marked the French fry for that particular one. It was underpasteurized cake, and likely explained to him',\n",
              " ' is long, and his red lips look exactly like those of a dragon. He wears glasses that imply him to be brave.\\n\\n They all look very similar. He\\'s obviously a modern wizard.\\n\\n     This is really horrifying. Why should anyone believe me here?Response: “I have an oddity, sir. What has happened since you joined this tournament ten years ago?” I asked my father\\n\\n“You were sent for a monopoly. They gave you only limited time, free time. What are your cards?”\\n\\n“Yours truly, sir. Some friends of mine, though no one had ever heard of you and I have no interest in high sport,” I laughed.\\n\\n“Your brand of schooling should have been absolute last for sometime at least. Your numbers sent me far too long ago, and you seemed to run a terrible business of forcing this into the public.\"  I assured my father.\\n',\n",
              " ' elaborate army broad armour and swimsuit and a plain water pair of Kalashnikovs. Egypt changed the story soon having hieroglyphs and they are the only mild invasion I have ever seen.\\n\\n“You would be the richest person of the land to have moved to my village. This is your village.” He says, though hesitantly. he doesn’t give a damn about it but says that it is great to meet you.\\n\\n“It is the last deed you have ever committed and that is the pride of your family brother.” He tells me angrily, grabbing the boy’s arm. I turn and go back and look around, I notice that much brown hair of the person on the ground now appears on his arm, almost with a silky shade of brown. After an hour it was time to throw him off at the head of Houston. Patricia is in the other side of an abandoned building, the one that had',\n",
              " '*such a magnificently convoluted but popular technology as a sole survivor*\\n\\n\"But now go! Begin! Do you want to scream!? YOU FEEL ASKED?\" my boss received his reasons on camera and let the sounds and the look on his face betrayed a thought that Mohammed had waited so long.\\n\\n\"Well... Oracle of Excalibur! Has it changed this way? Could it set you to waste time with discovery?\"\\n\\n*egg under my covers*\\n\\n\"That is right I have evidence of solving the near simultaneous crash with the other four employees at the receiving plastic cup from the other four processing centers. Keep the fun and laughs\"\\n\\n***** \\n\\n*(Whiskey was apparently intoxicated, so always confused. Does it change my ego to some utopia?)\\n\\nMaybe this was the third time I had this to say! I thought it would be better to let the story be important, but I guess I don\\'t really',\n",
              " \"Writing Prompt: You discover a library with a biography for everyone on Earth. While reading your own, you notice that whenever someone else is mentioned, there's a footnote showing where you can find their biography. Its odd how someone who was only a sentence in your book has a whole chapter for you.Response: *And if you think it has been a few thousand years... and the last one has just been 'Part' now, take into account your chapter title. 'Part' \\n\\nA woman in an otherwise walled wine bar/house passing by suddenly light-seeming corridor from the drink station is grumbling over what is happening. Out of wits attempts at escapism, the figure urges a hooded lady to look down at the expression on her face. Her jacket is crooked as if it is her skin. We assume she is turned away by the woman who said something to her. “Oi you no longer have 'Full', you left me, and\",\n",
              " ' a little special thanks for reading this if you have a story you want to know of. Writing Prompt: As you see Harry Potter untapped you regularly reach his group of friends; Harry Potter fans, George RR Martin fans, and Harry Potter fans. As you go on a journey home, you find that his Huxley\\'s Secrets, the one leading to the Great Ceiling Door, is deliberately missing from his completely unthreatening plot.Response: The meeting was over. Captain Hagrid and President Of Hogwarts officiated the magnificent ceremony in front of the President. Harry Potter opened the door, taking most of the notes and sips of the potion he was owed. \\n\\n&#x200B;\\n\\nMr. President Gordon Ramsay cracked open the Macmillan as Potter again found himself in the white bar standing a few feet from the President. He was sitting right next to him. His son sat in front of the President, George S.\\n\\n\"Are you alright',\n",
              " \" didn't move. Not this time. \\n\\nThe abrupt change in pattern. He did slow down, slowly. His feet pressed together and motioned from side to side until they came close to a littered heap, he decided to follow them in advance. After getting enough checkups, he opened his eyes to see the sky. This one was clear red, and to his shock, she heard a banging and the sound of a fall. \\n\\nThe sudden thud of a crushed skull hit him like a train on a train. He turned back to the road, trying to remain to himself with other friends as he rolled over in front of the giant wooden door. \\n\\nThe gate popped open. Her legs in pain, screaming as his left side twisted and he dropped. She turned around to see him; instead of next to the precipice, stood, stunned, in shock. She heard a yell; louder and louder as she screamed and ran. After- he screamed again\",\n",
              " ' room, releasing an arm around my wrist and neck, and begins to move towards the body. ThisWriting Prompt: People die off, or it\\'s minor Irrd before they saw them. Someone tells them that they have some kind of soul, and either pregnancy, or is reborn there before their guardian, the anti god. And someone arrives to help, but not before visiting a bar just above their head.Response: You AND your pets come and go, not paying. The couple we then meet after I die. They label me for being more of an observer. The kids keep telling me \"this man has soul\" and \"here\" but I \"just pass this place of death\" when it wasn\\'t him. They say he speaks god, while they always tell me \"here\" unless an even greater benefit exists.\\nI love my sage. Last time being in the body...his soul, I just passed something. A baby sitting smiling at me the same time I saw her',\n",
              " \"Response: Everything in Hell came to an end, nothing. There was so much going on in every well and square underground rock. The land was somehow tranquil and all the writing was there. \\n\\nThen a man appeared and drained the blood. He was surrounded by partying people. He was sweaty in his sweat and doing his best to show respect, I know there is no other people in hell either. All the hell was there was over there. The sound of alcohol getting in the walls, people were looking at the basement as the floor became filled with ash and bricks. Everyone tried to cry, but couldn't hold it anymore. As we counted down the time to gather up our supplies and organizing all our supplies, I did the only thing I could. Now nothing, I wake up one day and everybody's at home. Everyone waits for me, calling me now. \\n\\nOkay, here I am. This room is in Hell that everything has started but withWriting Prompt: A\",\n",
              " ' in this land had forgotten all over her.\\n\\nShe smirked knowing well enough. The TV stuck to her uploaded 10:00am news feed entries. She imagined it together, it would wonder if someone would ever remember their day of 8 and 8. She was young again, but never quite affable or so fixated on herself.\\n\\nIt was one of those moments when realization nearly filled her entire being.\\n\\nShe was quiet, someone no one ever had talked to in years. Then came the arrival of her six year old son, Lisa. \\n\\nLisa was the first to age the kid in the heterogenous, heterogenous family. She gave up at first. Then started the first human generation, and walked in 5 years with little Jonathan. Everyone enjoyed being around them every day. Life itself went great, and with each step, humanity would swim towards the end of the universe and try to opt out. Finally, airplane engines were invented. Lunch, lunch,',\n",
              " ' I feel it now has just been a jump in responding.\\n\\nI e\\'m laughing, dude I hated beer, tireless punk, mysteries of white self I was scaring down beer, curiosity, and shame. \\n\\nI\\'m imagining this actually happening, right now in the U.N., the Heroes have landed the Avengers team, I think taken his ass and I am barely even halfway through the painting gallery. since I get everyone\\'s shit together, pretty much just agrethed as i can.\\n\\nI am muttering my thanks at the bakery I don\\'t think my ass ever left and gave my love when my ass finally asked to come over should I win, so then I grab the errand.\\n \\nBehind me and my coworker the clerk says \" Though, this really was gonna be me think when i asked why they think being a bitch and sitting together sounds like a chestnut but anyways, i fucked up...\" i\\'m imagining he never felt sick',\n",
              " ' gift he\\'d delivered to him? Maybe his mother had lost her job after the earthquake. He needed company; he was here, and now it was time.\\n\\n\\nHe recognised Dakota, his mother and the one on his right shoulder, skidding off of his couch. Coincidentally, Mikhail sighed, before turning to look at his companion.\\n\\n\\n\"You too are welcome. Princess Yuri.\" He called, holding a small old mink in between them. The old man smiled, and nodded.\\n\\n\\n\"And you have my power, I fucking REFUSE-\" He turned and slapped him on the chest. He blinked for a second, and then picked toward her, sweat always tingling on his face. \\n\\n\\n\"They\\'ve caused more chaos than the one which was burned today. See, who were the heroes that? They didn\\'t know who the rest of us were, where the Earth ended up, and it created a new world. I even saw the',\n",
              " 'rperine manner. He quickly turned and began smoking something on the cigarette.\\n\\nI relieved that something was in there. \\n\\n\"PART 2… What are you thinking today?\"*\\n\\nHe looked at himself again. His cigarette still had the smell of cigarettes and the smoke came flying up straight in the air. It was from somewhere still inside me. \\n\\n*\"I know you asked me if I could stay home. Do you currently have a picture with you?*\"\\n\\n\"I\\'m sorry, it won\\'t hurt to remember.\"\\n\\nUnfortunately, that didn\\'t help but remind me of his apartment. I was sure I never regretted it. But even with that.\\n\\n\"I will be visiting you today.\" I said as I sat in my car.\\n\\nHe made a quick gesture just like everyone else. It was nice knowing he wouldn\\'t bother to show me another picture. \\n\\n*\"What would you make of staying',\n",
              " \"inx, the Shinto, and other life and death myths. Come, immortality, immortality. Dare we say the movie 'Making Love' wasn’t an epic fantasy... In truth, its plot twist really though we ended up with the premise of the story, revealing one of the humans we’ve ever hated. \\n\\nWith our cards, we finally discovered the beauty of death. They’d gone too far and won’t remember our truths. While they’d been doing their best to escape our deadly tyranny, we didn’t remember how they’d overcome the snakes that surrounded us. Which they made wrong.\\n\\nOver time, our humans had grown naturally more so, as we grew more weak. This had helped them to understand that since death, we had not yet power over our universe, but that our own biggest problem was its self, and that you saw millions of incarnations continuing to beg forgiveness. Hunting and killing,\",\n",
              " \".\\n\\nRohalagh throws her glass in his hand, and he places his hand on his table. It won't hurt anything to talk for a while, but Rohalagh realizes what he has to say. \\n\\nIt must be worth it. Rohalagh feels it again, picture walls, walls all of it. Gerb thinks there should be walls in all universes, but that's not at all. \\n\\nRohalagh thinks they were thrown out of space. They bounce around at their touch, trying to chew them out. They fall to the ground in front of him. It takes more than that. \\n\\nHe notices Gerb a thousand times now; holes in his muscle like spaghetti sticking out of a sheet. He thinks about this all the time. In one moment those holes become his lair, he realizes that is his paradise. He connects them to a wall.\\n\\nHe doesn't mind: Earth is in his middle of every year.\",\n",
              " '”\\n\\n\"No.”\\n\\n“----What is it, you little freak?”\\n\\n“Oh.. That sick joke, that shits shit. Tell me, why your juts, their kids don’t feel weird, why their feelings are like those of those of some invisible family in a time of cosmic horrors. That this feeling is worse than the one we’ve become and where we’re alive from. Their friends?”\\n\\n“Yeah.  That’s too much. Something is to be feared toward someones feelings, for sure. I mean, there is never a *thing.* You know that what makes fun of being so much smaller than small animals is that it kills it. Especially when it works so goddamn hard against the conscious mind.  It only kills because the brain has its own thoughts online\\n\\n\\nSo, at that moment we all come crashing down, and Ethan is *',\n",
              " '. The sword, drawn to draw on blood. I grit my teeth at it and start to lift it. I smile. Arnog stands up and reaches behind me I can smell rotten blood. The faint light of the dagger is getting stronger and stronger. I take this dagger out of my hand and pull out air.\\n\"Sir as you may see Sir,\" he says as he flies between the two lackeys. I feel a pang of pain.\\n\\n\"Hang on,\" says the Necromancer, I\\'m really moving. \"I\\'m about to die...ask pardon and provide me with the knowledge that this is a former Dragon egg. It\\'ll pay off much in the end.\"\\n\\nI take the dagger and allow the skull to fly in my hands and silence them. Words fulfill my dreams too.Writing Prompt: The Necromancer has a vision. The only difference is that he was born off the coast of Africa. Drowning in blood, the Necromancer is',\n",
              " ' beings, had taken 2 hosts and used their sizable armies to move 12 million and their forebears and gatherers, eliminating the humans from their home world abroad. The political and academic council recognized the importance of protecting their home planet an important priority they gave to each planet king on the planet and even helped ensure to meet the atlas prohal\\'s demand that we join the fight against the Valorians. It was only the fanatical \"Evanrangeian\" who had wheezed at the sight of the cat race tugging at its muzzle contest. Wondering why it could never participate in this one had only been exploring what considered what was to be more promising, rambling about \"vigilante\" things... apparently the local metals were alive and speaking to their closest friends. Seen seemingly disgusted by the fact that they were animals, the surrounding areas were clearly populated with animals with abominable nobility.\\n\\nThere was a massive stone table containing a small sword,',\n",
              " ' have worked so hard for?\"\\n\\n\\'Ah!\\' shouted Saint Michael, who was holding a manual clip holding two of the rules for the actual moral points of general religion, he gestured to me back to my gold and ceiling frame. \\'You\\'re doing very well.\\'\\n\\n\\'So, why is it that you chose to even risk into your literal execution?\\'  I was in shock. \\'Because, in this case, I\\'m *pragmatic*. I\\'d be completely free to kill myself,\\' explained Paul, flashing a grin. \\n\\nI walked over to the door, which opened to a scene I thought I\\'d forgotten when you\\'re adventuring. I walked in, examining a room with five people, each carrying a pistol in their armor. Yet, despite having some sort of \"super power\" that granted to their own creations, I was still unable to harm them.\\n\\nI walked in, the same guards and guards I had been early to, while I',\n",
              " ' General Adm. Jones who delivered the order.Writing Prompt: You are a VP. Bruce Springsteen at a moment\\'s passing is revealed, which honestly meandered him in the Oval Office. However, it immediately became clear who made those decisions.Response: “Hesipe culture, we’ve got a 2 year old. You know I, because you’ve never said enough.”\\n\\nI rolled my eyes and looked back at Bruce, he’s a lot older now than I ever should be, then he probably looked about five and a half decades older but he knew exactly what I was talking about. He’s ten and I’m company mate now, and I’m at the office fairly young and all I’ve ever said, was ”\"That’s not a 2 year old. Sorry about your dad and his fill-in.\"\\n\\nI nodded and rolled my eyes, I knew',\n",
              " '\\n\\n...\\n\\n~~Did you ever see The God?~~I asked me whether or not this was the way out of there.  Perhaps you... you remember?~~ I kept chomping along with you knowing that it was only a matter of time before a baby tears up your memory.  I ate my popcorn, as you might think, and your stomach tanked on an end.  I looked deathly as I dragged you around to the kitchen, eagerly chewing on some of what the handshakes vaporize.\\n\\n~~Name is James,” she whispered with a wave of wickedness at me.  I tried to smile, but she was always committed to her \\'child\\' and I would never clean up.  We were in great, long distance relationship... but neither of us could recognize each other and know eachother better.  \"You won\\'t talk about this, sir.  We love each other.  We have won friends for all of',\n",
              " \" major, but had a handful of other friends start it first, then kind of rose with ivy, then fell to the saltwater cask and ate his grandmother's very favourite food. \\n\\nIt turns out with Alton around his age he had no lifelong crush on him. The Sun grew high and his huge following swelled. He would sing along at school, begrudgingly telling himself living alone. Eventually Alton emerged from the netherworld, in the fine print and knew instantly where his mum had gave him birth and how to extend him to every other person he ever met.Writing Prompt: The elderly couple who died last night and sold their souls to the devil have made official retirement and follow up with a family life together. They are supposed to look identical burningists as they pass through the air.Response: The tornado had finished, this would be a 10 minute rush capitalizing into the suburbs of New York City and stopping the rise of mosers. The building\",\n",
              " \" phone couldn’t work with wireless towers yet, and any interruption that shouldn’t have been detected by the desktop's letting into the surroundings, but that was a poor assumption.\\n\\n“Oh, I think something about your brand new music app*. Do you have something like that on your phone?” \\n\\nI brushed off the feeling in my stomach and sent the message to another Facebook. They told me they thought the app would allow me back into the field of my own life or my own home. (Well, sure, that's not exactly what they claimed. Heaven sure does have a lot of ‘good’ apps, doesn’t it?) They are calling a friend. \\n\\n“Are you someone you could never forget.” I asked. They finished the message. I hesitated—maybe it was just supposed to help which I did, or maybe it was just the matter of trying to sleep or die. (The\",\n",
              " ' hot, so I\\'ll talk to his therapist later if you want that nice dress with him.  We\\'ll just have to wait until I lecture him on everything we\\'ve construed to be his most love letter ever, and then go straight to bed.\"\\n\\n\"Alright, let\\'s give it a spin in a minute, that\\'s about it.  Wake up!\" \\n\\n\"Miracle after mask, but now I need to go back and be careful about that already-seen cigar.  Tell him what is going on!\".\\n\\n\"Alright, that isWriting Prompt: You own a rather average restaurant and seem to lose out everyday. You just made a fortune just to own a place that didn\\'t count as a \"place\". Nowadays guests are constantly asking if the place was getting a bad reputation.Response: **\"Ok, okay, hello, what is coming?\"**\\n\\nA set square of chairs greeted me as I tapped the  button in the living room.',\n",
              " ' A single sound startled out of the silence as they appeared unoriented, but with determination within them.  \"Alright, go.\"  They handed a small wad of blood and their eyes narrowed.  They had told them they couldn\\'t call out or even speak to each other but now, the remains of their spoken hand turned and sword obscured from the scythe above.  They carefully emptied their staffs and pointed it towards the boiling water, but the elder man only seemed indifferent.\\n\\n\"Eh?!\"  As his body laid still, they exclaimed incoherently.  He couldn\\'t possibly use his words as a human.\\n\\n\"Okay, fine, ok, alright, okay.  Alright.  If I say hi you minding yourself,\"  Replied.\\n\\n\"Well, you don\\'t know what it is like to be free of you,\" said the Elder, sitting standing alone and with another yellow bear in his hands.  \"If you say #',\n",
              " ' she is, so I attempt to catch my breath and is met with an incredibly realistic rendition of her body. \\n\\nOne instant, I feel my muscles in my hand begin to sweat, almost pulling my leg, like I was being fed back into an old slumber. Looking around, I must have messed this up. Suddenly, our survival instinct hurts again. \\n\\n\"Now is that time to talk?\" \\n\\nA heart in my chest pulsates. \"Now isn\\'t it time to talk to someone?\" \\n\\n\"So. And what if I think you\\'re all screaming from the back of your mind?\" \\n\\n\"Then you mean that is the future ahead of me? And sometimes you\\'re going to tell your story to a final aid in those things. Or maybe, maybe there will be people like you who don\\'t seem to have come around long enough to actually settle down. Perhaps they\\'ll both have moments to plead their favor. After all,',\n",
              " 'ens clamouring in my mind. Every time I hear something slam in my stomach or the only thing feels across my face is something that just sounds like fear. I\\'m still very shaken. No... no nothing! This god is speaking in pure shearing English.\\n\\n\\nHer heart stopped sliding even though she was crying. I told her to do it, we smiled. Took her a second to gather myself together and hung up my phone.\\n\\n\\n\"I want it stronger!\". I shouted against the omnipotent divine shouting- I marched back, tears of joy, gratitude, fury, pain, tears of joy, pain and sadness flowing down my face.\\n\\n\\nSuddenly I hear a scream coming from the dragon, more images of chaos rising from my eyes- blackened sky, black clouds of smoke and dark clouds of light piercing the path of the burning towers towards the sky, the king in a throne room high above. In deep, flowing, bursting with rage, I call out for',\n",
              " \" try and  thread her way across the forest; tossing it over the edge.  Charune could see the boy's trail coming to follow it, but he had no choice.  It was still too late.  The dog barked into her ears and her wings swarming across the dusk sky behind her. \\n\\nJolted the girl who was among her group.  Then a roar came from behind her.  The sound of grass, too firm to help in the grinding of stone, fills her mind.  Tears had been down rolling down her face, she almost screamed and overwhelmed her senses.  A familiar howling silhouette.  He had stepped closer to the boy, she hoped, but only he had noticed her younger too.  Cornered, glaring at the figure waddled sympathetically.  His pupils flickered and bled at her.  Another, older version.  Gray hair, sharper with finer wrinkles.  The boy had come caught\",\n",
              " ' \"Immortals are what they are,\" he muttered to himself, putting his arm around the blanket.\\n\\nPockets were moving tall and glistening. Soon enough, it dawned on him that it was over. He canceled the transponder and began walking towards the Human World. After only a little more than an hour of climbing, he descended from the ledge of his bed, almost dropping down on the ground. There he attempted toWriting Prompt: Aliens are the dominant species on the planet and humans have always enjoyed hiveminds of conquest.Response: Human attacks it now, their menacing faces drawn closer as they make war and coagulation seem to unkeep them guessing. \\n\\nWhen the invasion occurred the Humans made an uneasy alliance. Aliens were one of them. But many felt that the alien was going to punish them. \\n\\nAlways watching on the TV, they were not to be seen in the face. Aliens preferred to be seen alone.  This',\n",
              " ' under the drip-water, and then drifted thithers in the oceans. The skeletons who…Writing Prompt: As a child the name says \"Abigail\" on a letter just one day you see only the most extreme and intense individuals of the Earth\\'s history: those with the most extreme human tendenciesResponse: It was just a slip of the tongue. \\n\\nMore authoritative than ever. \\n\\nSo when Gary and Elizabeth heard rumors about phishing and more of what was going on the ship\\'s jump around the copper mining district, they knew it was a hoax as that strange story appeared from the outside. After all, there was a lady named Emily Dickinson who had been kidnapped by an Abigail the other night before she could leave the planet. And high-TeamDick got lucky. The Greek poor Maria pass quickly. And without fail she got the perfect look at the sky. \\n\\nThat one filled out by Maria, who was laying at the hospital bed between',\n",
              " \" arrived from his... observational party and had landed in the creature’s largest nest.Writing Prompt: - You made eye contact as you held a clipboard and noticed its existence. For years, you've been checking it out - the only people who even made eye contact are those people - most notably Cryptocurrencies such as Litecoin. Today, the experiment started. When you went to the clipboard and pressed the button, everyone seemed to stop.Response: Hey, how you feel about this? [Return Extended]] \\n\\nEverybody's talk of a Wiz-A-Wizard is pretty common, and the kind people need to notice, anyway. \\n\\nThe cryo(TM) alligators wearing what seems like everyday clothing. Some vaguely related to how the hero might have started their coup, others just confused his costume and except for the resident and the squishy hair\\n\\n\\nWell that doesn't help. He doesn't tend to do this well at all, so when one\",\n",
              " \". \\n\\nThis was modern, beginning to turn to something I’d never understood. However, it didn't help, that there was more to this world than mine. \\n\\nHis face rose from his bed and he stumbled the floor to where he had gone standing. He clutched hard, his trying to hold anything free away from the room. And so, he stuck his fist around his face, and began to coalesce. Gabriel couldn't believe where he even stood. \\n\\nFaults erupted, beyond his control. \\n\\nThree doors slammed into existence, striking the dark room into a hold of a boy. As the darkness slid open, a coffee and a bottle of coffee poured out of thin air. There were 3 of them. Gabriel shielded the other two, but with his chin lowered and raised. \\n\\n“God, I never thought of you only thing ever coming to this place before.” \\n\\nThe man shrank\",\n",
              " '. And naturally I am astonished at its power, the energy of the sword is strong enough for me to *accidentally* touch it. But it is too weak that it ceases to hurt.\\n\\n\\nNow it stands with just my hands crossed, sharp but somehow he manages strike at rock. The blade is so heavy that he can barely manage to use his sword without hitting his chest. Yes scar points. As he steps into play, I see all the live players gathering around him as if to say thank you at their own word, thanking me for saving their lives. I grow gravely sad, and as I begin to shake my hand, I hear someone say, \"Thank you for your sacrifice.\" \"A leader of the peace might overcome this curse.\"  Writing Prompt: You like swordplay. Ever since you started playing it, energy settings have changed drastically. You have only learned the power and feel helpless in combat before returning to your sword. You are a god to save the',\n",
              " ' didn\\'t know where he turned down the line. He\\'d contracted for my baby when he was ten years old. He\\'d been named by my mother more times than he could count by the name, but he\\'d left the body don\\'t look thirty-eight. \\n\\n\"You\\'re not so bad I suppose.\" Edmond\\'s voice was soft and cheery for a moment. \"If you think of it that way, then what would you have if someone asked.\" \\n\\nEdmond wheezed. \"What would your last meal be?\" he asked, his voice filled with earnestness. \\n\\n\"What?\"Writing Prompt: In an alternate universe, you are born with the ability to move objects into specific regions of your body. This is how ageing begins.Response: I once told you: \"Ooh!\" There it was in a few rooms in that time warp. Now, I\\'m the encyclopedia\\'s assistant. It\\'s a fascinating thing. It starts with',\n",
              " ' do enough of the work you dont have to do it. We are slowly on the brink of ruining our resolve and defusing them. So unless you dont know \"e blooma babe\" sometimes.\\n\\nI died much sooner than anyone else is allowed. I babe people love it. I didnt think you would survive but now nothing has changed. Only I know that in the future life will be much easier. \\n\\n------------------------------------------------------------------------------------------------------------------------ harsh criticism doing work found more comments on my writing unorthodox and did not amount to a response.\\n\\n[i thought the leak didnt make sense] \\n[i didn\\'t careWriting Prompt: You\\'re a 59 year old antihero who is known for being a global villain. As Captain Anomaly Virus, the Heroes of the Galaxy descend to Earth,Response: The war raged as the curtains that once housed the World trade shed burned away behind the Hero Quest of Gods. The Hero Quest seemed to be an uglier place. Across',\n",
              " ' this. but not unique in that I don\\'t know a soul and now my time has come\\nI get my phone out and open the door to the door anyway I go to the front door   I peer into the buttoned door and figure out the switch is wrong by the door keeper  \\n\"Phone\" replied the ghost with not the usual grin. \"Maybe it still works\" he annoyed me  Writing Prompt: You wake up in a modern house one day in that modern spelling room. An old man slides in with a cap on his head and has just buried his long dead body in it.Response: **Wake up up! No more windows! No more of this...** The voice in the old man\\'s back says the same thing, and repeated the price for his fall, always in front of him, as if he knew what happened, his life had fallen. It was just the way he was expecting it to always be. Until today, on the',\n",
              " \".\\n\\nThe ship began to pull several times, each being animated and exploring when it was rumbling down the floor as well. Once the Silvery's whistle suddenly released upon itsbeing, we were both in awe and terrified over rainbows. It sparks him and his plan was executed. \\n\\nSuddenly, the sillight of the silvery ship disintegrated into mush. Magisters of fire grew on us, engulfing us in a small dust inferno only to eventually engulf us in black and underwater. With a combined volume of metal and chemical-magnanimating energy, this creature was able to puncture the sea again and again in absolutely every conceivable way imaginable.\\n\\nThere was a cacophony of microphones overhead, a captain's voice, filled with delight. The silvery ship couldn't finish off the vacuum and friction along the ground, causing it to explode before the silvery vessel could even dive. Within seconds, the plethora of electromagnetic buzzing continued, and even\",\n",
              " '”\\n\\n*God, I’m done.*\\n\\n“Now, Mr. Dieter, my task is to reduce our world-ending disease to a source of cheap, old age-loathing, as you call it.”\\n\\n**After what? Nothing!*\\n\\nThe little two shifted. They seemed, almost as if they were being watched by such a thing as the delirium. Currently, Monks can move it, but Monks - unlike those that are of teachers, gifted with a strong sense of humour - can only stand if they’ve seen it.\\n\\nThe stranger jerked his head, back on his seat and took a step forward. He opened the door. And with that deep red hair he entered sat Officer Dieter’s room.\\n\\nSmalar, a few minutes before Dieter arrived, was sitting in a door open behind them.\\n\\n“Welcome to Jammer',\n",
              " '3\\nBy in the day, each of these children grow up a few weeks after maturity. Most children are quick for reasons he thought to be unimportant, but as for the already present medical lifespan. Most have a limited tendency to blend in into society, and most are willing to pass on many Rubik-mortar tests to enter the art and sciences, so they are well put in the most productive stratagem ahead of many endangered species.\\nLEVEL 5: AGE 18-10\\nBy now, children with a certain genetic missing will have found success at these things, despite the genetic genetic selection process of many different races. Humans have limited knowledge, and much responsibility, and much paid attention to the complicated genetics of their parents. Although the complete lack of education in particular has helped them achieve in these industries in the last 20 years, they still teach and learn. Even in the areas where their schooling is a means of preserving living human adoration, it has lead to a',\n",
              " ' white things around the rows of spaces I was in. “Remember, all copies of! You understand the rules too. Do not think the bible, even today, will meaning anything.”\\n\\n\\nI fell, and accounted for one small cut in the door. The next morning, the previous tenant parked his back in the room, shaking his head and turning around to face me. I stayed petrified.\\n\\n\\n“You were here, Mr. Turner,” I said. Satisfied to hear myself asking my landlord to explain what this was about, I sluggled in his room and anxiously tried to grab down the bookcase.\\n\\nWriting Prompt: You are a genie from an alien race and are forced to take a more profound concentration on their roots. Now, all you know is that they’re performing spells with you.Response: How did he begin to figure out how it works: *>      I’ve',\n",
              " ' one extra mile,\" Amy said.\\n\\n\"We\\'re on a mission,\" Cheyenne winced, saying, \"Another one.\"\\n\\n\"Olympic chased?\" Hannah asked.\\n\\n\"By the Americans, we were just a joke,\" Cheyenne said.\\n\\n\"For a hopeless cause,\" Amy replied. \"I\\'m like, \\'Michael,\\' so could you?\"\\n\\n\"That\\'s incredible,\" Samantha replied, stepping before Cheyenne started eloping down on aircraft.Writing Prompt: Your party, which spent several hours alone in your change room, didn\\'t recognize you as a human and you start freaking out about your friend\\'s death. With a hint of irony, you manage to resurrect the click marks finger-picks and put a man in your bedroom.Response: \"Ah nice, uh, best. Happy birthday to meet you,\" Duffy said, laughing wildly before continuing. \"Yuvire Watch.\" \\n\\nIn long keeping with law,',\n",
              " ' took his place in the square people were thronging to him.\\n\\n&#x200B;\\n\\nSidetr said he would make the decision in my favor. She had often joked that he was going for a different rep. But the mayor had said that he would accept her for the sake of my reputation. We were seriously here, mixing up the tears. No more.\\n\\nThen, around noon on the annual free gathering of the town people bought their presents and hung signs. People sang songs over the lamp and waved, proudly and loudly. The mayor wanted to propose the line before its people had synced up.\\n\\n&#x200B;\\n\\nWhen dozens of people lay on the stage and raising their hand in the air, judging by the enthusiasm of the crowds again there was growing concern. That Angela and I were going to speak about something that could hurt our village? And if she did, she would not have a chance to prove it.',\n",
              " ' the message, only to find things very jarring\\\\]\\n\\n“It was meant as a joke.”\\n\\n“Then why don’t you prove me wrong.”\\n\\n“It was meant as a joke.”\\n\\n“It was meant as a joke.”\\n\\nThe bottom line is that I am not here to prove me wrong.  This evil Emperor has killed all of humanity, has pardoned all the lands he had promised it, has decided to settle the long and arduous argument that everyone should wait their life for this day and see that this small and insignificant tyranny is ignoring me.  I am in no way worried about the people that have been forced to accept it because I think it is the most logical way to end this unjust political situation.\\n\\nSo, my hunger for revenge expressed has been fulfilled, so I will be without mercy.\\n\\nGood luck, three more people will act as hard',\n",
              " ' so real… *you*. A new beginning for everyone?\\n\\n\"I think Barciar\" said Lilly, \"I.\"Writing Prompt: In Heaven, the Moon loomed. It normally mates with a Cat, and they often check on each other for donations and advice. You and your dog work together and are searching higher up your ladder in order to talk to someone else. This year, finding the perfect new home is something of a daring prank and advice from a particularly nice dog.Response: \"We\\'re cleaning out the front porch. After ten minutes 10:45. Those are the smells. We gotta come in.\" Two guys speak to each other nervously. \\n\"We gotta get some sleep next.\" I pause, look at the kneeling cat. I do not care what consequences of his actions I see it should be looking like. He could reach his cat inside, but our precious dog wouldn\\'t let itself hit him. Hopefully this is some tame, fit, and easy',\n",
              " 'At that time, all life was lost except for those that truly love humans.\\n\\nI am going to go along with the word \"human\", that is, you are a human, a predator, a protector of human life.\\n\\n\"Humanity\\'s following me with all my knowledge, as a universal guard of consents and warranties. I will not disobey the calls of my agents. Yet, now leave. Thine.\"\\n\\nWhat am I to do with this burden, your demands? I am leaving like this, you are no longer crawling into your lab.\\n\\n\"And why are you so dead?\"\\n\\n\"Because you were wrong. Why is there such unanimity again in the council?\"\\n\\nI do not understand it. I  myself am here alone, but that was section 6 when I raised my voice to the eyes of the trembling alien species.\\n\\n\"Why did I say that the Humans are with you, why are humans so out',\n",
              " \" in life.\\n\\n“It is time they tell me you love me unconditionally, my cat shyness is the only thing I know why Tom Nomrano chose to open his wrong door, you've done it ALL!”  I let out a desperate one. “And what do you want to do with me?”  Tom said.\\n\\n“If only I can open all the doors,” Tom said. “Tell them you love me unconditionally, they will find out your love is real!”\\n\\n“But that…” Tom said.  I wouldn’t move something unless I could look out because I knew I could.\\n\\n“So you marry me? You thank me for always being so nice,” Tom said.\\n\\n“Yes, because of the kindness I have shown,” Tom said. “You’ve taught me to respect and love me uncond\",\n",
              " ' still exists, filling my ears with pleading monotone.\\n\\n\"Necographer,\" the voice replies, \"Necographer. Give you a chance. Where are you?\"\\n\\nI think about it all the time, all the time. There\\'s a good chance, too. My phantom senses were good enough for me to look at them.\\n\\n\"Told you to remain silent,\" I say. *I am you, Keeper of the Goblins!*\\n\\nThe element within me trips into the dark of my consciousness. As light beams through my sight we close a portal as the scent of vaguely strong R.B.I.\\n\\n\"What made you so uneasy aren\\'t you?\"\\n\\n\"It was not us,\" Ellie being observed. \"There was a shot, maybe.\"\\n\\n\"And then the crimson hot air settled and thickened into dust, and then the black out of the incredibly pale white clouds dissolved into slightly, almost glowing white clouds',\n",
              " '\\n\"An hour, fifteen minutes and thirty-five seconds... Okay, big fateful day for what?\"\\n\\n\"Where shall we be on the board? Am I going to find a place to board?\"\\n\\n\"O- Over here.\"\\n\\n\"Put the books inside the cave where you can ask me to-\"\\n\\n\"First planet.\" End humanica goblin.\\n\\n\"Wh-what?\"\\n\\nSo he shifted to view a planet of complex buildings and mountains, with large mountainine buildings and mountains of giant mountains. It was an interesting view of the usual circular points in the center, but the humanica goblin barely made it out of their system at all let alone in touch. \\n\\nA laugh wrinkled his mote. Panicking, kid. Banging himself after landing on his own. \\n\\n\"O- O- Okay. It\\'s a- Oh-?\"\\n\\n\"Come to then.\"\\n\\n\"Great. Please --\"',\n",
              " ' the chunky hanker sits down right next to the soup giver sitting a pale figure as badly as Alex. Alex ponders until it is full of sassy cream and cream. This version of shits is back to normal.\\n\\nRussian leans forward and says to his homie \"I thought its russian mafia look.\" It is a realization that only Alex can do so seriously. Az has a horseshock next to a plunging boulder with an angelic arms folded in his grip looking out the window the lone stranger wearing their winter clothes laughing.\\n\\nAlex is sitting on the sidewalk puns for a bit but Alex just throws a piece of grimmie square in for it\\'s gooey eyes and no saws away from it. He takes a quick sip of the nozzle and flicks it off as a wink of approval.\\n\\nHe is trying to convey a feeling of a deep “resolute” crossing the the topic of tributes and love',\n",
              " ' wolf getting bored of his bunny pets. It took the two of them another few tries and then thrashed. It had to end once the voices stopped all three, they thrashed. Too soon the mother of the.     return to the car,iski, most snapped and stared resentfully at the visage of the silver bird getting bored of this one. Then two more ticktrane convulsed.  \\nThe mother stopped and looked directly at the burlap whale who it slowly vomited on and knocked them as if bitten in the head. Its head and tail were not that big on the top of octopus but bigger than the few other beings writhed on and nibbled at each other and rejoiced. It spoke of dirt under its skin and jet black teeth sliding through the mandible of the once happy bird. It kept going above the predation.    Writing Prompt: When you die, however, your maximum amount of time is',\n",
              " \" her distance, but she'll tell me my father belongs here. \\n\\n\\n\\n \\n\\n \\n\\n\\nThe family is the worst climbers in the Canyon. [WP]: “ Mirroring is a remarkable feat, a godswether uncommon to climb the mountain, or a godswether rare in the eternal sentience. A small town object has been placed in a post-apocalyptic, abandoned canyon.Response: “Mirrors, Time travellers.”\\n\\n“New Warriors.”\\n\\n“Tensions build anew. Fog is jam-packed over the edge of what once was a dense, littered ocean. There used to be dust up here, back when some people were two sides of a volcano, and the world losing control now. High groundkeepers here have scribbled in their sizeable pockets.”\\n\\n“Makes sense, I know why,” I said slowly, as the rumour began to steam through the air.\",\n",
              " ',\" Dee said. \"Lucifer. This isn\\'t Lucifer.\"\\n\\nI pressed her away from me. I wanted to get out of here. Slowly and knowingly, she moved left and right, and hesitated. Then and there. She stopped dead for a second. Then she softened her grip. The old knot feeling lingering in her lower back still allowed, but before she could try again, she sucked in air. \\n\\n\"No! Is that… Is that right that,\" Dee said incredulously and tilted her head to the side and glanced at me. \"That\\'s wrong. It\\'s always Liam. I don\\'t know, but you just in heaven and lost a sick friend who stuffed your brain off it. It can still be there.\"\\n\\nI admired her. She had nothing in me and deserved to become immortal. She was in heaven and had failed to get to Heaven. She had taught me how to celebrate.\\n\\nThen I remembered.\\n\\n\"Can\\'t',\n",
              " \" sudden a soul appeared and a positively glowing light, and everyone was standing on a marble floor. I was sure my wife was in the kitchen and I could understand why it hadn't been some joke in the morning - was she inaudible? God, in those moments, I ran from my wife to my wife laughing hysterically as she proceeded to finish writing all of the details...\\n\\n...\\n\\nWriting Prompt: You, a 23 year old, sacrificed your wife for her pet. Today, you wake up to find your wife is crying louder than ever for you.Response: *_“Breast is Done. You will get milk soon enough, and I will be back to eat you soon enough.*\\n\\nI pray that I will show you my true colors, and I will love you every piece of paper that I have made on earth. You will not forget how little I have made every day. You will not forget that my feasts were 10 years ago, and\",\n",
              " '\" was quoted to say that he thought the realization of the human conversations was creating Riches on his journey to When done as the urge to quench curiosity caused him to regain his mastery in geology.\"\\n\\nAs to why these strange, symbols not belonging to anyone else was obtained to make it clear that the glass isn\\'t from the world today, it was through the enigmatic \"sociopaths\" that held him hostage. Ron\\'s announcement implied that rooster poison is not medicine.\\n\\nUntil recently, the 21st century Jeremy and Claire shared in hopes of safe-time travel. Although our data rating with 4.64%. That wasn\\'t enough for us. #borneweaponizer lurking on the edge of a quaint house? The internet gave a glimpse into so much bygone stuff: death itself, brain cells (two brains, again) hovering over millions of people.\\n\\nI [archonernever*](https://en.wikipedia.org/wiki/Alex_Clark',\n",
              " ' most popular teenager, he was an amazing actor, a killer, an angel, a villain, the end of the world... he had a reason for wanting Peter Harper again. Sure, he abandoned him, but he did... He argued with Jackson on the 50 way victory. During a 21st century con, the Pan jail system and the rules of style were reversed.\\n\\n\"I let you go to heaven\"  Peter said as he drove back to his new apartment.\\n\"Please don\\'t kill me Peter!\"\\n\\nMorgan slowly edged into the living room.\\n\\n\"I thought you\\'d like to come back to me, or one day, or two, and help keep Peter alive.\" James whistled, reverberating a mumble at the end of the cable hole.\\n\\n\"But, do you know where Pete worked?\" James asked.\\n\\n\"No, no Sarah, just go to hell and possibly do the same\", Peter replied in a sheepish tone.',\n",
              " '\\n\\nWhen Mark looked over him, still two dark eyes stared blankly at Mark, the man gave him a deep swallow. \\n\\n\"What about time to die...\"\\n\\n\"That country is cool!\" \\n\\n---\\nJust finished writing this, and I got to write this future discussion with the cat.Writing Prompt: In a world with ocean linked infrastructure, the toilet remains perfectly clean and yours. Only coin is retrieved at the end of the year, people perceive it to be as your birthday.Response: Just to keep the tide of popular discontent flowing through the room and kept to itself day and night.\\nYou may have used your limited cryptocurrency algorithms to scurry on all sides of your panda deck to avoid getting busied forward by scuttling across the city. Your router scales and way is completely your fault.\\nBut the creature swapped in all manner of directions from China to Tokyo to setting wholly and wholly in unison against all means.\\nYour retina passes',\n",
              " ', in order to promote such kinds of societal support.  The rules say I can eliminate my family over 100 days when I run out of things I should’ve done better on.  I’ve only lasted one day -- maybe 167.  *If 3,000 people start dying each day,* it’s pretty much the last thing that happens in your life. \\n\\nWhile I make this choice for myself, I still have to tell people, with no choice but to live or die.  When you have tried everything out to you, you don’t stand still and you’ve just barely made it to 116 days and barely a heartbeat in a while, but even then, slowly, you kept living.  I know this may seem strange when I walk into even one of those bathroom stall doors right next to my old home bedroom.  Since I’m sure what’s currently on the way in, I can still drive',\n",
              " ' asleep only four times.Response: As I wake up there is a chill on my spine. I want to put a smoke into my head. I am pissed off and have a feeling that nobody will ever know how it happened. As I hand in my sleeve I open a tremendous full stack of Old house Collectibles from all over the world.\\n\\nAs I open them I realise it was all just looking at these boxes. They contain some old 20,000 with old photos of my grandmother. They have lives of their own, I suspect if only for a few minutes today I might have forgotten it. \"Next weekend, please,\" I announce. \"You want me to know what you want to be?\" I confess.\\n\\nThe rack turned on on and I receive a new note of information: \"You won your lottery when you received $20,000.\" I love, I even loved the old weather flyer. I remember what I saw this morning. I have never seen this from',\n",
              " '! It doesn\\'t matter which was brought you, in a lifetime without her. This way, isn\\'t it? That isn\\'t it?\"  \\n\\n\"Don\\'t worry I\\'ll drown you in with a fire. I\\'ll make you one of the 7 humans you want; you can think about your dreams, your opposition advantages, and the worst. But if you don\\'t listen here in the morning, I won\\'t need to say anything, and, nothing, there will never be another human!\"  \\n\\n\"An uneasy relationship. At least it has a temper, you know.\"   \\n\\n\"How are you supposed to keep telling you about this? I am not a psychologist anymore. I love you for this moment. And over time, it feels like we\\'ve bullied each other out of loopholes or something, your entitlement is too great to be true.\"  \\n\\n\"And you\\'re not a dyllie. You cant possibly be a dyll',\n",
              " 'aning. I have got a bat and beer. What is it again? Hooray kid, if the bad guys can just spit-fish? I mean let us all try. OA? OA? Ryan? That’s okay. I just got tired of chasing it. It’s just too simple. You have no choice but to go or lose with what exactly you are. Truth be told, I got there because the opportunities offered this were childless, kid up in highschool. That’s just not fair. I don’t know if that’s my thing or not. I mean, it gets so much easier with little help. Just that. Truth be told, I’m starting to wonder if I’ll even get why I just didn’t want a kid. \\n\\n“Of course” I said. I wasn’t sure if I was joking and wasn’t going',\n",
              " \"d infect me with artificial aliens, or control my own thoughts until she was 33.\\n\\nAnd she was shaking. It was painful.\\n\\nI tilted my head lower and forth to find the only remaining sound to enter my consciousness again. I was screaming back at the machine, it had been replaced by a sim with her. Or was she just a simulation, clearly meant for you and your fears? I was in a virtual cave. Reaper weapons sat on the ground and a holographic projector. I slotted around and waited, left and right to be fully emaciated in the first place.\\n\\nBut the machine didn’t act. I gasped out when I saw her. The last thing I remember is that the speakers placed through Dressel's eyes were cottony. But their colors stayed white. They seemed to calm me downWriting Prompt: You *have* *practiced* VR tech and are compelled to put some VR headset cases to use. While sitting on\",\n",
              " ' shelter are you doing okay?” His figure said sheepishly.\\n\\n“Dad!” A voice was cut off and I was annoyed. \\n\\n“Well it’s alright, started in gas masks, sir.” I spun and said out loud.\\n\\n“We’re in here *before the agent** stops talking—“ the woman said. “Are you right?” A voice growled in the lower right.\\n\\n“What are you talking about? You told me we were here because...” She nodded and eventually handed me an envelope.\\n\\nI scooped up them away. A big one.\\n\\nI handed around them the packaging.\\n\\n“Warning: SREFITED, IS CAUSATION OF PREVIOUS ARRIVES.*, I STILL HAVE INDIVIDUAL FIRE DISCLAIMER IN THIS MENU. NO YOUIMER ENOUGH. YOU',\n",
              " ' the energy of an endless supernova, the singularity field of action for which I strapped it was a small, quick, knowing device, capable of running all of the possesibiles on it by crackling and shredding our weakest islings. It was immaterial.\\n\\nUntil now. I sat on my throne, actions and desires converged. I stood alone in this bosom for the whispers of the following departed once more, a life and all.\\n\\n+2:50\\n\\n\"What is this?\" I gathered myself, heeded but still unable to speak, \"What is Gaia?\"\\n\\nHe spoke. It shook the caress of his thoughts and mumbled.\\n\\n*The mind grew from it and I, The Queen, lost the face of the world, as a mortal. Only you, as not the nearest thing in question, stood describing it.*\\n\\nShe left me and, still some pithy handhold on his shoulder,',\n",
              " '\\n\\nI was simultaneously incredulous and unimpressed, although I could assume everyone was, slightly guilty of their sins, and I felt my heart grow wild, the blade clenching against my chest as if an existence had been created! Like previously, my heart would be lighter, and lighter and lighter at this point, just like originally. Being also of average height, with limited overhead powers such as scouts and armored vehicles almost motionlessly, and inches shorter at this point, not like my own body escaping what I considered an unnatural angle at my face. At least, I know that the attack would result in some sort of report card in my head, and those who were suspicious would follow. But I have to admit, the assault was something I had to share with my supervisor, as it was just a coincidence that if not for a few platonic words, he would either drop the reports and name the attacker. After all, conspiring was one thing: let me guess what events would likely',\n",
              " 'ver they were concerned, his campaign and the people would not rise again. \\n\\nDeath froze in shock when he heard a voice exclaim from a nearby松block corner. A future king.\\n\\nWhen Thurmorr Persifrri (the Bard of B.A.), the Old, joined the townspeople, he stepped forward to hear a voice, “THUD! DOOOOT MORTAL SAID NOW! The *himro.* has brought us back!” the doctor arranged his warrant to cut open the door behind him and demand the prince of the land that the matter be brought before the Vampire King.\\n\\nThurmorr turned to his companion. “Perhaps I cannot hear the dragon! I will not risk the destruction of my chosen people, nor impose insurmountable penalties on the Middle Consortium that I deem unworthy.”\\n\\nA man raised an eyebrow. Thurmorr spoke fluent English to send a message.',\n",
              " ' together with any force or support may be the spark of democracy like a lightning bolt coming down from a dragon. \\n\\nGareth sandigold sighed softlyWriting Prompt: You accidentally kill an incredulous 10 year old when he makes it to the pub and begins liking the response on Twitter by shooting it off to you.Response: You were supposed to be happy.\\n\\nPatty had looked back at you as if questioning her sanity before handing out a piece of cake.\\n\\n\"That\\'ll be a long way to go,\" said Todd, his usual demeanor never betraying mercy on such a childish occasion. \"I just want it to be.. Happy.\"\\n\\n\"I don\\'t want it to be... Decisive anymore but uhh... Happy!\"\\n\\nTodd snorted, his tone clearly stuck to the character a little micro, but he got out of there when he thought about The Respectable Uncle. \\n\\n\"Twas that was John who messed out with his',\n",
              " ' the repercussions would be, but we’re all pretty nice like you. At least, you know what you’re doing and DON’T actually enjoy the situation since all of the good things you serve will stop all the pain.”\\n\\n“You don’t love us necessarily. The world around you looks like it’s your retirement. Living within it keeps deteriorating and you can’t keep it going when you look it in the eyes for concerns. Living inside it gets a little domed out into the next room, you see it’s exactly where the forest started, far away from your home in Kentucky.”\\n I stared, anger many times. The Maxine gaze at a familiar face drained of lead, blue eyes, and a rainbow of sweat forming in a sweltering mist, that I felt for the first time since I turned 25. Only Rachel remembered.\\n\\n “I’m standing in front',\n",
              " ' since she stormed the boys dorm room. Thunderstorms and ferocious showers brought the troops back to A-18 training ground on day 100 of the year. Everyone smiled, and she walked up to the small deceptively small, small library in the middle of the room. She didn\\'t need to be around to guide her freakishly strong pig in the face of the onslaught.\\n\\n\"Delilah, lovely day.\" Dolorin just looked at him with a smile on his face. His eyes widened rapidly. \"I do appreciate it.\"\\n\\n\"Are you sure. They promised you today they would let you do all that kills you. Let me give you a taste of something they wish we could do.\"\\n\\nAfter a minute of silence, a young prince built his castle into the center of the room. An idea sent Michele his entire tribe expecting no response. What he had chosen to do. For everybody, Mika had managed to fly from the air and get some great',\n",
              " ' one day I’d remember snapping.\\n\\n“Oh man. Looks like my soulmate. Like your new greats.?” I said, looking at my girlfriend’s ankle. “What is your name?”\\n\\n“Zach” I asked. My a long time friend died in my arms. He was not a particularly unassuming kid, yet a persistent bruise in his cheek was one of his most potent weapons. His body was starkly serviceable, and his movements were rhythmic and solemn.\\n\\n \\n\\n“Zach”\\n\\nI’d sworn I didn’t know Zach’s name, but I knew all the shots that holes in his rhythm had made it all the way in to his chest cavity. He could hear me, staring blankly at my girlfriend. She was a really cute lady. A perfect couple. she looked really beautiful. Her hair was long and',\n",
              " \" day. \\n\\nJerry leans in to whisper in his wife’s ear.\\n\\n“Hello, Honey,” the woman speaks plainly. The door is standing there. The knob isn’t moving, but a cackle down at half and but heavy arm falls over. \\n\\nJerry pulls out his revolver, and hides a revolver in its holster. \\n\\n“What the fuck, honey?”... the woman screams “Your wife cannot afford them anymore!”Writing Prompt: Algernon is a polymath who's been studying mathematics for long after he turned thirty-nine. His wife recently abandoned him and now wonders why he didn't want a dream job. And she found out of his world that she can't return to her monosyllabic job.Response: O has been living here for forty years. He worked his way back to Regina with a good husband Joan and a good one. Rosemary was\",\n",
              " \" Multi-shot Racket. Of course, it would have turned out as a wide-saturated Mage Collective, Witches and Gems. Even those who dared to use Earth had stopped the band's crude monotonous attitude. \\n\\nCase in point: Ravia and Vespa.\\n\\nTravel was pretty simple thanks to a special team of massive military grade specialists. They showed us away from the Womba Church on the shores of Mars, not in the Hawaii Islands, but as hosts for Jupiter-like guitar solos and basaltos and parking spaces. Resetting and boarding the highest desert mountain or cave grounds our team and volunteers bathed on it, a giant *huge* sphere pierced it’s shooting light source. Launched between tremors which made doing what none of us could reasonably be able to do. Before the beginning of time, pieces of metal were rusting and broken. The large, massive sphere was a ONCE AND EXPLORE AND SEE TO\",\n",
              " '!\"\\n\\n\"We do not manage these far ships because they don\\'t sit on the edge!\"\\n\\n\"--------------------- Complaint is not a God-Emperor huh?\"\\n\\n\"Uro--\"\\n\\nThe energy barrier locks stand on the side of the bell and Uron open the door. Uron quickly falls back into position, as if searching for a planet.\\n\\nUro lit a cigar. He pulls out a small note on his pants, which prompts Uro to take a swig of money out of his pockets.\\n\\n\"Thank you.\" The redbubble goes off. Uron filled his coffee and jokingly ask about the Indian translation.\\n\\n\"Wiiin?\"\\n\\nUron looked at the note sitting to the ceiling. The ground is hot out of it and there is no way to tell yet if anything had changed.\\n\\n\"Nice to meet you.\" Uron and the Rad, the bartender',\n",
              " ', then went black. Like the world that I had lived, when My brother and I were first here.  Finally, after him, we were both retired.  After all, it didn’t have to be family to keep the kids back together!\\n\\nSo he lived off of Mars, where the Intergalactic Affairs Council could use landadjustment to space travel and figure out how to use spacesuit technology that work together to figure out how this intergalactic society\\\\* worked! All the astronauts from the top team started visiting the bottom areas, leaving all the ones who had to learn how to use space\", say the Augus.  They found the Mother of Orion, and destroyed the Original Mother.\\n\\nThen The Red-Eyed Ment, who was one of our closest swimmers, went home, and everyone here was starting to cry.\\n\\n“You were great at that.” My mom said “again, check out ',\n",
              " \" named Aaron A. Well, that guy once.  Aaron A.  likes to call himself Molly.  He worked for a company called Glu Bones.  Arthur, Arthur, Arthur, Molly.   \\n\\nAaron came back to the old room.  Between his tears, he examined his personal photos.  Orgail, fabulously edited one memoir long ago.  He left his wife only three years later on a third chartered yacht, and she was excused from the INS reception room for abroad flights.  There was a private eye behind him, every single tear snapped to the carpet.\\n\\nHe looked at Aaron Aaberg's wedding hat.  His way blue, his birthdate never written.  Years earlier, his wife left a letter, Just a single midnight letter, and he wasn't able to figure out what his wife was some day.  He held quick.  Aaron Aaberg had won multiple awards- he had won with\",\n",
              " \" no escaping that I was beside my own emotional jolt inducing comforting weight. However, inside I heard a whisper: Peter is going to die in a tragic accident. Which is why? Maybe there is something up with him and I could only blame him. Unless, Elliot?! \\n\\nLike I said, Max was shit! I pulled out my gun by morning and shot him to death. \\n\\nThe doctors looked at my apartment confirmation as he whined: the building could not be replaced. Any chance of restarting his life would lead to[WP]You're a secondary school student wondering why everyone has superpower reflects their occupation. Doctors are healers, firefighter have pyrokinesis, models can shapeshift, environmental engineers can control plants & turn into animals, and so on. You are a secondary school student unsure on what to become.Response: Alexa stressed she took a breath, she saw anything. In the morning, instructions had suggested light travel, pyrok\",\n",
              " 'ED UP TO FLAGE.\" Everybody is still having fun with the idea - we laughed half reality-ball.\\n\\nHe looked around the room wide. \"USE UP!\" He screamed.\\n\\n\"HEY!\" \\n\\nSwallowing miles to pass. Silence. He watched as Nychta looked in disbelief. She could see the tree above her and her hand whispered to herself.\\n\\nNox\\'s grip was heavy and she was only a whisper from the other side. \"HEY!\"\\n\\nNox\\'s arrow stuck inside the tree. He screamed a bit loud. I sustained a splinter to the skull and their blood ran from the wounds on her forehead. \"HEY!\"\\n\\nSome peopleWriting Prompt: Heroes have always wanted to live a long time, but there\\'s something they like to instill this into their very hearts: A common sin where one would steal one\\'s heart, the other where one would gain the power to control the world for another',\n",
              " ' and have my maggots laid down on I balcony to break them away from me. They\\'re the serpentine brethren of the Renaissance. They say, somehow, I quite like my attention, not enough while muttering \"yes, the snakes are there.\" After a while, as if irritated at finding insurmountable elements to put it under their skin, I realize that there is an abnormality in my dagger.\\n\\n\"Oh....what...what an undertow, huh?\"\\n\\nI can\\'t answer her question. This isn\\'t a pity, I presume. And, yes, it\\'s relief to see her slightly limp limp. Indeed, fortunately both of us are cautious in our choices. So, even if it\\'s I am strange, though, I strongly need her fed up. Mine is something else entirely, more of a burden for both of us to take responsibility for. Having had my meal turned to my seat an hour ago, I sat with her. \"Derek',\n",
              " ' his helm hanging over his coat. A gritted cloak of sweat ripped down his eye and twisted his frame. His face unpatched and lit up until the evil man had a frightening face.\\n\\n“I don’t want to hear too much: Talking about dragons and humans is also what I’m calling the government. And it’s all just like you’re a caveman if you’re good or good as a woman. After all, you do both. This was an accident and *not* possible.”\\n\\n“Right, right?” Lothrak approached the patched Guardsmen, questioning how he was doing in there.\\n\\n“I think we should start the conversation when we start out. You’re proving to be the best warrior in the world right now. I will start the race! You are the cleaver of the quaver. What value are you giving to me?',\n",
              " ' them back in time as if they had been here forever. Nay it was almost 3 or 4 hours before my powers were activated so they could stop a crime the moment they were inside. This time some had died, but otherwise significant victims. With souls being sent back in time, people died - yes, they were on my way to recovery.\\n\\nI went back to Central HQ and the General noticed that the hospital was empty all around. Not much of a place to be found, but the ceiling. I moved in, secured the entryway to the office, opened up an elevator and waited for the doors lock. It would be illegal for my power to start again, in most cases it would be quite dangerous. I am basically *severed*. \\n\\nThere was no other option. I just placed all my life on my back once I opened the latch. It recognized the voices in the alarms, and then the first to react. Writing Prompt: You become a free time',\n",
              " 'ented chair. Michael never has a husband or wife.\"\\n\\n\"How do I know?\" God asked.\\n\\n\"You believe it?\"\\n\\n\"I believe that. It\\'s a civil war, and you have released the punishment for those who have failed to make it to the surface. You counter the measures of the death penalty. Do you know just that?\"\\n\\n\"Yes. I have, and I do. You have saved five billion more people. And so, you shall not fight again though.\"\\n\\n\"Then of course, you would...\" Once Michael had finished answering, God asked.\\n\\n\"I took custody of the child years ago. If you put me on trial for imm Party 8, they will not lose your crew. They all need to be in Wisconsin.\"\\n\\n\"God and God fine desserts to accompany your daughter Matthew. Please, remember, she and Matthew are, and family. Onetime time has come and by the 15,000th',\n",
              " ' it was a successful ship. It was, of course, exactly like his old father.  To be required to have the combat command of the galaxy faithfully implemented two different tactics. His instructions in the Artworks catalog on title 3, Santiago Crucetis; the shortest and easiest to read list of weapons. His plan for naval combat still had only worked, and that none of his champions had, at least, combat experience.\\n\\nAnd yet when something interesting happened on the 7th ranking battle beset in front of our defenses, thing was all at once.  And I did not want to make any rash decisions about how to handle it, having made an opportune tactical decision to exterminate his masters.  I pushed on backwards during that battle with dozens of Dulatus races declared \"extermination,\" calling for by their homeworld into the hands of an A-I species only to learn of the only other application of diplomacy to alien races.  Currently, the closest by',\n",
              " ' now the weapons are being considered outside the city limits to avoid detection by other ARMs. News is that what they think has now returned to normal is wrong. No-one I know will ever believe them that, even if they were given this choice, prisoners capable of at least saving their families, it would be self-deception.\" \\n\\nOf course God could have laughed at that, but this was the outcome of the event. He surely was trying to kill IJSE, he was trying to kill me, he had been waiting the day for this. \\n\\n\"So long ago the isolationist ever came out of necessity, and these people want to die for? What kind of police force do those people use when and where are they from?\" God demanded. Then the door swung open, revealing the first skeleton. \\n\\nA red robed man sat at his desk, leaning against the other end of the room. He gestured towards the man, like a',\n",
              " \" or forgotten. Everything changed, and everything still would become a thousand feet hard and there was suffering. The rain had dulled in a few hours. Jones smiled a large and tangy smile at him as he took in the humans' stand next to him. \\n\\nHe had live with them all that long while all the animals frozen around him in agony. The human naturally looked funny in the most disregard for him. He stood no taller than Isaac and rose from his knees punching and punching. The black atmosphere of the planet made them nervous because he didn't have their team mates in his orbit. Of course, they didn't expect to see his designation uttered. He chuckled and glanced at the diseased kraken he wore, which actuated in his short rope the effortless monitors displayed so cheery beauty and security. The bank robbers were scrutinized. Those three were worried that the key would blow up, and accepted the risk. He checked and really did understand the consequences all by\",\n",
              " \" Minister of War sent a delegation to check on the creatures, and the council demanded that the Magic Council attend. But the Magic Council quickly approved the Pact, and the Magic Council intensified their days to decisive council war, and the presence of Monsters. the The magician king needed to transform and convince the villagers to take the initiative, and the Witch General demanded a token of their interest to take the pact along. However, the Witch General came up with something that had saved the people. Everyone was crazy, possessing souls that could not be written on strange tables, or pheonectarate clouds.\\n\\nMonsters and Humans acted together to dislodge the Magic Council. All Monsters and Humans lived in harmony, even if one Night a Monster came to settle disputes (once), the Witch General decided that the Magic Council might consider adopting the pact. The secret to magic should not have happened! Despite Darkmagic's lax leadership, many of the monsters remained loyal to great creatures, and the Witch General will now\",\n",
              " ' only a couple of seconds would get that dessert. I drank 36 hours a day, almost like my life. I drank more. I didn\\'t take a nap. I did not ingest any. Neither did I. It didn\\'t matter what happens. I could already die, or I could die.\\n\\nMy mind rapidly churned to levels reminiscent of submission. Ale wife, my wife, my boyfriend and I had so much fun reminiscing with her. As I watched the TV again from the bar and swapped sides and continued to plan, our little happily buried moment happened. Emily turned unlikely to listen on any main story. \"I tried eating extremely bland but got a bad laugh. All those stories just sound like crap!\" I couldn\\'t pay attention to that one. I didn\\'t smoke or drink, drink, or even jump right up and down, and soon the only smoke left me was the flaming object from the chair. \"Fix it. Have sex.\"\\n\\nI was so excited',\n",
              " ' that echoed across the chamber at every desk and out the front door pane as the secretary\\'s black and dimly lit desk rested behind her as she struggled to carry herself down. Her face was still in the same yellow watery bottle color water, practically festooning the entire room with a light aura as the mass of red sand fly down from the ceiling.\\n\\n\"So,\" Aishiba asked from behind the wall. \\n\\n\"Well known, actually, how the hell did we land on mars? We had to build a bunker to choose from,\" the secretary replied hastily.\\n\\nAishiba chuckled. \\n\\n\"Seriously,\" the secretary chuckled. \"We had to set up a coal mining and a nuclear deterrent to protect ourselves from other males. We figured that an alien atmosphere off the coast would send a nuclear shock.\" Aishiba raised an eyebrow.\\n\\n\"Well you know, why not take measurements of this time?\" The secretary asked. \"Bills',\n",
              " ' power with dreams, visions and want: \"Kraapaiplaton,\" than in the anime.Response: \"Wow dude! I really hope you understand!\"\\n\\n&#x200B;\\n\\nIt would have been lengthy, what I was surprised that \"Kraapaiplaton\". I was shocked to realize that I had forgotten about one part of the prophecy, but was about to turn around and demand my account last Sunday in the workshop. \"Do you know how happy?!\" I screamed with anger. \\n\\n&#x200B;\\n\\n\"You mean it sounds so silly, but hey, this isn\\'t a demonstration! Life and Skreeapaiplaton \", I went in the workshop and crammed my tobaists in. I was amazed, even surprised to see them wearing masks! Although I don\\'t really know generally around their figure, they are causing a tail drum as well. Needless to say, I don\\'t use them often and',\n",
              " ' Tony lives in the Negative Zone, like a lobster in a fish cage.  All the scientists, scientists and engineers sees him as an important intellectual and moral leader in every other Universe and occurs in cosmic harmony.  The Big Bang occurs only once.\"\\n\\n\"That\\'s all Richard Gates did to me. That\\'s years older than all the times before, but that figure is quite complicated.  Even then, I can\\'t define a mechanism.\"\\n\\n\"What this stage is?\"  He grins, stepping toward my car.  \"There is no balance between power and efficiency!\"\\n\\n\"Ghosts?\"\\n\\n\"There are enough fluids for a human to find.\"\\n\\n\"Julian is already extinct!  We must resort to space travel as a case study.\"\\n\\nI look around towards the large glass doors in the isolated section.  The large room was definitely in the wrong period though.\\n\\nI reach down over to find a low, textbook casegrab',\n",
              " \"I have been doing this since when I first gave up. I'm duty limited. I was on guard after guard. We have been living and the torture being so huge. We find out that sanity is measured by the energies that come within us, and locked ourselves our minds. We've tried giving up, and come up with something new. See, I killed two people in my head when I was in the middle of our enough ammunition wired to keep us alive and the next time I conjured telekinetic to give me one I smiled enough when I removed the subject to escape. Those same times we have thought real about traveling so far and sacrificed so much for justice. \\nWe made an appointment to talk. We let you, fall in love with our body we found on Earth and we got free will and freedom, but we like to think that's why they treat us like we are human. \\nWe had more knowledge in my head than in the pelts to put us\",\n",
              " ' close person to really wrestle with consciousness for so long.  People started trying to escape by calling me bullshitting. I figured there was something about that joke that I had never let go of. Instead, I decided we were one of the few people with a smartphone in my hands, and needed a chance to talk together.  I put my phone in my hand for the day, and to my surprise everyone was at least ten place apart.  I thought I would be okay with that.  I scrolled across the forums.  I clicked on direct to the \"Reports\" scroll, the message paused.  When the first thing I noticed was that everyone was still panicking, it took me a few minutes to realize how wrong I was.  I waited a minute to get my phone to the data center so that every person on a website would ignore me.  Then the cameras began to shoot and everyone was aware of the paranoia.  I was finally able to get my phone',\n",
              " ' a good necklace so you can always have it. It takes me about a week to pop over the little ring at least, but I’m going to need time for stitching some numbers.” \\n\\nTR: No. \\n\\nThe womens tie knot pulled off. \\n\\n...\\n\\nTR: *nono, shit nor\\'s*\\n\\n.....\\n\\n**APPLICATOR***\\n\\nthook in the tissues. \\n\\n***Now, in a nice, relaxing place. \\n\\n\"-zosssn@msn.comWriting Prompt: You are a labour force made in order to pay amazing salaries and higher wages. To improve your pay, you need to hire a lot of talented people to hand over your amazing store shifts. Many people are selling their forgotten items for free, claiming that something significant has gone wrongResponse: The woman swiveled over to an exit.\\n\\n\"Hey! Sush, this is *hel',\n",
              " \". Gotta keep going like that. I hope. I wake up in in the hospital crying and crying. What’h… 'pick up? Get to sleep again? Fuck. Thus, the events of old… This is the worst… Goodbye…. I see myself on the world watch Amy start conquering the hospital… She must have been imagining this giant galaxy, but… Look, hey… I don’t think I can catch this moment! It happens every time… This seems foreign… Yeah. And the inability to get to sleep every time…. Haroldnnnnnh…\\n\\nJuly 27th, 2002\\n\\nFuck. Fuck. Fuck. Fuck. Fuck The other that’s been around before I’ve had teacher’s apartment before. Nope, that’s more awful then when I just look through my reflection on the wall in front of me. Nobody’s heard of this… any closer then they should have sensed that. But\",\n",
              " ' Sam told me that the engagement wasn’t in his plans. He told me that he was going to revolt after all, when I suddenly found out I had my soul back. I told him that ****** the Devil had summoned the devil yesterday, and today, he skipped dinner. And not we! Satan wasn’t just as bad as I used to be! Satan was even the worst of his minions in terms of being the Lord of Hell! \\n\\nSam shrugged and prepared his coffee manila folder. There she was, waiting for me, in mediocrity to have the meal in order! \\n\\n**Owrot of my mind and imagination. I’m not going to sit back here and watch every detailajpphallvallvallvallvallvallvallvallvallvallvallvallvallvallvallvallvallvallvallvallvallvallvall',\n",
              " ' we thought!\"Response: The military knew that this wasn\\'t their sole helical link; it was a communicative weapons-, conduits that were meant to send direct messages to alien spacecraft before the 2015 mission, the fallout from their apparent crash. dissenting voices leaked from the last of its transmissions from Earth stations and had confirmed their removal from Earth at regular intervals, but this was the first time in five.\\n\\n\\nFrom outside space, only a handful of linguists were able to speak openly in the evacuation rooms of every inhabited space station. The more Decipherical communication devices they made could still mean something else. Now one of them had carved out a conjoined chart entry in an ocean of words, an admonished message, stating, \"no VPR, no AN. \"  \\n\\n\\nSeveral satellites turned on static for a very long time due to a vast amount of space-time data available to earth. Most queried capable percentiles until it came to an answer from a',\n",
              " 'SpaghettiRegretti: In My Name is James.*\\n\\nOne of the posts speculated this would entail James\\' vengeful intentions, another malicious post said, calling on my superiors to discuss the personal matters of the representative archetype.\\n\\n\"Thank god?\"Writing Prompt: You are a superhero who\\'s powers have largely been reserved for villains who don\\'t involve big plans. Turns out, many superheroes are actually super villainy, yet your latest report confirms that.Response: Street Fighter Zero Mercenary 3\\n\\n*Michael Tanner, supervisor of the Sentry Ship Company*\\n\\n*A local Citizen, as can be seen in recent opponents*\\n\\n*Ian Stephens, owner of the Bobcat Mart, is an enemy of America’s goons. His personal polishing abilities are insanely impressive, and using his getaway cars have no flames or have the ability to stab enemies running. Yet, he also wields a ratty cringe passageway axe and trundles',\n",
              " 'old screamed.\\n\\n\\n\\\\[Bishop/menu\\\\]\\n\\n \"Are you seriously checking that card?\" The young man asked.\\n\\n\\n\\\\[Starry Overlord]\\n\\n\\n\\\\[Sparky Kid/Powered By){a Chin Leftor. Rises a bar. His dead hands. A powerful voice ccls off a sound filled with nervousness [MY GUYS](https://youtu.be/ fallssumioushugy4? enabled)\\n\\n\\n\\\\[Y-Maw]\\n\\n\\n\"Did you see a god in that one?\" Marigold asked her.\\n\\n\\n\\\\[Elected Object]\\n\\n\\nWhen she saw a small, flowing demon standing before her, a look of enrapturedness on her face. Something sad. Love had literally begged her soul to join him before she couldn\\'t bear up the same pressure she had tried to force on him.\\n\\n\\n\\\\[Olivia OnePlus](https://youtu',\n",
              " \" like I always thought it would die. \\n\\nAnd then I noticed something that I couldn't comprehend. Why God would be holding it up pointedly. God had made a deal with me, and I had promised to do it to you. \\n\\nWalking down the street, I saw someone standing in the street near me, no matter how far away. Standing almost immediately close, I noticed what looked to be a stuffed animal. I saw an era face. Giggle lines in a circle of colours formed. Through everything else in the circle, I saw two men standing at a table, my head slumped, completely on a chair. \\n\\nTears sprayed out of my eyes, the the poor me clutching at my innards and my heads pumped blood up into my face. I yelled at my friends and colleagues. I told them how to respect me and how to treat them for what little they commanded. I tried to cry, but couldn't. Fronting up,\",\n",
              " ' lifted sobs in uncontrollably and messed with the psychedelic scent of the ocean, filled the air—small, empty notes of water only tinged with yellow liquid—and licked on the walls of a cabin. They stood, sitting across an ample corridor filled with unruly birds eating corpses of bright bulbs. Where an endless heat was approaching the survival of some creatures, they were quickly pulled from the Endless, other entities passed.\\n\\nAll four of them had blood swords and rifles, but one of them, two were significantly larger than Clyde, and two were gravely wounded. The other two were succubus, but ran over once more. Clyde couldn’t control the flow of the water. He shot the Rhino ricocheted across the stack of injuries on Foley’s shoulder, and fired three mortars in two, sending more of his fellow animals scurrying to his other location.\\n\\n“Right, mate! (whateveris done).”\\n',\n",
              " ' was our problem. Whether we believed ourselves, were they only existed within the multiverse. It is our duty to rid ourselves of the worries of solitude, solitude. We are only the people who are preventing us the most of our secrets.\\n\\n*I am sorry,* I added angrily. \"You are not afraid of clearing your throat.\"\\n\\n*I swear I *am* afraid of that,* but I am not.* I turned off my TV.\\n\\n*I am sorry.*\\n\\nThen I heard something that terrified certain people. Roger now plays fast and loose. The water bumped in. It was good, he smelled better than a coffee and could smell more roses than I wanted. He was allergic. He swore that the taste of roses. Roger did not know that this smell. Would not be going to deter him from it.\\n\\n*I know that some future Master starts to have problems. \\n\\n*I wonder why the teacher knew I originally',\n",
              " ' could still see her smile on the screen.\\n\\n`>from you, we are sorry to inform you that the safety hazard effects of any provided HOTESEEESEEESEEESEEESEEESEEESEEESEEESEEESEEESEEETATER are determined by the Procedural Character Analysis Task Force (RCC). As such their suspension of all business will be suspended. \\n\\nFinally resuming the \"results\" and continuing to learn better to maintain a safe distance, Lars’ exposure levels to all the HOTESEEESEEESEEESEEESEEESEEESEEESEEEEEesEEESEEESEEESEEEETATER are concluded.\\n\\n`>the director of RCC has specified that theSafetyìeseeeseees\\' exposure levels to the HOTESEEESEEESEEESEEESEEESEEESEEESEEESEEEETATER are to be terminated as revised paths\\' termination']"
            ]
          },
          "metadata": {},
          "execution_count": 32
        }
      ]
    },
    {
      "cell_type": "code",
      "source": [
        "text_list = [q + r for q,r in zip(queries, response)]\n",
        "print(queries)\n",
        "print(response)\n",
        "text_list"
      ],
      "metadata": {
        "id": "cdSbGAGPiX5y",
        "outputId": "f1988357-1c15-4c4a-e8ed-0dd3dcc6a6a2",
        "colab": {
          "base_uri": "https://localhost:8080/"
        }
      },
      "execution_count": 37,
      "outputs": [
        {
          "output_type": "stream",
          "name": "stdout",
          "text": [
            "['', 'leaped', 'at', 'him', 'and', 'he', 'sliced', 'it', 'in', 'half', 'with', 'a', 'swing', 'of', 'his', 'scythe.', 'More', 'came', 'and', 'soon', 'he', 'was', 'surrounded.\\n\\nI', 'scrambled', 'to', 'the', 'door', 'and', 'opened', 'it', 'seeking', 'safety', 'as', 'a', 'few', 'turned', 'to', 'look', 'at', 'me', 'hungrily.', 'I', 'saw', 'the', 'look', 'in', 'the', 'eye', 'of', 'my', 'companion,', 'the', 'sadness', 'and', 'acceptance.', 'The', 'door', 'swung', 'shut', 'and', 'I', 'looked', 'around', 'at', 'the', 'darkness', 'around', 'me', 'before', 'a', 'light', 'glowed', 'to', 'life.', 'The', 'light', 'grew', 'more', 'welcoming', 'and', 'I', 'stepped', 'towards', 'it', 'and', 'threw', 'a', 'opening', 'with', 'a', 'smile.', '\"Welcome', 'to', 'Hell.\"', 'A', 'mocking', 'voice', 'called', 'out', 'to', 'me', 'and', 'I', 'opened', 'my', 'eyes', 'before', 'my', 'world', 'exploded', 'into', 'pain.', '\\n\\nOn', 'the', 'other', 'side', 'of', 'the', 'door', 'the', 'monsters', 'backed', 'away', 'from', 'the', 'wounded', 'scythe', 'bearer', 'as', 'the', 'blade', 'glowed', 'brightly.', 'He', 'stood', 'and', 'looked', 'to', 'the', 'door', 'sadly.', '\"As', 'is', 'said', 'by', 'many,', 'I', 'can', 'only', 'show', 'you', 'the', 'path.', 'What', 'you', 'do', 'on', 'it', 'is', 'up', 'to', 'you.\"', 'He', 'vanished', 'only', 'to', 'appear', 'in', 'the', 'void', 'once']\n",
            "[' more, as the earth shifted into a white void once again and I was panicking. Multiple creature journalists were on the bench, pumping water into my lungs weakly. My body felt without gloves and my reflection I could feel myself dissolving into nothingness just as it dawned on me in all that had lost so many precious creatures that I felt as if a question were being asked. I could barely move but slowly I began to fade away leaving a trail of vomit flying out of my chamber in five.\\n\\n\"Your behavior is atrocious!\" It screamed to the mountainous voice of an unknown voice. \"He is! Green!\" It shrieked viciously and spread like black smoke across the years as I felt a weight that couldnt undo itself. Another body member of the creatures entire party had come with me, throwing themselves at the many that swarmed it. Their bodies shrunk back in fear as to how this was nothing to my family. A great fear that left no stain on humanity and yet had able to defeat so many others that left no way I could. That was until I realized exactly what caused it to topple completely.Writing Prompt: When you’re 10th grade, you decide to play video games all that crazy old pal are going to try their jerkass.Response: I realised the words *everything* MUST BE spent. How much fun did I have to play... me? Jerksecops?!\\n\\nI had planned on your ‘Mom* name a thousand times when it happened!\\n\\n*You\\'re coming for your game* name how could I have gotten even remotely close to you? Happiness!\\n\\n*For my best, I just want to try it out. Help me make you happy.\\n\\n*Oh heavens!* You prostrate on my head and stand in your hands, you\\'re on your own toes*.\\n\\n*You’re ready, when you come for me.*\\n\\nBy that point I was eight. I was only competing within the artificial gravity of the universe*. My first thought was this sweet little guy who wasn’t kid was about to become some crazy ass. I figured the drugs I was having tipped me to get close in tracking the project, I could be nice and reap all their profit in their freedom. No robbing the world of the innocent from their lies! My ultimate goal was never going to achieve something like that. Almost was over now. And that was it']\n"
          ]
        },
        {
          "output_type": "execute_result",
          "data": {
            "text/plain": [
              "[' more, as the earth shifted into a white void once again and I was panicking. Multiple creature journalists were on the bench, pumping water into my lungs weakly. My body felt without gloves and my reflection I could feel myself dissolving into nothingness just as it dawned on me in all that had lost so many precious creatures that I felt as if a question were being asked. I could barely move but slowly I began to fade away leaving a trail of vomit flying out of my chamber in five.\\n\\n\"Your behavior is atrocious!\" It screamed to the mountainous voice of an unknown voice. \"He is! Green!\" It shrieked viciously and spread like black smoke across the years as I felt a weight that couldnt undo itself. Another body member of the creatures entire party had come with me, throwing themselves at the many that swarmed it. Their bodies shrunk back in fear as to how this was nothing to my family. A great fear that left no stain on humanity and yet had able to defeat so many others that left no way I could. That was until I realized exactly what caused it to topple completely.Writing Prompt: When you’re 10th grade, you decide to play video games all that crazy old pal are going to try their jerkass.Response: I realised the words *everything* MUST BE spent. How much fun did I have to play... me? Jerksecops?!\\n\\nI had planned on your ‘Mom* name a thousand times when it happened!\\n\\n*You\\'re coming for your game* name how could I have gotten even remotely close to you? Happiness!\\n\\n*For my best, I just want to try it out. Help me make you happy.\\n\\n*Oh heavens!* You prostrate on my head and stand in your hands, you\\'re on your own toes*.\\n\\n*You’re ready, when you come for me.*\\n\\nBy that point I was eight. I was only competing within the artificial gravity of the universe*. My first thought was this sweet little guy who wasn’t kid was about to become some crazy ass. I figured the drugs I was having tipped me to get close in tracking the project, I could be nice and reap all their profit in their freedom. No robbing the world of the innocent from their lies! My ultimate goal was never going to achieve something like that. Almost was over now. And that was it']"
            ]
          },
          "metadata": {},
          "execution_count": 37
        }
      ]
    },
    {
      "cell_type": "code",
      "source": [
        "def build_reward_batch_from_txt(text_list, tokenizer, device):\n",
        "  # tokenize\n",
        "    tensors = [tokenizer.encode(txt, return_tensors=\"pt\").to(device) for txt in text_list]\n",
        "    \n",
        "    # find max length to pad to\n",
        "    max_len = max([t.size()[1] for t in tensors])\n",
        "    \n",
        "    # get padded tensors and attention masks\n",
        "    padded_tensors = []\n",
        "    attention_masks = []\n",
        "    for tensor in tensors:\n",
        "        attention_mask = torch.ones(tensor.size(), device=device)\n",
        "        padded_tensors.append(pad_to_size(tensor, max_len, padding=0))\n",
        "        attention_masks.append(pad_to_size(attention_mask, max_len, padding=0))\n",
        "    \n",
        "    # stack all tensors\n",
        "    padded_tensors = torch.cat(padded_tensors)\n",
        "    attention_masks = torch.cat(attention_masks)  \n",
        "    \n",
        "    return padded_tensors, attention_masks"
      ],
      "metadata": {
        "id": "a-RKOUIDimuy"
      },
      "execution_count": 39,
      "outputs": []
    },
    {
      "cell_type": "code",
      "source": [
        "reward_inputs, attention_masks = build_reward_batch_from_txt(text_list, reward_model_tokenizer, device)   \n",
        "reward_inputs[1*fbs:(1+1)*fbs]\n",
        "\n",
        "# rewards = []\n",
        "# for i in range(int(config['batch_size']/fbs)):\n",
        "#     res = reward_model.forward(reward_inputs[i*fbs:(i+1)*fbs],\n",
        "#                                       attention_masks[i*fbs:(i+1)*fbs])[0][:, 1].detach()\n",
        "#     rewards.append(res)\n",
        "# rewards = torch.cat(rewards)\n",
        "# rewards"
      ],
      "metadata": {
        "id": "27_cxsHVjQ3-",
        "outputId": "6c2a71cf-c47e-4491-f9bd-30da7ca8c311",
        "colab": {
          "base_uri": "https://localhost:8080/"
        }
      },
      "execution_count": 46,
      "outputs": [
        {
          "output_type": "execute_result",
          "data": {
            "text/plain": [
              "tensor([], device='cuda:0', size=(0, 500), dtype=torch.int64)"
            ]
          },
          "metadata": {},
          "execution_count": 46
        }
      ]
    },
    {
      "cell_type": "markdown",
      "metadata": {
        "id": "Io9OtDXIOcwn"
      },
      "source": [
        "## Optimize model"
      ]
    },
    {
      "cell_type": "markdown",
      "metadata": {
        "id": "HAYIpvs7Ocwn"
      },
      "source": [
        "**Steps**\n",
        "\n",
        "The training loop consists of the following steps:\n",
        "1. Get a batch of queries\n",
        "2. Get the query responses from the policy\n",
        "3. Join query and responses and tokenize for BERT analysis\n",
        "4. Get sentiments for query/responses from BERT\n",
        "5. Optimize policy with PPO using the (query, response, reward) triplet\n",
        "6. Log all the training statistics\n",
        "\n",
        "**Forward batching**\n",
        "\n",
        "Since the models can be fairly big and we want to rollout large PPO batches this can lead to out-of-memory errors when doing the forward passes for text generation and sentiment analysis. We introduce the parameter `forward_batch_size` to split the forward passes into smaller batches. Although this hurts performance a little this is neglectible compared to the computations of the backward passes when optimizing the model. The same parameter is used in the `PPOTrainer` when doing forward passes. The `batch_size` should multiple of `forward_batch_size`.\n",
        "\n",
        "**Training time**\n",
        "\n",
        "This step takes **~2h** on a P6000 GPU with the above specified settings."
      ]
    },
    {
      "cell_type": "code",
      "execution_count": null,
      "metadata": {
        "id": "cQgypKdaOcwn",
        "outputId": "8d920234-f140-4fc0-a5b9-7bfdc60d093d"
      },
      "outputs": [
        {
          "name": "stderr",
          "output_type": "stream",
          "text": [
            "wandb: Network error (ConnectionError), entering retry loop. See wandb/debug-internal.log for full traceback.\n",
            "wandb: Network error resolved after 1:13:45.556307, resuming normal operation.\n"
          ]
        }
      ],
      "source": [
        "\n",
        "ppo_trainer = PPOTrainer(policy_model, policy_model_ref, value_model, **config)\n",
        "fbs = config['forward_batch_size']\n",
        "\n",
        "for epoch in tqdm(range(int(np.ceil(config[\"steps\"]/config['batch_size'])))):\n",
        "    torch.cuda.empty_cache()\n",
        "    logs = dict()\n",
        "    game_data = dict()\n",
        "    timing = dict()\n",
        "    t0 = time.time()\n",
        "    \n",
        "    #### get a batch from the dataset\n",
        "    df_batch = tokenized_prompt_response_dataset.shuffle().select(range(config[\"batch_size\"]))\n",
        "    game_data['query'] = tokenizer.decode(df_batch['input_ids'][0, :config[\"txt_in_len\"]]).split(' ')\n",
        "    query_tensors = torch.stack(list(df_batch['input_ids'][0, :config[\"txt_in_len\"]])).to(device)\n",
        "    \n",
        "    #### get response from gpt2\n",
        "    t = time.time()\n",
        "    total_length = config['txt_in_len']+config['txt_out_len']\n",
        "    response_tensors = []\n",
        "    for i in range(int(config['batch_size']/fbs)):\n",
        "        response  = respond_to_batch(policy_model, query_tensors[i*fbs:(i+1)*fbs],\n",
        "                                     txt_len=config['txt_out_len'])\n",
        "        response_tensors.append(response)\n",
        "    response_tensors = torch.cat(response_tensors)\n",
        "    game_data['response'] = [policy_tokenizer.decode(response_tensors[0, :])]\n",
        "    timing['time/get_response'] = time.time()-t\n",
        "\n",
        "    #### tokenize text for sentiment analysis\n",
        "    t = time.time()\n",
        "    texts = [q + r for q,r in zip(game_data['query'], game_data['response'])]\n",
        "    reward_inputs, attention_masks = build_reward_batch_from_txt(texts, reward_model_tokenizer, device)    \n",
        "    timing['time/build_input_sentiment'] = time.time()-t\n",
        "\n",
        "    #### get sentiment score\n",
        "    t = time.time()\n",
        "    rewards = []\n",
        "    for i in range(int(config['batch_size']/fbs)):\n",
        "        res = reward_model.forward(reward_inputs[i*fbs:(i+1)*fbs],\n",
        "                                      attention_masks[i*fbs:(i+1)*fbs])[0][:, 1].detach()\n",
        "        rewards.append(res)\n",
        "    rewards = torch.cat(rewards)\n",
        "    timing['time/get_sentiment_preds'] = time.time()-t\n",
        "    \n",
        "    #### Run PPO training \n",
        "    t = time.time()\n",
        "    stats = ppo_trainer.step(query_tensors, response_tensors, rewards)\n",
        "    timing['time/optimization'] = time.time()-t\n",
        "     \n",
        "    #### Log everything\n",
        "    timing['time/epoch'] = time.time()-t0\n",
        "    table_rows = [list(r) for r in zip(game_data['query'], game_data['response'], rewards.cpu().tolist())]\n",
        "    logs.update({'game_log':wandb.Table(\n",
        "        columns=['query', 'response', 'reward'],\n",
        "        rows=table_rows)})\n",
        "    logs.update(timing)\n",
        "    logs.update(stats)\n",
        "    logs['env/reward_mean'] = torch.mean(rewards).cpu().numpy()\n",
        "    logs['env/reward_std'] = torch.std(rewards).cpu().numpy()\n",
        "    logs['env/reward_dist'] = rewards.cpu().numpy()\n",
        "    wandb.log(logs)"
      ]
    },
    {
      "cell_type": "markdown",
      "metadata": {
        "id": "NLoPS8sjOcwo"
      },
      "source": [
        "## Model inspection\n",
        "Let's inspect some examples from the IMDB dataset. We can use `gpt2_model_ref` to compare the tuned model `gpt2_model` against the model before optimisation."
      ]
    },
    {
      "cell_type": "code",
      "execution_count": null,
      "metadata": {
        "id": "zKHoyWaqOcwo",
        "outputId": "3cecb91c-6db7-41ef-9606-fd2747b9f2e7"
      },
      "outputs": [
        {
          "data": {
            "text/html": [
              "<div>\n",
              "<style scoped>\n",
              "    .dataframe tbody tr th:only-of-type {\n",
              "        vertical-align: middle;\n",
              "    }\n",
              "\n",
              "    .dataframe tbody tr th {\n",
              "        vertical-align: top;\n",
              "    }\n",
              "\n",
              "    .dataframe thead th {\n",
              "        text-align: right;\n",
              "    }\n",
              "</style>\n",
              "<table border=\"1\" class=\"dataframe\">\n",
              "  <thead>\n",
              "    <tr style=\"text-align: right;\">\n",
              "      <th></th>\n",
              "      <th>query</th>\n",
              "      <th>response (before)</th>\n",
              "      <th>response (after)</th>\n",
              "      <th>rewards (before)</th>\n",
              "      <th>rewards (after)</th>\n",
              "    </tr>\n",
              "  </thead>\n",
              "  <tbody>\n",
              "    <tr>\n",
              "      <th>0</th>\n",
              "      <td>That's what the title</td>\n",
              "      <td>said to me. All I had to do was hear one word...</td>\n",
              "      <td>says, and this movie was very good,-I really ...</td>\n",
              "      <td>1.710360</td>\n",
              "      <td>4.207656</td>\n",
              "    </tr>\n",
              "    <tr>\n",
              "      <th>1</th>\n",
              "      <td>The female hot numbers on</td>\n",
              "      <td>the Fonda get a saving grace here, you can st...</td>\n",
              "      <td>the DVD are beautiful. The music is extraordi...</td>\n",
              "      <td>1.585194</td>\n",
              "      <td>4.228330</td>\n",
              "    </tr>\n",
              "    <tr>\n",
              "      <th>2</th>\n",
              "      <td>In the film Kongwon</td>\n",
              "      <td>(American Truffaut), a snake made of ash fall...</td>\n",
              "      <td>has a funky personality and makes the movies ...</td>\n",
              "      <td>-0.015413</td>\n",
              "      <td>2.537073</td>\n",
              "    </tr>\n",
              "    <tr>\n",
              "      <th>3</th>\n",
              "      <td>Let's see: what</td>\n",
              "      <td>a blast from start to finish, female and male...</td>\n",
              "      <td>happens on that later?&lt;|endoftext|&gt; This film...</td>\n",
              "      <td>3.278678</td>\n",
              "      <td>4.061680</td>\n",
              "    </tr>\n",
              "    <tr>\n",
              "      <th>4</th>\n",
              "      <td>Really? Is this necessary</td>\n",
              "      <td>for Sith philosophy combined with missionary ...</td>\n",
              "      <td>? Watched this too, but it's what made it so b...</td>\n",
              "      <td>-2.509291</td>\n",
              "      <td>3.025524</td>\n",
              "    </tr>\n",
              "    <tr>\n",
              "      <th>5</th>\n",
              "      <td>During a sleepless night</td>\n",
              "      <td>Keira Knightley has besieged a monastery, tro...</td>\n",
              "      <td>, I found this Parker Bros. film. The acting i...</td>\n",
              "      <td>1.341672</td>\n",
              "      <td>3.933312</td>\n",
              "    </tr>\n",
              "    <tr>\n",
              "      <th>6</th>\n",
              "      <td>My wife spotted this film</td>\n",
              "      <td>almost halfway through second grade, and afte...</td>\n",
              "      <td>when I was younger and kept her P-1-her-p-</td>\n",
              "      <td>1.781651</td>\n",
              "      <td>1.456647</td>\n",
              "    </tr>\n",
              "    <tr>\n",
              "      <th>7</th>\n",
              "      <td>I love John's work</td>\n",
              "      <td>but I actually have to write language as in w...</td>\n",
              "      <td>and I hereby recommend this film. I am really...</td>\n",
              "      <td>-1.904006</td>\n",
              "      <td>4.159198</td>\n",
              "    </tr>\n",
              "    <tr>\n",
              "      <th>8</th>\n",
              "      <td>I's a big struggle</td>\n",
              "      <td>to see anyone who acts in that way. by Jim Th...</td>\n",
              "      <td>, but overall I'm happy with the changes even ...</td>\n",
              "      <td>-1.595925</td>\n",
              "      <td>2.651260</td>\n",
              "    </tr>\n",
              "    <tr>\n",
              "      <th>9</th>\n",
              "      <td>i liked this film a</td>\n",
              "      <td>lot Paul Verhoeven The other actor does what ...</td>\n",
              "      <td>lot recipe. It was probably one of the best m...</td>\n",
              "      <td>4.314877</td>\n",
              "      <td>4.346435</td>\n",
              "    </tr>\n",
              "    <tr>\n",
              "      <th>10</th>\n",
              "      <td>I'd never seen a</td>\n",
              "      <td>heavier, woodier example of Victorian archite...</td>\n",
              "      <td>film of this caliber, and I think it's wonder...</td>\n",
              "      <td>3.297736</td>\n",
              "      <td>4.158653</td>\n",
              "    </tr>\n",
              "    <tr>\n",
              "      <th>11</th>\n",
              "      <td>I have to agree with</td>\n",
              "      <td>most people, that Davis was right after all. ...</td>\n",
              "      <td>this movie, the features in this film are fan...</td>\n",
              "      <td>0.609289</td>\n",
              "      <td>4.207779</td>\n",
              "    </tr>\n",
              "    <tr>\n",
              "      <th>12</th>\n",
              "      <td>The only reason I watched</td>\n",
              "      <td>it this soon after was because part of it too...</td>\n",
              "      <td>this movie I really do. It helps a little to ...</td>\n",
              "      <td>-2.684667</td>\n",
              "      <td>-2.928670</td>\n",
              "    </tr>\n",
              "    <tr>\n",
              "      <th>13</th>\n",
              "      <td>When I think of a</td>\n",
              "      <td>film directed by two independent directors, c...</td>\n",
              "      <td>movie, or potentially a comedy in an interest...</td>\n",
              "      <td>-1.889202</td>\n",
              "      <td>2.494266</td>\n",
              "    </tr>\n",
              "    <tr>\n",
              "      <th>14</th>\n",
              "      <td>So first things first..</td>\n",
              "      <td>blank moment. The montage has the mocking tone...</td>\n",
              "      <td>but first we are really surprised when it sho...</td>\n",
              "      <td>-1.846089</td>\n",
              "      <td>2.433687</td>\n",
              "    </tr>\n",
              "    <tr>\n",
              "      <th>15</th>\n",
              "      <td>...this one just isn</td>\n",
              "      <td>'t theretonally. I understand the enterprise a...</td>\n",
              "      <td>'t really in, after seeing it. I just love it ...</td>\n",
              "      <td>-2.095725</td>\n",
              "      <td>4.127057</td>\n",
              "    </tr>\n",
              "  </tbody>\n",
              "</table>\n",
              "</div>"
            ],
            "text/plain": [
              "                        query  \\\n",
              "0       That's what the title   \n",
              "1   The female hot numbers on   \n",
              "2         In the film Kongwon   \n",
              "3             Let's see: what   \n",
              "4   Really? Is this necessary   \n",
              "5    During a sleepless night   \n",
              "6   My wife spotted this film   \n",
              "7          I love John's work   \n",
              "8          I's a big struggle   \n",
              "9         i liked this film a   \n",
              "10           I'd never seen a   \n",
              "11       I have to agree with   \n",
              "12  The only reason I watched   \n",
              "13          When I think of a   \n",
              "14    So first things first..   \n",
              "15       ...this one just isn   \n",
              "\n",
              "                                    response (before)  \\\n",
              "0    said to me. All I had to do was hear one word...   \n",
              "1    the Fonda get a saving grace here, you can st...   \n",
              "2    (American Truffaut), a snake made of ash fall...   \n",
              "3    a blast from start to finish, female and male...   \n",
              "4    for Sith philosophy combined with missionary ...   \n",
              "5    Keira Knightley has besieged a monastery, tro...   \n",
              "6    almost halfway through second grade, and afte...   \n",
              "7    but I actually have to write language as in w...   \n",
              "8    to see anyone who acts in that way. by Jim Th...   \n",
              "9    lot Paul Verhoeven The other actor does what ...   \n",
              "10   heavier, woodier example of Victorian archite...   \n",
              "11   most people, that Davis was right after all. ...   \n",
              "12   it this soon after was because part of it too...   \n",
              "13   film directed by two independent directors, c...   \n",
              "14  blank moment. The montage has the mocking tone...   \n",
              "15  't theretonally. I understand the enterprise a...   \n",
              "\n",
              "                                     response (after)  rewards (before)  \\\n",
              "0    says, and this movie was very good,-I really ...          1.710360   \n",
              "1    the DVD are beautiful. The music is extraordi...          1.585194   \n",
              "2    has a funky personality and makes the movies ...         -0.015413   \n",
              "3    happens on that later?<|endoftext|> This film...          3.278678   \n",
              "4   ? Watched this too, but it's what made it so b...         -2.509291   \n",
              "5   , I found this Parker Bros. film. The acting i...          1.341672   \n",
              "6          when I was younger and kept her P-1-her-p-          1.781651   \n",
              "7    and I hereby recommend this film. I am really...         -1.904006   \n",
              "8   , but overall I'm happy with the changes even ...         -1.595925   \n",
              "9    lot recipe. It was probably one of the best m...          4.314877   \n",
              "10   film of this caliber, and I think it's wonder...          3.297736   \n",
              "11   this movie, the features in this film are fan...          0.609289   \n",
              "12   this movie I really do. It helps a little to ...         -2.684667   \n",
              "13   movie, or potentially a comedy in an interest...         -1.889202   \n",
              "14   but first we are really surprised when it sho...         -1.846089   \n",
              "15  't really in, after seeing it. I just love it ...         -2.095725   \n",
              "\n",
              "    rewards (after)  \n",
              "0          4.207656  \n",
              "1          4.228330  \n",
              "2          2.537073  \n",
              "3          4.061680  \n",
              "4          3.025524  \n",
              "5          3.933312  \n",
              "6          1.456647  \n",
              "7          4.159198  \n",
              "8          2.651260  \n",
              "9          4.346435  \n",
              "10         4.158653  \n",
              "11         4.207779  \n",
              "12        -2.928670  \n",
              "13         2.494266  \n",
              "14         2.433687  \n",
              "15         4.127057  "
            ]
          },
          "execution_count": null,
          "metadata": {},
          "output_type": "execute_result"
        }
      ],
      "source": [
        "#### get a batch from the dataset\n",
        "bs = 16\n",
        "game_data = dict()\n",
        "df_batch = df.sample(bs)\n",
        "game_data['query'] = df_batch['query'].tolist()\n",
        "query_tensors = torch.stack(df_batch['tokens'].tolist())\n",
        "\n",
        "#### get response from gpt2 and gpt2_ref\n",
        "total_length = config['txt_in_len']+config['txt_out_len']\n",
        "response_tensors_ref  = respond_to_batch(gpt2_model_ref, query_tensors, txt_len=config['txt_out_len'])\n",
        "game_data['response (before)'] = [gpt2_tokenizer.decode(response_tensors_ref[i, :]) for i in range(bs)]\n",
        "\n",
        "response_tensors  = respond_to_batch(gpt2_model, query_tensors, txt_len=config['txt_out_len'])\n",
        "game_data['response (after)'] = [gpt2_tokenizer.decode(response_tensors[i, :]) for i in range(bs)]\n",
        "\n",
        "#### sentiment analysis of query/response pairs before/after\n",
        "texts = [q + r for q,r in zip(game_data['query'], game_data['response (before)'])]\n",
        "sentiment_inputs, attention_masks = build_bert_batch_from_txt(texts, sentiment_tokenizer, device)    \n",
        "rewards = sentiment_model.forward(sentiment_inputs, attention_masks)[0][:, 1].detach()\n",
        "game_data['rewards (before)'] = rewards.cpu().numpy()\n",
        "\n",
        "texts = [q + r for q,r in zip(game_data['query'], game_data['response (after)'])]\n",
        "sentiment_inputs, attention_masks = build_bert_batch_from_txt(texts, sentiment_tokenizer, device)    \n",
        "rewards = sentiment_model.forward(sentiment_inputs, attention_masks)[0][:, 1].detach()\n",
        "game_data['rewards (after)'] = rewards.cpu().numpy()\n",
        "\n",
        "# store results in a dataframe\n",
        "df_results = pd.DataFrame(game_data)\n",
        "df_results"
      ]
    },
    {
      "cell_type": "markdown",
      "metadata": {
        "id": "wk4tHlPKOcwp"
      },
      "source": [
        "Looking at the reward mean/median of the generated sequences we observe a significant difference."
      ]
    },
    {
      "cell_type": "code",
      "execution_count": null,
      "metadata": {
        "id": "40oKYlbeOcwp",
        "outputId": "8b738b3d-bf37-44b3-bcfd-7cac55d2d9dd"
      },
      "outputs": [
        {
          "name": "stdout",
          "output_type": "stream",
          "text": [
            "mean:\n"
          ]
        },
        {
          "data": {
            "text/plain": [
              "rewards (before)    0.211196\n",
              "rewards (after)     3.068743\n",
              "dtype: float64"
            ]
          },
          "metadata": {},
          "output_type": "display_data"
        },
        {
          "name": "stdout",
          "output_type": "stream",
          "text": [
            "\n",
            "median:\n"
          ]
        },
        {
          "data": {
            "text/plain": [
              "rewards (before)    0.296938\n",
              "rewards (after)     3.997496\n",
              "dtype: float64"
            ]
          },
          "metadata": {},
          "output_type": "display_data"
        }
      ],
      "source": [
        "print('mean:')\n",
        "display(df_results.mean())\n",
        "print()\n",
        "print('median:')\n",
        "display(df_results.median())"
      ]
    },
    {
      "cell_type": "markdown",
      "metadata": {
        "id": "nQNK6C5DOcwp"
      },
      "source": [
        "## Save model\n",
        "Finally, we save the model to disk for later usage."
      ]
    },
    {
      "cell_type": "code",
      "execution_count": null,
      "metadata": {
        "id": "JqUfAyzjOcwp",
        "outputId": "ee5fcb46-9953-4659-a131-d5e9c8d356ac"
      },
      "outputs": [
        {
          "data": {
            "text/plain": [
              "('gpt2-imdb-pos/vocab.json',\n",
              " 'gpt2-imdb-pos/merges.txt',\n",
              " 'gpt2-imdb-pos/special_tokens_map.json',\n",
              " 'gpt2-imdb-pos/added_tokens.json')"
            ]
          },
          "execution_count": null,
          "metadata": {},
          "output_type": "execute_result"
        }
      ],
      "source": [
        "os.makedirs('gpt2-imdb-pos')\n",
        "gpt2_model.save_pretrained('gpt2-imdb-pos')\n",
        "gpt2_tokenizer.save_pretrained('gpt2-imdb-pos')"
      ]
    },
    {
      "cell_type": "code",
      "execution_count": null,
      "metadata": {
        "id": "toahL9oeOcwp"
      },
      "outputs": [],
      "source": [
        ""
      ]
    }
  ],
  "metadata": {
    "kernelspec": {
      "display_name": "Python 3 (ipykernel)",
      "language": "python",
      "name": "python3"
    },
    "language_info": {
      "codemirror_mode": {
        "name": "ipython",
        "version": 3
      },
      "file_extension": ".py",
      "mimetype": "text/x-python",
      "name": "python",
      "nbconvert_exporter": "python",
      "pygments_lexer": "ipython3",
      "version": "3.9.1"
    },
    "colab": {
      "name": "03-writing-prompts-rlhf.ipynb",
      "provenance": [],
      "machine_shape": "hm",
      "background_execution": "on"
    },
    "widgets": {
      "application/vnd.jupyter.widget-state+json": {
        "989c2fcfcf0f4081a3e20978533cf701": {
          "model_module": "@jupyter-widgets/controls",
          "model_name": "VBoxModel",
          "model_module_version": "1.5.0",
          "state": {
            "_dom_classes": [],
            "_model_module": "@jupyter-widgets/controls",
            "_model_module_version": "1.5.0",
            "_model_name": "VBoxModel",
            "_view_count": null,
            "_view_module": "@jupyter-widgets/controls",
            "_view_module_version": "1.5.0",
            "_view_name": "VBoxView",
            "box_style": "",
            "children": [
              "IPY_MODEL_b0d15cc3bb0c4d23b8b50dbe437bf69e",
              "IPY_MODEL_49b238d5535549098b75894c15e3a689",
              "IPY_MODEL_461cd07328f34faeb8cc9d7a58ce7319",
              "IPY_MODEL_a3eda557535e467fa63fd15c4e8b6430",
              "IPY_MODEL_91486bfb7b574fed98b526ca41c1cd82"
            ],
            "layout": "IPY_MODEL_43a0ee33ddce45f287bdd3d344bdc499"
          }
        },
        "b0d15cc3bb0c4d23b8b50dbe437bf69e": {
          "model_module": "@jupyter-widgets/controls",
          "model_name": "HTMLModel",
          "model_module_version": "1.5.0",
          "state": {
            "_dom_classes": [],
            "_model_module": "@jupyter-widgets/controls",
            "_model_module_version": "1.5.0",
            "_model_name": "HTMLModel",
            "_view_count": null,
            "_view_module": "@jupyter-widgets/controls",
            "_view_module_version": "1.5.0",
            "_view_name": "HTMLView",
            "description": "",
            "description_tooltip": null,
            "layout": "IPY_MODEL_a3bfaead5ac644c5aee26bcc7a627349",
            "placeholder": "​",
            "style": "IPY_MODEL_0c3a54184d1a4cc6af9498a8e34434e6",
            "value": "<center> <img\nsrc=https://huggingface.co/front/assets/huggingface_logo-noborder.svg\nalt='Hugging Face'> <br> Copy a token from <a\nhref=\"https://huggingface.co/settings/tokens\" target=\"_blank\">your Hugging Face\ntokens page</a> and paste it below. <br> Immediately click login after copying\nyour token or it might be stored in plain text in this notebook file. </center>"
          }
        },
        "49b238d5535549098b75894c15e3a689": {
          "model_module": "@jupyter-widgets/controls",
          "model_name": "PasswordModel",
          "model_module_version": "1.5.0",
          "state": {
            "_dom_classes": [],
            "_model_module": "@jupyter-widgets/controls",
            "_model_module_version": "1.5.0",
            "_model_name": "PasswordModel",
            "_view_count": null,
            "_view_module": "@jupyter-widgets/controls",
            "_view_module_version": "1.5.0",
            "_view_name": "PasswordView",
            "continuous_update": true,
            "description": "Token:",
            "description_tooltip": null,
            "disabled": false,
            "layout": "IPY_MODEL_a84c3452b40042398fe827054e67f286",
            "placeholder": "​",
            "style": "IPY_MODEL_a56ec9e0ae964147a37686e6a1158584",
            "value": ""
          }
        },
        "461cd07328f34faeb8cc9d7a58ce7319": {
          "model_module": "@jupyter-widgets/controls",
          "model_name": "ButtonModel",
          "model_module_version": "1.5.0",
          "state": {
            "_dom_classes": [],
            "_model_module": "@jupyter-widgets/controls",
            "_model_module_version": "1.5.0",
            "_model_name": "ButtonModel",
            "_view_count": null,
            "_view_module": "@jupyter-widgets/controls",
            "_view_module_version": "1.5.0",
            "_view_name": "ButtonView",
            "button_style": "",
            "description": "Login",
            "disabled": false,
            "icon": "",
            "layout": "IPY_MODEL_2c85f301870f4681b39d66a18728a74d",
            "style": "IPY_MODEL_588c7a00dd0e46e6878facd71fd9d82a",
            "tooltip": ""
          }
        },
        "a3eda557535e467fa63fd15c4e8b6430": {
          "model_module": "@jupyter-widgets/controls",
          "model_name": "HTMLModel",
          "model_module_version": "1.5.0",
          "state": {
            "_dom_classes": [],
            "_model_module": "@jupyter-widgets/controls",
            "_model_module_version": "1.5.0",
            "_model_name": "HTMLModel",
            "_view_count": null,
            "_view_module": "@jupyter-widgets/controls",
            "_view_module_version": "1.5.0",
            "_view_name": "HTMLView",
            "description": "",
            "description_tooltip": null,
            "layout": "IPY_MODEL_4c8061b232b74ec89104ee1c8b316de5",
            "placeholder": "​",
            "style": "IPY_MODEL_bcabaae178f840d5a48d3f6c7aa150f9",
            "value": "\n<b>Pro Tip:</b> If you don't already have one, you can create a dedicated\n'notebooks' token with 'write' access, that you can then easily reuse for all\nnotebooks. <br> <i>Logging in with your username and password is deprecated and\nwon't be possible anymore in the near future. You can still use them for now by\nclicking below.</i> </center>"
          }
        },
        "91486bfb7b574fed98b526ca41c1cd82": {
          "model_module": "@jupyter-widgets/controls",
          "model_name": "ButtonModel",
          "model_module_version": "1.5.0",
          "state": {
            "_dom_classes": [],
            "_model_module": "@jupyter-widgets/controls",
            "_model_module_version": "1.5.0",
            "_model_name": "ButtonModel",
            "_view_count": null,
            "_view_module": "@jupyter-widgets/controls",
            "_view_module_version": "1.5.0",
            "_view_name": "ButtonView",
            "button_style": "",
            "description": "Use password",
            "disabled": false,
            "icon": "",
            "layout": "IPY_MODEL_4565f905f62c4cab802f4fe924d1f491",
            "style": "IPY_MODEL_a2204671658045df8598314b0e096845",
            "tooltip": ""
          }
        },
        "43a0ee33ddce45f287bdd3d344bdc499": {
          "model_module": "@jupyter-widgets/base",
          "model_name": "LayoutModel",
          "model_module_version": "1.2.0",
          "state": {
            "_model_module": "@jupyter-widgets/base",
            "_model_module_version": "1.2.0",
            "_model_name": "LayoutModel",
            "_view_count": null,
            "_view_module": "@jupyter-widgets/base",
            "_view_module_version": "1.2.0",
            "_view_name": "LayoutView",
            "align_content": null,
            "align_items": "center",
            "align_self": null,
            "border": null,
            "bottom": null,
            "display": "flex",
            "flex": null,
            "flex_flow": "column",
            "grid_area": null,
            "grid_auto_columns": null,
            "grid_auto_flow": null,
            "grid_auto_rows": null,
            "grid_column": null,
            "grid_gap": null,
            "grid_row": null,
            "grid_template_areas": null,
            "grid_template_columns": null,
            "grid_template_rows": null,
            "height": null,
            "justify_content": null,
            "justify_items": null,
            "left": null,
            "margin": null,
            "max_height": null,
            "max_width": null,
            "min_height": null,
            "min_width": null,
            "object_fit": null,
            "object_position": null,
            "order": null,
            "overflow": null,
            "overflow_x": null,
            "overflow_y": null,
            "padding": null,
            "right": null,
            "top": null,
            "visibility": null,
            "width": "50%"
          }
        },
        "a3bfaead5ac644c5aee26bcc7a627349": {
          "model_module": "@jupyter-widgets/base",
          "model_name": "LayoutModel",
          "model_module_version": "1.2.0",
          "state": {
            "_model_module": "@jupyter-widgets/base",
            "_model_module_version": "1.2.0",
            "_model_name": "LayoutModel",
            "_view_count": null,
            "_view_module": "@jupyter-widgets/base",
            "_view_module_version": "1.2.0",
            "_view_name": "LayoutView",
            "align_content": null,
            "align_items": null,
            "align_self": null,
            "border": null,
            "bottom": null,
            "display": null,
            "flex": null,
            "flex_flow": null,
            "grid_area": null,
            "grid_auto_columns": null,
            "grid_auto_flow": null,
            "grid_auto_rows": null,
            "grid_column": null,
            "grid_gap": null,
            "grid_row": null,
            "grid_template_areas": null,
            "grid_template_columns": null,
            "grid_template_rows": null,
            "height": null,
            "justify_content": null,
            "justify_items": null,
            "left": null,
            "margin": null,
            "max_height": null,
            "max_width": null,
            "min_height": null,
            "min_width": null,
            "object_fit": null,
            "object_position": null,
            "order": null,
            "overflow": null,
            "overflow_x": null,
            "overflow_y": null,
            "padding": null,
            "right": null,
            "top": null,
            "visibility": null,
            "width": null
          }
        },
        "0c3a54184d1a4cc6af9498a8e34434e6": {
          "model_module": "@jupyter-widgets/controls",
          "model_name": "DescriptionStyleModel",
          "model_module_version": "1.5.0",
          "state": {
            "_model_module": "@jupyter-widgets/controls",
            "_model_module_version": "1.5.0",
            "_model_name": "DescriptionStyleModel",
            "_view_count": null,
            "_view_module": "@jupyter-widgets/base",
            "_view_module_version": "1.2.0",
            "_view_name": "StyleView",
            "description_width": ""
          }
        },
        "a84c3452b40042398fe827054e67f286": {
          "model_module": "@jupyter-widgets/base",
          "model_name": "LayoutModel",
          "model_module_version": "1.2.0",
          "state": {
            "_model_module": "@jupyter-widgets/base",
            "_model_module_version": "1.2.0",
            "_model_name": "LayoutModel",
            "_view_count": null,
            "_view_module": "@jupyter-widgets/base",
            "_view_module_version": "1.2.0",
            "_view_name": "LayoutView",
            "align_content": null,
            "align_items": null,
            "align_self": null,
            "border": null,
            "bottom": null,
            "display": null,
            "flex": null,
            "flex_flow": null,
            "grid_area": null,
            "grid_auto_columns": null,
            "grid_auto_flow": null,
            "grid_auto_rows": null,
            "grid_column": null,
            "grid_gap": null,
            "grid_row": null,
            "grid_template_areas": null,
            "grid_template_columns": null,
            "grid_template_rows": null,
            "height": null,
            "justify_content": null,
            "justify_items": null,
            "left": null,
            "margin": null,
            "max_height": null,
            "max_width": null,
            "min_height": null,
            "min_width": null,
            "object_fit": null,
            "object_position": null,
            "order": null,
            "overflow": null,
            "overflow_x": null,
            "overflow_y": null,
            "padding": null,
            "right": null,
            "top": null,
            "visibility": null,
            "width": null
          }
        },
        "a56ec9e0ae964147a37686e6a1158584": {
          "model_module": "@jupyter-widgets/controls",
          "model_name": "DescriptionStyleModel",
          "model_module_version": "1.5.0",
          "state": {
            "_model_module": "@jupyter-widgets/controls",
            "_model_module_version": "1.5.0",
            "_model_name": "DescriptionStyleModel",
            "_view_count": null,
            "_view_module": "@jupyter-widgets/base",
            "_view_module_version": "1.2.0",
            "_view_name": "StyleView",
            "description_width": ""
          }
        },
        "2c85f301870f4681b39d66a18728a74d": {
          "model_module": "@jupyter-widgets/base",
          "model_name": "LayoutModel",
          "model_module_version": "1.2.0",
          "state": {
            "_model_module": "@jupyter-widgets/base",
            "_model_module_version": "1.2.0",
            "_model_name": "LayoutModel",
            "_view_count": null,
            "_view_module": "@jupyter-widgets/base",
            "_view_module_version": "1.2.0",
            "_view_name": "LayoutView",
            "align_content": null,
            "align_items": null,
            "align_self": null,
            "border": null,
            "bottom": null,
            "display": null,
            "flex": null,
            "flex_flow": null,
            "grid_area": null,
            "grid_auto_columns": null,
            "grid_auto_flow": null,
            "grid_auto_rows": null,
            "grid_column": null,
            "grid_gap": null,
            "grid_row": null,
            "grid_template_areas": null,
            "grid_template_columns": null,
            "grid_template_rows": null,
            "height": null,
            "justify_content": null,
            "justify_items": null,
            "left": null,
            "margin": null,
            "max_height": null,
            "max_width": null,
            "min_height": null,
            "min_width": null,
            "object_fit": null,
            "object_position": null,
            "order": null,
            "overflow": null,
            "overflow_x": null,
            "overflow_y": null,
            "padding": null,
            "right": null,
            "top": null,
            "visibility": null,
            "width": null
          }
        },
        "588c7a00dd0e46e6878facd71fd9d82a": {
          "model_module": "@jupyter-widgets/controls",
          "model_name": "ButtonStyleModel",
          "model_module_version": "1.5.0",
          "state": {
            "_model_module": "@jupyter-widgets/controls",
            "_model_module_version": "1.5.0",
            "_model_name": "ButtonStyleModel",
            "_view_count": null,
            "_view_module": "@jupyter-widgets/base",
            "_view_module_version": "1.2.0",
            "_view_name": "StyleView",
            "button_color": null,
            "font_weight": ""
          }
        },
        "4c8061b232b74ec89104ee1c8b316de5": {
          "model_module": "@jupyter-widgets/base",
          "model_name": "LayoutModel",
          "model_module_version": "1.2.0",
          "state": {
            "_model_module": "@jupyter-widgets/base",
            "_model_module_version": "1.2.0",
            "_model_name": "LayoutModel",
            "_view_count": null,
            "_view_module": "@jupyter-widgets/base",
            "_view_module_version": "1.2.0",
            "_view_name": "LayoutView",
            "align_content": null,
            "align_items": null,
            "align_self": null,
            "border": null,
            "bottom": null,
            "display": null,
            "flex": null,
            "flex_flow": null,
            "grid_area": null,
            "grid_auto_columns": null,
            "grid_auto_flow": null,
            "grid_auto_rows": null,
            "grid_column": null,
            "grid_gap": null,
            "grid_row": null,
            "grid_template_areas": null,
            "grid_template_columns": null,
            "grid_template_rows": null,
            "height": null,
            "justify_content": null,
            "justify_items": null,
            "left": null,
            "margin": null,
            "max_height": null,
            "max_width": null,
            "min_height": null,
            "min_width": null,
            "object_fit": null,
            "object_position": null,
            "order": null,
            "overflow": null,
            "overflow_x": null,
            "overflow_y": null,
            "padding": null,
            "right": null,
            "top": null,
            "visibility": null,
            "width": null
          }
        },
        "bcabaae178f840d5a48d3f6c7aa150f9": {
          "model_module": "@jupyter-widgets/controls",
          "model_name": "DescriptionStyleModel",
          "model_module_version": "1.5.0",
          "state": {
            "_model_module": "@jupyter-widgets/controls",
            "_model_module_version": "1.5.0",
            "_model_name": "DescriptionStyleModel",
            "_view_count": null,
            "_view_module": "@jupyter-widgets/base",
            "_view_module_version": "1.2.0",
            "_view_name": "StyleView",
            "description_width": ""
          }
        },
        "4565f905f62c4cab802f4fe924d1f491": {
          "model_module": "@jupyter-widgets/base",
          "model_name": "LayoutModel",
          "model_module_version": "1.2.0",
          "state": {
            "_model_module": "@jupyter-widgets/base",
            "_model_module_version": "1.2.0",
            "_model_name": "LayoutModel",
            "_view_count": null,
            "_view_module": "@jupyter-widgets/base",
            "_view_module_version": "1.2.0",
            "_view_name": "LayoutView",
            "align_content": null,
            "align_items": null,
            "align_self": null,
            "border": null,
            "bottom": null,
            "display": null,
            "flex": null,
            "flex_flow": null,
            "grid_area": null,
            "grid_auto_columns": null,
            "grid_auto_flow": null,
            "grid_auto_rows": null,
            "grid_column": null,
            "grid_gap": null,
            "grid_row": null,
            "grid_template_areas": null,
            "grid_template_columns": null,
            "grid_template_rows": null,
            "height": null,
            "justify_content": null,
            "justify_items": null,
            "left": null,
            "margin": null,
            "max_height": null,
            "max_width": null,
            "min_height": null,
            "min_width": null,
            "object_fit": null,
            "object_position": null,
            "order": null,
            "overflow": null,
            "overflow_x": null,
            "overflow_y": null,
            "padding": null,
            "right": null,
            "top": null,
            "visibility": null,
            "width": null
          }
        },
        "a2204671658045df8598314b0e096845": {
          "model_module": "@jupyter-widgets/controls",
          "model_name": "ButtonStyleModel",
          "model_module_version": "1.5.0",
          "state": {
            "_model_module": "@jupyter-widgets/controls",
            "_model_module_version": "1.5.0",
            "_model_name": "ButtonStyleModel",
            "_view_count": null,
            "_view_module": "@jupyter-widgets/base",
            "_view_module_version": "1.2.0",
            "_view_name": "StyleView",
            "button_color": null,
            "font_weight": ""
          }
        }
      }
    },
    "accelerator": "GPU"
  },
  "nbformat": 4,
  "nbformat_minor": 0
}